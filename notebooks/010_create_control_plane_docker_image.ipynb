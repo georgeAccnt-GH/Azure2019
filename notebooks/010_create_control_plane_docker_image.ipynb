{
 "cells": [
  {
   "cell_type": "markdown",
   "metadata": {},
   "source": [
    "#### Azure Batch Shipyard devito "
   ]
  },
  {
   "cell_type": "code",
   "execution_count": 1,
   "metadata": {},
   "outputs": [],
   "source": [
    "# Allow multiple displays per cell\n",
    "from IPython.core.interactiveshell import InteractiveShell\n",
    "InteractiveShell.ast_node_interactivity = \"all\""
   ]
  },
  {
   "cell_type": "code",
   "execution_count": 2,
   "metadata": {},
   "outputs": [],
   "source": [
    "not_shared_dir_list = ['.', 'not_shared']\n",
    "DOTENV_FILE_PATH = not_shared_dir_list + ['general.env']\n",
    "SIBLING_DOCKER_DOTENV_FILE_PATH = not_shared_dir_list + ['sibling_docker.env']\n",
    "\n",
    "SSH_KEYS_FILE_PATH = not_shared_dir_list + ['azuredevitogatechssh']\n",
    "ssh_key_file_name = 'id_rsa' #'devito-slim-key-rsa'\n",
    "\n",
    "docker_file_location = 'docker_files'\n",
    "docker_build_location = 'docker_build'\n",
    "docker_build_no_cache = ''  # '--no-cache' # or '' #\n",
    "\n",
    "control_plane_docker_image_name = \"azure_batch_shipyard_devito\"\n",
    "control_plane_docker_image_tag = \"\"\n",
    "\n",
    "azure_batch_shipyard_devito_base_image_name = 'devito_azure_base:v1.0'\n",
    "azure_batch_shipyard_devito_tti_image_name = 'devito_azure_tti:v1.0'\n",
    "\n",
    "az_cli_container = \"azure_cli_container01\"\n",
    "signed_in_az_cli_image = 'new_az_cli_image'\n",
    "\n",
    "\n",
    "use_ACR_and_dockerhub = True"
   ]
  },
  {
   "cell_type": "code",
   "execution_count": 3,
   "metadata": {},
   "outputs": [],
   "source": [
    "import sys, os, pathlib, shutil\n",
    "import platform,  dotenv\n",
    "import subprocess"
   ]
  },
  {
   "cell_type": "code",
   "execution_count": 4,
   "metadata": {},
   "outputs": [
    {
     "data": {
      "text/plain": [
       "'Linux-4.15.0-1082-azure-x86_64-with-debian-10.3'"
      ]
     },
     "execution_count": 4,
     "metadata": {},
     "output_type": "execute_result"
    },
    {
     "data": {
      "text/plain": [
       "'/workspace/notebooks'"
      ]
     },
     "execution_count": 4,
     "metadata": {},
     "output_type": "execute_result"
    }
   ],
   "source": [
    "platform.platform()\n",
    "os.getcwd()"
   ]
  },
  {
   "cell_type": "code",
   "execution_count": 5,
   "metadata": {},
   "outputs": [
    {
     "data": {
      "text/plain": [
       "'./not_shared/general.env'"
      ]
     },
     "execution_count": 5,
     "metadata": {},
     "output_type": "execute_result"
    },
    {
     "data": {
      "text/plain": [
       "'./not_shared/sibling_docker.env'"
      ]
     },
     "execution_count": 5,
     "metadata": {},
     "output_type": "execute_result"
    }
   ],
   "source": [
    "def create_dot_env_file(dotenv_file_path_list):\n",
    "    created_dotenv_file_path = os.path.join(*(dotenv_file_path_list)) \n",
    "    os.makedirs(os.path.join(*(dotenv_file_path_list[:-1])), exist_ok=True)\n",
    "    pathlib.Path(created_dotenv_file_path).touch()\n",
    "    return created_dotenv_file_path\n",
    "\n",
    "dotenv_file_path = create_dot_env_file(DOTENV_FILE_PATH)\n",
    "sibling_docker_dotenv_file_path = create_dot_env_file(SIBLING_DOCKER_DOTENV_FILE_PATH)\n",
    "\n",
    "# # show .env file path\n",
    "# !pwd\n",
    "dotenv_file_path\n",
    "sibling_docker_dotenv_file_path"
   ]
  },
  {
   "cell_type": "markdown",
   "metadata": {},
   "source": [
    "Save your sensitive info"
   ]
  },
  {
   "cell_type": "code",
   "execution_count": 6,
   "metadata": {},
   "outputs": [],
   "source": [
    "ACR_NAME=\"fwi01acr\"\n",
    "ACR_PASSWORD=\"\"\n",
    "ACR_USERNAME=\"fwi01acr\"\n",
    "\n",
    "dockerhub_login = \"georgedockeraccount\"\n",
    "dockerhub_pwd = \"\"\n",
    "\n",
    "SUBSCRIPTION_ID=\"\"\n",
    "\n",
    "docker_container_mount_point = os.getcwd()"
   ]
  },
  {
   "cell_type": "code",
   "execution_count": 7,
   "metadata": {},
   "outputs": [],
   "source": [
    "# dotenv.set_key(dotenv_file_path, 'ACR_NAME', ACR_NAME)\n",
    "# dotenv.set_key(dotenv_file_path, 'ACR_PASSWORD', ACR_PASSWORD)\n",
    "# dotenv.set_key(dotenv_file_path, 'ACR_USERNAME', ACR_USERNAME)\n",
    "\n",
    "# dotenv.set_key(dotenv_file_path, 'DOCKERHUB_LOGIN', dockerhub_login)\n",
    "# dotenv.set_key(dotenv_file_path, 'DOCKERHUB_PWD', dockerhub_pwd)\n",
    "\n",
    "# dotenv.set_key(dotenv_file_path, 'SUBSCRIPTION_ID', SUBSCRIPTION_ID)\n",
    "\n",
    "# dotenv.set_key(dotenv_file_path,'control_plane_docker_image_name', control_plane_docker_image_name)\n",
    "# dotenv.set_key(dotenv_file_path,'control_plane_docker_image_tag', control_plane_docker_image_tag)\n",
    "\n",
    "# dotenv.set_key(sibling_docker_dotenv_file_path, 'DOCKER_CONTAINER_MOUNT_POINT', docker_container_mount_point)"
   ]
  },
  {
   "cell_type": "code",
   "execution_count": 8,
   "metadata": {},
   "outputs": [
    {
     "data": {
      "text/plain": [
       "True"
      ]
     },
     "execution_count": 8,
     "metadata": {},
     "output_type": "execute_result"
    },
    {
     "data": {
      "text/plain": [
       "'fwi01acr.azurecr.io/azure_batch_shipyard_devito'"
      ]
     },
     "execution_count": 8,
     "metadata": {},
     "output_type": "execute_result"
    },
    {
     "data": {
      "text/plain": [
       "'/workspace/notebooks/docker_files'"
      ]
     },
     "execution_count": 8,
     "metadata": {},
     "output_type": "execute_result"
    },
    {
     "data": {
      "text/plain": [
       "'/workspace/notebooks/docker_files/Dockerfile_azure_batch_shipyard_devito'"
      ]
     },
     "execution_count": 8,
     "metadata": {},
     "output_type": "execute_result"
    },
    {
     "data": {
      "text/plain": [
       "'/workspace/notebooks/docker_build'"
      ]
     },
     "execution_count": 8,
     "metadata": {},
     "output_type": "execute_result"
    },
    {
     "data": {
      "text/plain": [
       "'/workspace/notebooks/./not_shared/azuredevitogatechssh'"
      ]
     },
     "execution_count": 8,
     "metadata": {},
     "output_type": "execute_result"
    }
   ],
   "source": [
    "dotenv.load_dotenv(dotenv_path=dotenv_file_path)\n",
    "docker_file_location = os.path.join(*(os.getcwd(), docker_file_location))\n",
    "\n",
    "docker_file_name = 'Dockerfile'+ '_' + os.getenv('control_plane_docker_image_name')\n",
    "\n",
    "docker_image_name_only = os.getenv('control_plane_docker_image_name')\n",
    "image_version = os.getenv('control_plane_docker_image_tag')\n",
    "if image_version!=\"\":\n",
    "    docker_file_name = docker_file_name +'_'+ image_version\n",
    "    docker_image_name_only = docker_image_name_only +':'+ image_version\n",
    "\n",
    "# docker_repo_name = os.getenv('DOCKERHUB_LOGIN') # or  \n",
    "docker_repo_name = os.getenv('ACR_NAME')+'.azurecr.io' \n",
    "docker_image_name = docker_repo_name + '/' + docker_image_name_only\n",
    "\n",
    "\n",
    "docker_file_dir = os.path.join(*([os.getcwd(), docker_file_location]))\n",
    "os.makedirs(docker_file_dir, exist_ok=True)\n",
    "docker_file_path = os.path.join(*([docker_file_dir]+[docker_file_name]))\n",
    "\n",
    "docker_build_dir = os.path.join(*([os.getcwd(), docker_build_location]))\n",
    "os.makedirs(docker_build_dir, exist_ok=True)\n",
    "\n",
    "ssh_keys_file_dir = os.path.join(*([os.getcwd()]+ SSH_KEYS_FILE_PATH))\n",
    "os.makedirs(ssh_keys_file_dir, exist_ok=True)\n",
    "\n",
    "docker_image_name\n",
    "docker_file_dir\n",
    "docker_file_path\n",
    "docker_build_dir\n",
    "ssh_keys_file_dir"
   ]
  },
  {
   "cell_type": "code",
   "execution_count": 9,
   "metadata": {},
   "outputs": [
    {
     "data": {
      "text/plain": [
       "True"
      ]
     },
     "execution_count": 9,
     "metadata": {},
     "output_type": "execute_result"
    },
    {
     "data": {
      "text/plain": [
       "'/datadrive01/prj/Azure2019/notebooks'"
      ]
     },
     "execution_count": 9,
     "metadata": {},
     "output_type": "execute_result"
    }
   ],
   "source": [
    "dotenv.load_dotenv(dotenv_path=sibling_docker_dotenv_file_path)\n",
    "os.getenv('DOCKER_CONTAINER_MOUNT_POINT')"
   ]
  },
  {
   "cell_type": "markdown",
   "metadata": {},
   "source": [
    "###### Generate local ssh keys (if needed)"
   ]
  },
  {
   "cell_type": "code",
   "execution_count": 10,
   "metadata": {},
   "outputs": [
    {
     "data": {
      "text/plain": [
       "'/workspace/notebooks/./not_shared/azuredevitogatechssh/id_rsa'"
      ]
     },
     "execution_count": 10,
     "metadata": {},
     "output_type": "execute_result"
    },
    {
     "name": "stdout",
     "output_type": "stream",
     "text": [
      "-rwxrwxrwx 1 root root 743 Mar 13 22:55 /workspace/notebooks/./not_shared/azuredevitogatechssh/id_rsa.pub\r\n"
     ]
    }
   ],
   "source": [
    "ssh_key_name_full = os.path.join(*([ssh_keys_file_dir]+ [ssh_key_file_name])) \n",
    "ssh_key_name_full\n",
    "\n",
    "pub_ssh_key_name_full = ssh_key_name_full+'.pub'\n",
    "! ls -la $pub_ssh_key_name_full "
   ]
  },
  {
   "cell_type": "code",
   "execution_count": 11,
   "metadata": {},
   "outputs": [
    {
     "name": "stdout",
     "output_type": "stream",
     "text": [
      "Found ssh key (/workspace/notebooks/./not_shared/azuredevitogatechssh/id_rsa), will use it\n",
      "total 28\n",
      "drwxrwxrwx 3 root root 4096 Mar 23 22:42 .\n",
      "drwxrwxrwx 5 1003 1003 4096 Mar 27 02:46 ..\n",
      "drwxrwxrwx 2 root root 4096 Mar 13 22:29 .ipynb_checkpoints\n",
      "-rw-rw-r-- 1 1003 1003 1823 Mar 23 22:42 azuredevitogatechsshkey\n",
      "-rw-rw-r-- 1 1003 1003  399 Mar 23 22:42 azuredevitogatechsshkey.pub\n",
      "-rwxrwxrwx 1 root root 3381 Mar 13 22:55 id_rsa\n",
      "-rwxrwxrwx 1 root root  743 Mar 13 22:55 id_rsa.pub\n"
     ]
    }
   ],
   "source": [
    "if not (os.path.exists(ssh_key_name_full)):\n",
    "    print('No ssh key ('+ssh_key_name_full+') found, wil generate a new pair ')\n",
    "    cli_command = 'ssh-keygen -t rsa -b 4096 -f '+ssh_key_name_full + ' -q -N \"\"'\n",
    "    cli_command\n",
    "    !$cli_command\n",
    "else:\n",
    "    print('Found ssh key ('+ssh_key_name_full+'), will use it')  \n",
    "\n",
    "!ls -la $ssh_keys_file_dir    "
   ]
  },
  {
   "cell_type": "markdown",
   "metadata": {},
   "source": [
    "##### Pull existing docker image from ACR, if available\n",
    "[mcr.microsoft.com/azure-cli](https://github.com/Azure/azure-cli/blob/dev/Dockerfile) is based on alpine, so we need to install docker inside it"
   ]
  },
  {
   "cell_type": "code",
   "execution_count": 12,
   "metadata": {},
   "outputs": [
    {
     "name": "stdout",
     "output_type": "stream",
     "text": [
      "Error: No such container: azure_cli_container01\r\n"
     ]
    }
   ],
   "source": [
    "!docker rm -f $az_cli_container"
   ]
  },
  {
   "cell_type": "code",
   "execution_count": null,
   "metadata": {},
   "outputs": [],
   "source": [
    "cli_base_command='docker run '+ \\\n",
    "'-it '+ \\\n",
    "'--name ' + az_cli_container+ ' ' + \\\n",
    "'mcr.microsoft.com/azure-cli '+ \\\n",
    "'/bin/bash  -c ' \n",
    "internal_command = '\"'+ \\\n",
    "'apk update && apk add --update --no-cache  openrc docker-cli docker; '+ \\\n",
    "'rc-update add docker boot; '+ \\\n",
    "' az login; '+ \\\n",
    "' az account set --subscription '+os.getenv('SUBSCRIPTION_ID')+ '; '+ \\\n",
    "' az account list -o table; '+\\\n",
    "'\"'\n",
    "\n",
    "cli_command = cli_base_command+internal_command\n",
    "\n",
    "cli_command\n",
    "!$cli_command"
   ]
  },
  {
   "cell_type": "code",
   "execution_count": 37,
   "metadata": {},
   "outputs": [
    {
     "name": "stdout",
     "output_type": "stream",
     "text": [
      "CONTAINER ID        IMAGE                    COMMAND                  CREATED             STATUS                   PORTS                     NAMES\r\n",
      "9762361c1f88        new_az_cli_image         \"/bin/bash -c ' : az…\"   2 hours ago         Exited (0) 2 hours ago                             azure_cli_container01\r\n",
      "ee684ad6c5f5        continuumio/miniconda3   \"/bin/bash -c 'expor…\"   4 hours ago         Up 4 hours               0.0.0.0:10001->8888/tcp   miniconda3_container01\r\n"
     ]
    }
   ],
   "source": [
    "# mcr.microsoft.com/azure-cli container was sarted without rm option so it should show up as stopped\n",
    "!docker container ls -a"
   ]
  },
  {
   "cell_type": "code",
   "execution_count": 38,
   "metadata": {},
   "outputs": [
    {
     "name": "stdout",
     "output_type": "stream",
     "text": [
      "sha256:2f1747abb1a4e9f2883746bf6f7fc2ad66faa53077c2303a79adccf3951fb05d\n",
      "azure_cli_container01\n"
     ]
    }
   ],
   "source": [
    "!docker commit $az_cli_container $signed_in_az_cli_image\n",
    "!docker rm -f $az_cli_container"
   ]
  },
  {
   "cell_type": "code",
   "execution_count": 39,
   "metadata": {},
   "outputs": [
    {
     "name": "stdout",
     "output_type": "stream",
     "text": [
      "Login Succeeded\n",
      "\u001b[33mWARNING! Your password will be stored unencrypted in /root/.docker/config.json.\n",
      "Configure a credential helper to remove this warning. See\n",
      "https://docs.docker.com/engine/reference/commandline/login/#credentials-store\u001b[0m\n",
      "\u001b[0mUsing default tag: latest\n",
      "latest: Pulling from azure_batch_shipyard_devito\n",
      "Digest: sha256:1fec8f4143767be6dd0c56ccf70f4c85d6b8e5b90e16bb1a09ce1990bb83ab79\n",
      "Status: Image is up to date for fwi01acr.azurecr.io/azure_batch_shipyard_devito:latest\n",
      "fwi01acr.azurecr.io/azure_batch_shipyard_devito:latest\n"
     ]
    }
   ],
   "source": [
    "cli_base_command=' docker run ' +\\\n",
    "'-it '+\\\n",
    "'--name ' + az_cli_container+ ' ' + \\\n",
    "'-v '+ os.getenv('DOCKER_CONTAINER_MOUNT_POINT') +'/../:/workspace:rw '+ \\\n",
    "'-v /var/run/docker.sock:/var/run/docker.sock '+ \\\n",
    "signed_in_az_cli_image+ ' '+\\\n",
    "'/bin/bash  -c ' \n",
    "\n",
    "internal_command = '\"'+ \\\n",
    "' : az account list -o table; '+\\\n",
    "'az acr login --name '+os.getenv('ACR_NAME')+ \\\n",
    "' --username '+os.getenv('ACR_USERNAME')+ \\\n",
    "' --password ' + os.getenv('ACR_PASSWORD')+'; '+\\\n",
    "'docker pull '+docker_image_name+'; '+\\\n",
    "'\"'\n",
    "\n",
    "cli_command = cli_base_command+internal_command\n",
    "\n",
    "# cli_command\n",
    "!$cli_command"
   ]
  },
  {
   "cell_type": "markdown",
   "metadata": {},
   "source": [
    "Dockerfile references:  \n",
    "https://github.com/Azure/batch-shipyard/blob/master/images/docker/linux/cli/Dockerfile  \n",
    "https://github.com/matsuu/docker-azure-cli/blob/master/Dockerfile  \n",
    "https://github.com/Azure/azure-cli/blob/dev/Dockerfile  \n",
    "https://github.com/Azure/azure-functions-core-tools#other-linux-distributions  "
   ]
  },
  {
   "cell_type": "code",
   "execution_count": 40,
   "metadata": {},
   "outputs": [
    {
     "name": "stdout",
     "output_type": "stream",
     "text": [
      "Overwriting /workspace/notebooks/docker_files/Dockerfile_azure_batch_shipyard_devito\n"
     ]
    }
   ],
   "source": [
    "%%writefile $docker_file_path \n",
    "\n",
    "# https://hub.docker.com/r/microsoft/azure-cli/dockerfile   \n",
    "FROM debian:latest \n",
    "MAINTAINER George Iordanescu <ghiordan@microsoft.com>\n",
    "\n",
    "# https://github.com/Azure/batch-shipyard/blob/master/images/docker/linux/cli/Dockerfile\n",
    "# https://github.com/Azure/batch-shipyard/blob/master/cargo/Dockerfile\n",
    "RUN apt-get update --fix-missing && apt-get install -y --no-install-recommends \\\n",
    "    python3 python3-pip python3-setuptools \\\n",
    "    ca-certificates curl apt-transport-https lsb-release gnupg openssh-client openssh-server \\\n",
    "    zip unzip \\\n",
    "    wget rsync git && \\\n",
    "    apt-get clean && \\\n",
    "    rm -rf /var/lib/apt/lists/*   && \\\n",
    "    git clone https://github.com/Azure/batch-shipyard.git /opt/batch-shipyard && \\\n",
    "    cd /opt/batch-shipyard && \\\n",
    "    rm -rf .git .github .vsts && \\\n",
    "    rm -f .git* .travis.yml *.yml install*  && \\\n",
    "    python3 -m pip install --no-cache-dir --upgrade pip  && \\\n",
    "    pip3 install --no-cache-dir -r requirements.txt  && \\\n",
    "    pip3 install --no-cache-dir --no-deps -r req_nodeps.txt && \\\n",
    "    python3 -m compileall -f /opt/batch-shipyard/shipyard.py /opt/batch-shipyard/convoy \n",
    "# ENTRYPOINT [\"/opt/batch-shipyard/shipyard.py\"]\n",
    "\n",
    "# https://docs.microsoft.com/en-us/cli/azure/install-azure-cli-apt?view=azure-cli-latest#no-package-for-your-distribution\n",
    "# ENV AZ_CLI_REPO=stretch   \n",
    "RUN echo \"deb [arch=amd64] https://packages.microsoft.com/repos/azure-cli/ $(lsb_release -sc) main\" | \\\n",
    "    tee /etc/apt/sources.list.d/azure-cli.list && \\\n",
    "    curl -L https://packages.microsoft.com/keys/microsoft.asc | apt-key add - && \\\n",
    "    apt-get update && \\\n",
    "    apt-get install -y --no-install-recommends \\\n",
    "    azure-cli \n",
    "\n",
    "# https://github.com/Azure/azure-functions-core-tools\n",
    "ENV AzFunctionsCoreTools_DIR /azure-functions-cli\n",
    "RUN mkdir /tmp/AzFunctionsCoreTools3 && \\\n",
    "    mkdir -p $AzFunctionsCoreTools_DIR && \\\n",
    "    cd /tmp/AzFunctionsCoreTools3 && \\\n",
    "    wget --quiet --no-check-certificate \\\n",
    "    https://github.com/Azure/azure-functions-core-tools/releases/download/2.7.2100/Azure.Functions.Cli.linux-x64.2.7.2100.zip  && \\\n",
    "    unzip  -qq -d $AzFunctionsCoreTools_DIR Azure.Functions.Cli.linux-x64.*.zip && \\\n",
    "    rm -f Azure.Functions.Cli.linux-x64.*.zip && \\\n",
    "    cd $AzFunctionsCoreTools_DIR && \\\n",
    "    chmod +x func\n",
    "ENV PATH=$AzFunctionsCoreTools_DIR:$PATH    "
   ]
  },
  {
   "cell_type": "code",
   "execution_count": 41,
   "metadata": {},
   "outputs": [
    {
     "data": {
      "text/plain": [
       "'docker build -t fwi01acr.azurecr.io/azure_batch_shipyard_devito -f /workspace/notebooks/docker_files/Dockerfile_azure_batch_shipyard_devito /workspace/notebooks/docker_build  '"
      ]
     },
     "execution_count": 41,
     "metadata": {},
     "output_type": "execute_result"
    }
   ],
   "source": [
    "cli_command='docker build -t '+ docker_image_name + \\\n",
    "' -f ' + docker_file_path + \\\n",
    "' ' + docker_build_dir + ' ' +\\\n",
    "docker_build_no_cache  + ' ' \n",
    "#  ' --target AzureBatchShipyardAzCliAzFunctionsCoreTools'\n",
    "\n",
    "cli_command\n",
    "# docker_build_response = ! $cli_command\n",
    "\n",
    "# docker_build_response[0:5] \n",
    "# docker_build_response[-5:]"
   ]
  },
  {
   "cell_type": "code",
   "execution_count": 42,
   "metadata": {},
   "outputs": [
    {
     "name": "stdout",
     "output_type": "stream",
     "text": [
      "Sending build context to Docker daemon  3.631kB\n",
      "Step 1/7 : FROM debian:latest\n",
      " ---> 5971ee6076a0\n",
      "Step 2/7 : MAINTAINER George Iordanescu <ghiordan@microsoft.com>\n",
      " ---> Using cache\n",
      " ---> 85bc4b765247\n",
      "Step 3/7 : RUN apt-get update --fix-missing && apt-get install -y --no-install-recommends     python3 python3-pip python3-setuptools     ca-certificates curl apt-transport-https lsb-release gnupg openssh-client openssh-server     zip unzip     wget rsync git &&     apt-get clean &&     rm -rf /var/lib/apt/lists/*   &&     git clone https://github.com/Azure/batch-shipyard.git /opt/batch-shipyard &&     cd /opt/batch-shipyard &&     rm -rf .git .github .vsts &&     rm -f .git* .travis.yml *.yml install*  &&     python3 -m pip install --no-cache-dir --upgrade pip  &&     pip3 install --no-cache-dir -r requirements.txt  &&     pip3 install --no-cache-dir --no-deps -r req_nodeps.txt &&     python3 -m compileall -f /opt/batch-shipyard/shipyard.py /opt/batch-shipyard/convoy\n",
      " ---> Using cache\n",
      " ---> 6898cb64473d\n",
      "Step 4/7 : RUN echo \"deb [arch=amd64] https://packages.microsoft.com/repos/azure-cli/ $(lsb_release -sc) main\" |     tee /etc/apt/sources.list.d/azure-cli.list &&     curl -L https://packages.microsoft.com/keys/microsoft.asc | apt-key add - &&     apt-get update &&     apt-get install -y --no-install-recommends     azure-cli\n",
      " ---> Using cache\n",
      " ---> 34e121ca4df6\n",
      "Step 5/7 : ENV AzFunctionsCoreTools_DIR /azure-functions-cli\n",
      " ---> Using cache\n",
      " ---> 122e0294b5bc\n",
      "Step 6/7 : RUN mkdir /tmp/AzFunctionsCoreTools3 &&     mkdir -p $AzFunctionsCoreTools_DIR &&     cd /tmp/AzFunctionsCoreTools3 &&     wget --quiet --no-check-certificate     https://github.com/Azure/azure-functions-core-tools/releases/download/2.7.2100/Azure.Functions.Cli.linux-x64.2.7.2100.zip  &&     unzip  -qq -d $AzFunctionsCoreTools_DIR Azure.Functions.Cli.linux-x64.*.zip &&     rm -f Azure.Functions.Cli.linux-x64.*.zip &&     cd $AzFunctionsCoreTools_DIR &&     chmod +x func\n",
      " ---> Using cache\n",
      " ---> 7443d2bf8966\n",
      "Step 7/7 : ENV PATH=$AzFunctionsCoreTools_DIR:$PATH\n",
      " ---> Using cache\n",
      " ---> 3a9bebdd327c\n",
      "Successfully built 3a9bebdd327c\n",
      "Successfully tagged fwi01acr.azurecr.io/azure_batch_shipyard_devito:latest\n"
     ]
    }
   ],
   "source": [
    "! $cli_command"
   ]
  },
  {
   "cell_type": "markdown",
   "metadata": {},
   "source": [
    "##### Build base docker image\n",
    " - use control plane docker image just built above\n",
    " - build azure_batch_shipyard_devito_base_image_name defined by src/AzureBatch/docker/base_image/Dockerfile\n",
    " - creates public and private ssh keys in /root/.ssh/ in azure_batch_shipyard_devito_base_image_name docker image\n",
    " - cp /root/.ssh/id_rsa.pub /root/.ssh/authorized_keys"
   ]
  },
  {
   "cell_type": "code",
   "execution_count": 43,
   "metadata": {},
   "outputs": [
    {
     "data": {
      "text/plain": [
       "'/workspace/notebooks/./not_shared/azuredevitogatechssh'"
      ]
     },
     "execution_count": 43,
     "metadata": {},
     "output_type": "execute_result"
    },
    {
     "data": {
      "text/plain": [
       "'/datadrive01/prj/Azure2019/notebooks/./not_shared/azuredevitogatechssh'"
      ]
     },
     "execution_count": 43,
     "metadata": {},
     "output_type": "execute_result"
    }
   ],
   "source": [
    "# these two paths point to the same location, one inside this control plane container and one on host VM\n",
    "os.path.join(*([os.getcwd()]+ SSH_KEYS_FILE_PATH))\n",
    "os.path.join(*([os.getenv('DOCKER_CONTAINER_MOUNT_POINT')]+ SSH_KEYS_FILE_PATH))"
   ]
  },
  {
   "cell_type": "code",
   "execution_count": 44,
   "metadata": {},
   "outputs": [
    {
     "data": {
      "text/plain": [
       "'docker run -it --rm --name azure-cli_container01 -v /datadrive01/prj/Azure2019/notebooks/../:/workspace:rw -v /datadrive01/prj/Azure2019/notebooks/./not_shared/azuredevitogatechssh:/root/.ssh:ro -v /usr/bin/docker:/usr/bin/docker -v /var/run/docker.sock:/var/run/docker.sock fwi01acr.azurecr.io/azure_batch_shipyard_devito /bin/bash -c \"cd /workspace/src/AzureBatch/docker/base_image/ &&  docker build -t devito_azure_base:v1.0 .\"'"
      ]
     },
     "execution_count": 44,
     "metadata": {},
     "output_type": "execute_result"
    },
    {
     "name": "stdout",
     "output_type": "stream",
     "text": [
      "Sending build context to Docker daemon  4.096kB\n",
      "Step 1/9 : FROM ubuntu:18.04\n",
      " ---> c3c304cb4f22\n",
      "Step 2/9 : COPY ssh_config /root/.ssh/config\n",
      " ---> Using cache\n",
      " ---> d06e57201874\n",
      "Step 3/9 : RUN apt-get update     && apt-get install -y --no-install-recommends         build-essential ca-certificates wget openssh-client openssh-server         mpich libmpich-dev     && mkdir -p /var/run/sshd     && ssh-keygen -A     && sed -i 's/UsePAM yes/UsePAM no/g' /etc/ssh/sshd_config     && sed -i 's/#PermitRootLogin yes/PermitRootLogin yes/g' /etc/ssh/sshd_config     && sed -i 's/#RSAAuthentication yes/RSAAuthentication yes/g' /etc/ssh/sshd_config     && sed -i 's/#PubkeyAuthentication yes/PubkeyAuthentication yes/g' /etc/ssh/sshd_config     && ssh-keygen -f /root/.ssh/id_rsa -t rsa -N ''     && chmod 600 /root/.ssh/config     && chmod 700 /root/.ssh     && cp /root/.ssh/id_rsa.pub /root/.ssh/authorized_keys\n",
      " ---> Using cache\n",
      " ---> 8b8a63027782\n",
      "Step 4/9 : RUN apt-get install -y htop vim git-core\n",
      " ---> Using cache\n",
      " ---> 3adfc4aa0482\n",
      "Step 5/9 : RUN apt-get install -y python3 python3-pip\n",
      " ---> Using cache\n",
      " ---> 0cddd4e56e60\n",
      "Step 6/9 : RUN pip3 install --upgrade pip\n",
      " ---> Using cache\n",
      " ---> 9329a333d762\n",
      "Step 7/9 : RUN pip3 install --upgrade git+https://github.com/opesci/devito.git\n",
      " ---> Using cache\n",
      " ---> eb417c079766\n",
      "Step 8/9 : RUN pip3 install mpi4py matplotlib\n",
      " ---> Using cache\n",
      " ---> 214a802c3d1d\n",
      "Step 9/9 : RUN rm -rf /var/lib/apt/lists/* \t&& apt-get clean\n",
      " ---> Using cache\n",
      " ---> 2d2b3d44a2d2\n",
      "Successfully built 2d2b3d44a2d2\n",
      "Successfully tagged devito_azure_base:v1.0\n"
     ]
    }
   ],
   "source": [
    "cli_base_command='docker run '+ \\\n",
    "'-it '+ \\\n",
    "'--rm '+ \\\n",
    "'--name azure-cli_container01 '+ \\\n",
    "'-v '+ os.getenv('DOCKER_CONTAINER_MOUNT_POINT') +'/../:/workspace:rw '+ \\\n",
    "'-v '+os.path.join(*([os.getenv('DOCKER_CONTAINER_MOUNT_POINT')]+ SSH_KEYS_FILE_PATH))+':/root/.ssh:ro '+ \\\n",
    "'-v /usr/bin/docker:/usr/bin/docker '+ \\\n",
    "'-v /var/run/docker.sock:/var/run/docker.sock '+ \\\n",
    "docker_image_name + ' '+ \\\n",
    "'/bin/bash -c ' \n",
    "\n",
    "image_name = azure_batch_shipyard_devito_base_image_name\n",
    "sibling_docker_build_command = '\"cd /workspace/src/AzureBatch/docker/base_image/ &&  docker build -t '+\\\n",
    "image_name + ' .\"'\n",
    "# sibling_docker_build_command = '\"ls -la /root/.ssh/; cat /root/.ssh/id_rsa.pub\"'\n",
    "cli_command = cli_base_command+sibling_docker_build_command\n",
    "cli_command\n",
    "\n",
    "!$cli_command"
   ]
  },
  {
   "cell_type": "markdown",
   "metadata": {},
   "source": [
    "##### Build tti docker image\n",
    " - use azure_batch_shipyard_devito_base_image_name docker image just built above\n",
    " - build azure_batch_shipyard_devito_tti_image_name defined by src/AzureBatch/docker/tti_image/Dockerfile\n",
    " - uses /root/.ssh/authorized_keys created above in azure_batch_shipyard_devito_base_image_name docker image"
   ]
  },
  {
   "cell_type": "code",
   "execution_count": 45,
   "metadata": {},
   "outputs": [
    {
     "data": {
      "text/plain": [
       "'docker run -it --rm --name azure-cli_container01 -v /datadrive01/prj/Azure2019/notebooks/../:/workspace:rw -v /datadrive01/prj/Azure2019/notebooks/./not_shared/azuredevitogatechssh:/root/.ssh:ro -v /usr/bin/docker:/usr/bin/docker -v /var/run/docker.sock:/var/run/docker.sock devito_azure_base:v1.0 /bin/bash -c \"cd /workspace/src/AzureBatch/docker/tti_image/ &&  docker build -t devito_azure_tti:v1.0 .\"'"
      ]
     },
     "execution_count": 45,
     "metadata": {},
     "output_type": "execute_result"
    },
    {
     "name": "stdout",
     "output_type": "stream",
     "text": [
      "Sending build context to Docker daemon  103.9kB\n",
      "Step 1/6 : FROM devito_azure_base:v1.0\n",
      " ---> 2d2b3d44a2d2\n",
      "Step 2/6 : RUN pip3 install azure-storage-blob h5py segyio boto3\n",
      " ---> Using cache\n",
      " ---> 2931bd7eb4e9\n",
      "Step 3/6 : RUN pip3 install azure-storage-queue\n",
      " ---> Using cache\n",
      " ---> 05d00ddd8ef5\n",
      "Step 4/6 : ADD ./tti /app/tti\n",
      " ---> Using cache\n",
      " ---> ad5ffbb2598e\n",
      "Step 5/6 : EXPOSE 23\n",
      " ---> Using cache\n",
      " ---> 552dd08594ba\n",
      "Step 6/6 : CMD [\"/usr/sbin/sshd\", \"-D\", \"-p\", \"23\"]\n",
      " ---> Using cache\n",
      " ---> f3b8fe422586\n",
      "Successfully built f3b8fe422586\n",
      "Successfully tagged devito_azure_tti:v1.0\n"
     ]
    }
   ],
   "source": [
    "cli_base_command='docker run '+ \\\n",
    "'-it '+ \\\n",
    "'--rm '+ \\\n",
    "'--name azure-cli_container01 '+ \\\n",
    "'-v '+ os.getenv('DOCKER_CONTAINER_MOUNT_POINT') +'/../:/workspace:rw '+ \\\n",
    "'-v '+os.path.join(*([os.getenv('DOCKER_CONTAINER_MOUNT_POINT')]+ SSH_KEYS_FILE_PATH))+':/root/.ssh:ro '+ \\\n",
    "'-v /usr/bin/docker:/usr/bin/docker '+ \\\n",
    "'-v /var/run/docker.sock:/var/run/docker.sock '+ \\\n",
    "azure_batch_shipyard_devito_base_image_name + ' '+ \\\n",
    "'/bin/bash -c ' \n",
    "\n",
    "image_name = azure_batch_shipyard_devito_tti_image_name\n",
    "sibling_docker_build_command = '\"cd /workspace/src/AzureBatch/docker/tti_image/ &&  docker build -t '+\\\n",
    "image_name + ' .\"'\n",
    "cli_command = cli_base_command+sibling_docker_build_command\n",
    "cli_command\n",
    "!$cli_command"
   ]
  },
  {
   "cell_type": "markdown",
   "metadata": {},
   "source": [
    "##### Use control plane docker image to self push into ACR"
   ]
  },
  {
   "cell_type": "code",
   "execution_count": 46,
   "metadata": {},
   "outputs": [
    {
     "name": "stdout",
     "output_type": "stream",
     "text": [
      "Login Succeeded\n",
      "\u001b[33mWARNING! Your password will be stored unencrypted in /root/.docker/config.json.\n",
      "Configure a credential helper to remove this warning. See\n",
      "https://docs.docker.com/engine/reference/commandline/login/#credentials-store\u001b[0m\n",
      "\u001b[0mThe push refers to repository [fwi01acr.azurecr.io/azure_batch_shipyard_devito]\n",
      "\n",
      "\u001b[1B3919a4a7: Preparing \n",
      "\u001b[1B93bf0bb0: Preparing \n",
      "\u001b[1B2aecb395: Preparing \n",
      "\u001b[1B234b8605: Layer already exists \u001b[2A\u001b[2K\u001b[1A\u001b[2Klatest: digest: sha256:1fec8f4143767be6dd0c56ccf70f4c85d6b8e5b90e16bb1a09ce1990bb83ab79 size: 1167\n",
      "The push refers to repository [fwi01acr.azurecr.io/devito_azure_base]\n",
      "\n",
      "\u001b[1Bc6e2e71a: Preparing \n",
      "\u001b[1B1861f58d: Preparing \n",
      "\u001b[1B5e511c5a: Preparing \n",
      "\u001b[1B0a45a671: Preparing \n",
      "\u001b[1Bc2e7f5dd: Preparing \n",
      "\u001b[1Bca6d7f6b: Preparing \n",
      "\u001b[1Bfc5c12c6: Preparing \n",
      "\u001b[1B7eb407bf: Preparing \n",
      "\u001b[1B7458d04b: Preparing \n",
      "\u001b[1B37a24627: Preparing \n",
      "\u001b[1Bef4a95c3: Preparing \n",
      "\u001b[2Bef4a95c3: Layer already exists \u001b[11A\u001b[2K\u001b[10A\u001b[2K\u001b[5A\u001b[2K\u001b[7A\u001b[2K\u001b[6A\u001b[2K\u001b[1A\u001b[2K\u001b[4A\u001b[2K\u001b[2A\u001b[2Kv1.0: digest: sha256:11cdfd893c6f0bc534a7a58712f37a47b8b42546d580ce901a6c6f028d82839e size: 2839\n",
      "The push refers to repository [fwi01acr.azurecr.io/devito_azure_tti]\n",
      "\n",
      "\u001b[1Bfbe6a87a: Preparing \n",
      "\u001b[1B88f97d3c: Preparing \n",
      "\u001b[1Bb2ea7f03: Preparing \n",
      "\u001b[1Bc6e2e71a: Preparing \n",
      "\u001b[1B1861f58d: Preparing \n",
      "\u001b[1B5e511c5a: Preparing \n",
      "\u001b[1B0a45a671: Preparing \n",
      "\u001b[1Bc2e7f5dd: Preparing \n",
      "\u001b[1Bca6d7f6b: Preparing \n",
      "\u001b[1Bfc5c12c6: Preparing \n",
      "\u001b[1B7eb407bf: Preparing \n",
      "\u001b[1B7458d04b: Preparing \n",
      "\u001b[1B37a24627: Preparing \n",
      "\u001b[1Bef4a95c3: Preparing \n",
      "\u001b[1Bd2967507: Layer already exists \u001b[14A\u001b[2K\u001b[10A\u001b[2K\u001b[8A\u001b[2K\u001b[6A\u001b[2K\u001b[3A\u001b[2Kv1.0: digest: sha256:a4271d71507429492a127e2ac4de93e39aa584f1cb7fa353ca2d14d1f7899050 size: 3470\n"
     ]
    }
   ],
   "source": [
    "full_azure_batch_shipyard_devito_base_image_name=docker_repo_name+ '/' + azure_batch_shipyard_devito_base_image_name\n",
    "full_azure_batch_shipyard_devito_tti_image_name=docker_repo_name+ '/' + azure_batch_shipyard_devito_tti_image_name\n",
    "\n",
    "cli_base_command='docker run '+ \\\n",
    "'-it '+ \\\n",
    "'--rm '+ \\\n",
    "'--name azure-cli_container01 '+ \\\n",
    "'-v '+ os.getenv('DOCKER_CONTAINER_MOUNT_POINT') +'/../:/workspace:rw '+ \\\n",
    "'-v /var/run/docker.sock:/var/run/docker.sock '+ \\\n",
    "signed_in_az_cli_image + ' '+ \\\n",
    "'/bin/bash -c ' \n",
    "\n",
    "\n",
    "internal_command = '\"'+ \\\n",
    "'az acr login --name '+os.getenv('ACR_NAME')+ \\\n",
    "' --username '+os.getenv('ACR_USERNAME')+ \\\n",
    "' --password ' + os.getenv('ACR_PASSWORD')+'; '+\\\n",
    "'docker push '+docker_image_name+'; '+\\\n",
    "'docker tag '+ azure_batch_shipyard_devito_base_image_name+' '+ full_azure_batch_shipyard_devito_base_image_name+'; '+\\\n",
    "'docker tag '+ azure_batch_shipyard_devito_tti_image_name+' '+ full_azure_batch_shipyard_devito_tti_image_name+'; '+\\\n",
    "'docker push '+full_azure_batch_shipyard_devito_base_image_name+'; '+\\\n",
    "'docker push '+full_azure_batch_shipyard_devito_tti_image_name+'; '+\\\n",
    "'\"'\n",
    "cli_command = cli_base_command+internal_command\n",
    "# cli_command\n",
    "!$cli_command"
   ]
  },
  {
   "cell_type": "code",
   "execution_count": 47,
   "metadata": {},
   "outputs": [
    {
     "data": {
      "text/plain": [
       "'docker tag fwi01acr.azurecr.io/azure_batch_shipyard_devito georgedockeraccount/azure_batch_shipyard_devito'"
      ]
     },
     "execution_count": 47,
     "metadata": {},
     "output_type": "execute_result"
    },
    {
     "name": "stdout",
     "output_type": "stream",
     "text": [
      "WARNING! Using --password via the CLI is insecure. Use --password-stdin.\n",
      "WARNING! Your password will be stored unencrypted in /root/.docker/config.json.\n",
      "Configure a credential helper to remove this warning. See\n",
      "https://docs.docker.com/engine/reference/commandline/login/#credentials-store\n",
      "\n",
      "Login Succeeded\n",
      "The push refers to repository [docker.io/georgedockeraccount/azure_batch_shipyard_devito]\n",
      "An image does not exist locally with the tag: georgedockeraccount/azure_batch_shipyard_devito\n"
     ]
    }
   ],
   "source": [
    "if use_ACR_and_dockerhub:\n",
    "    control_plane_docker_image_dockerhub_name = os.getenv('DOCKERHUB_LOGIN')+ '/' + docker_image_name_only\n",
    "    cli_command='docker tag '+ docker_image_name+' '+ control_plane_docker_image_dockerhub_name\n",
    "    cli_command\n",
    "\n",
    "    docker_pwd = os.getenv('DOCKERHUB_PWD')\n",
    "    docker_login = os.getenv('DOCKERHUB_LOGIN')\n",
    "    !docker login -u=$docker_login -p=$docker_pwd\n",
    "    !docker push {control_plane_docker_image_dockerhub_name}\n",
    " "
   ]
  },
  {
   "cell_type": "code",
   "execution_count": 48,
   "metadata": {},
   "outputs": [],
   "source": [
    "# !docker image ls\n",
    "# !docker tag fwi01acr.azurecr.io/azure_batch_shipyard_devito georgedockeraccount/azure_batch_shipyard_devito\n",
    "# !docker image ls\n",
    "# !docker push georgedockeraccount/azure_batch_shipyard_devito"
   ]
  },
  {
   "cell_type": "code",
   "execution_count": null,
   "metadata": {},
   "outputs": [],
   "source": []
  }
 ],
 "metadata": {
  "kernelspec": {
   "display_name": "Python 3",
   "language": "python",
   "name": "python3"
  },
  "language_info": {
   "codemirror_mode": {
    "name": "ipython",
    "version": 3
   },
   "file_extension": ".py",
   "mimetype": "text/x-python",
   "name": "python",
   "nbconvert_exporter": "python",
   "pygments_lexer": "ipython3",
   "version": "3.7.7"
  }
 },
 "nbformat": 4,
 "nbformat_minor": 2
}
