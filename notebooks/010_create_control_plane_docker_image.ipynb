{
 "cells": [
  {
   "cell_type": "markdown",
   "metadata": {},
   "source": [
    "#### Azure Batch Shipyard devito "
   ]
  },
  {
   "cell_type": "code",
   "execution_count": 1,
   "metadata": {},
   "outputs": [],
   "source": [
    "# Allow multiple displays per cell\n",
    "from IPython.core.interactiveshell import InteractiveShell\n",
    "InteractiveShell.ast_node_interactivity = \"all\""
   ]
  },
  {
   "cell_type": "code",
   "execution_count": 2,
   "metadata": {},
   "outputs": [],
   "source": [
    "DOTENV_FILE_PATH = ['.', 'not_shared'] + ['general.env']\n",
    "\n",
    "docker_file_location = 'docker_files'\n",
    "docker_build_location = 'docker_build'\n",
    "docker_build_no_cache = ''  # '--no-cache' # or '' #\n",
    "\n",
    "control_plane_docker_image_name = \"azure_batch_shipyard_devito\"\n",
    "control_plane_docker_image_tag = \"\"\n",
    "\n",
    "azure_batch_shipyard_devito_base_image_name = 'devito_azure_base:v1.0'\n",
    "azure_batch_shipyard_devito_tti_image_name = 'devito_azure_tti:v1.0'\n",
    "\n",
    "\n",
    "use_ACR_and_dockerhub = True"
   ]
  },
  {
   "cell_type": "code",
   "execution_count": 3,
   "metadata": {},
   "outputs": [],
   "source": [
    "import sys, os, pathlib\n",
    "import platform,  dotenv\n",
    "import subprocess"
   ]
  },
  {
   "cell_type": "code",
   "execution_count": 4,
   "metadata": {},
   "outputs": [
    {
     "data": {
      "text/plain": [
       "'Linux-4.15.0-1066-azure-x86_64-with-debian-stretch-sid'"
      ]
     },
     "execution_count": 4,
     "metadata": {},
     "output_type": "execute_result"
    },
    {
     "data": {
      "text/plain": [
       "'/datadrive01/prj/Azure2019/notebooks'"
      ]
     },
     "execution_count": 4,
     "metadata": {},
     "output_type": "execute_result"
    }
   ],
   "source": [
    "platform.platform()\n",
    "os.getcwd()"
   ]
  },
  {
   "cell_type": "code",
   "execution_count": 5,
   "metadata": {},
   "outputs": [
    {
     "data": {
      "text/plain": [
       "'./not_shared/general.env'"
      ]
     },
     "execution_count": 5,
     "metadata": {},
     "output_type": "execute_result"
    }
   ],
   "source": [
    "dotenv_file_path = os.path.join(*(DOTENV_FILE_PATH)) \n",
    "os.makedirs(os.path.join(*(DOTENV_FILE_PATH[:-1])), exist_ok=True)\n",
    "pathlib.Path(dotenv_file_path).touch()\n",
    "\n",
    "# # show .env file path\n",
    "# !pwd\n",
    "dotenv_file_path\n"
   ]
  },
  {
   "cell_type": "markdown",
   "metadata": {},
   "source": [
    "Save your sensitive info"
   ]
  },
  {
   "cell_type": "code",
   "execution_count": 6,
   "metadata": {},
   "outputs": [],
   "source": [
    "ACR_NAME=\"fwi01acr\"\n",
    "ACR_PASSWORD=\"\"\n",
    "ACR_USERNAME=\"fwi01acr\"\n",
    "\n",
    "dockerhub_login = \"georgedockeraccount\"\n",
    "dockerhub_pwd = \"\"\n",
    "\n",
    "SUBSCRIPTION_ID=\"\""
   ]
  },
  {
   "cell_type": "code",
   "execution_count": 7,
   "metadata": {},
   "outputs": [],
   "source": [
    "# dotenv.set_key(dotenv_file_path, 'ACR_NAME', ACR_NAME)\n",
    "# dotenv.set_key(dotenv_file_path, 'ACR_PASSWORD', ACR_PASSWORD)\n",
    "# dotenv.set_key(dotenv_file_path, 'ACR_USERNAME', ACR_USERNAME)\n",
    "\n",
    "# dotenv.set_key(dotenv_file_path, 'DOCKERHUB_LOGIN', dockerhub_login)\n",
    "# dotenv.set_key(dotenv_file_path, 'DOCKERHUB_PWD', dockerhub_pwd)\n",
    "\n",
    "# dotenv.set_key(dotenv_file_path, 'SUBSCRIPTION_ID', SUBSCRIPTION_ID)\n",
    "\n",
    "# dotenv.set_key(dotenv_file_path,'control_plane_docker_image_name', control_plane_docker_image_name)\n",
    "# dotenv.set_key(dotenv_file_path,'control_plane_docker_image_tag', control_plane_docker_image_tag)"
   ]
  },
  {
   "cell_type": "code",
   "execution_count": 8,
   "metadata": {},
   "outputs": [
    {
     "data": {
      "text/plain": [
       "True"
      ]
     },
     "execution_count": 8,
     "metadata": {},
     "output_type": "execute_result"
    },
    {
     "data": {
      "text/plain": [
       "'fwi01acr.azurecr.io/azure_batch_shipyard_devito'"
      ]
     },
     "execution_count": 8,
     "metadata": {},
     "output_type": "execute_result"
    },
    {
     "data": {
      "text/plain": [
       "'/datadrive01/prj/Azure2019/notebooks/docker_files'"
      ]
     },
     "execution_count": 8,
     "metadata": {},
     "output_type": "execute_result"
    },
    {
     "data": {
      "text/plain": [
       "'/datadrive01/prj/Azure2019/notebooks/docker_files/Dockerfile_azure_batch_shipyard_devito'"
      ]
     },
     "execution_count": 8,
     "metadata": {},
     "output_type": "execute_result"
    },
    {
     "data": {
      "text/plain": [
       "'/datadrive01/prj/Azure2019/notebooks/docker_build'"
      ]
     },
     "execution_count": 8,
     "metadata": {},
     "output_type": "execute_result"
    }
   ],
   "source": [
    "dotenv.load_dotenv(dotenv_path=dotenv_file_path)\n",
    "docker_file_location = os.path.join(*(os.getcwd(), docker_file_location))\n",
    "\n",
    "docker_file_name = 'Dockerfile'+ '_' + os.getenv('control_plane_docker_image_name')\n",
    "\n",
    "docker_image_name_only = os.getenv('control_plane_docker_image_name')\n",
    "image_version = os.getenv('control_plane_docker_image_tag')\n",
    "if image_version!=\"\":\n",
    "    docker_file_name = docker_file_name +'_'+ image_version\n",
    "    docker_image_name_only = docker_image_name_only +':'+ image_version\n",
    "\n",
    "# docker_repo_name = os.getenv('DOCKERHUB_LOGIN') # or  \n",
    "docker_repo_name = os.getenv('ACR_NAME')+'.azurecr.io' \n",
    "docker_image_name = docker_repo_name + '/' + docker_image_name_only\n",
    "\n",
    "docker_file_dir = os.path.join(*([os.getcwd(), docker_file_location]))\n",
    "os.makedirs(docker_file_dir, exist_ok=True)\n",
    "docker_file_path = os.path.join(*([docker_file_dir]+[docker_file_name]))\n",
    "\n",
    "docker_build_dir = os.path.join(*([os.getcwd(), docker_build_location]))\n",
    "os.makedirs(docker_build_dir, exist_ok=True)\n",
    "\n",
    "\n",
    "docker_image_name\n",
    "docker_file_dir\n",
    "docker_file_path\n",
    "docker_build_dir"
   ]
  },
  {
   "cell_type": "markdown",
   "metadata": {},
   "source": [
    "Dockerfile references:  \n",
    "https://github.com/Azure/batch-shipyard/blob/master/images/docker/linux/cli/Dockerfile  \n",
    "https://github.com/matsuu/docker-azure-cli/blob/master/Dockerfile  \n",
    "https://github.com/Azure/azure-cli/blob/dev/Dockerfile  \n",
    "https://github.com/Azure/azure-functions-core-tools#other-linux-distributions  "
   ]
  },
  {
   "cell_type": "code",
   "execution_count": 9,
   "metadata": {},
   "outputs": [
    {
     "name": "stdout",
     "output_type": "stream",
     "text": [
      "Overwriting /datadrive01/prj/Azure2019/notebooks/docker_files/Dockerfile_azure_batch_shipyard_devito\n"
     ]
    }
   ],
   "source": [
    "%%writefile $docker_file_path \n",
    "\n",
    "# https://hub.docker.com/r/microsoft/azure-cli/dockerfile   \n",
    "FROM debian:latest \n",
    "MAINTAINER George Iordanescu <ghiordan@microsoft.com>\n",
    "\n",
    "# https://github.com/Azure/batch-shipyard/blob/master/images/docker/linux/cli/Dockerfile\n",
    "# https://github.com/Azure/batch-shipyard/blob/master/cargo/Dockerfile\n",
    "RUN apt-get update --fix-missing && apt-get install -y --no-install-recommends \\\n",
    "    python3 python3-pip python3-setuptools \\\n",
    "    ca-certificates curl apt-transport-https lsb-release gnupg \\\n",
    "    zip unzip \\\n",
    "    wget rsync git && \\\n",
    "    apt-get clean && \\\n",
    "    rm -rf /var/lib/apt/lists/*   && \\\n",
    "    git clone https://github.com/Azure/batch-shipyard.git /opt/batch-shipyard && \\\n",
    "    cd /opt/batch-shipyard && \\\n",
    "    rm -rf .git .github .vsts && \\\n",
    "    rm -f .git* .travis.yml *.yml install*  && \\\n",
    "    python3 -m pip install --no-cache-dir --upgrade pip  && \\\n",
    "    pip3 install --no-cache-dir -r requirements.txt  && \\\n",
    "    pip3 install --no-cache-dir --no-deps -r req_nodeps.txt && \\\n",
    "    python3 -m compileall -f /opt/batch-shipyard/shipyard.py /opt/batch-shipyard/convoy \n",
    "# ENTRYPOINT [\"/opt/batch-shipyard/shipyard.py\"]\n",
    "\n",
    "# https://docs.microsoft.com/en-us/cli/azure/install-azure-cli-apt?view=azure-cli-latest#no-package-for-your-distribution\n",
    "# ENV AZ_CLI_REPO=stretch   \n",
    "RUN echo \"deb [arch=amd64] https://packages.microsoft.com/repos/azure-cli/ $(lsb_release -sc) main\" | \\\n",
    "    tee /etc/apt/sources.list.d/azure-cli.list && \\\n",
    "    curl -L https://packages.microsoft.com/keys/microsoft.asc | apt-key add - && \\\n",
    "    apt-get update && \\\n",
    "    apt-get install -y --no-install-recommends \\\n",
    "    azure-cli \n",
    "\n",
    "# https://github.com/Azure/azure-functions-core-tools\n",
    "ENV AzFunctionsCoreTools_DIR /azure-functions-cli\n",
    "RUN mkdir /tmp/AzFunctionsCoreTools3 && \\\n",
    "    mkdir -p $AzFunctionsCoreTools_DIR && \\\n",
    "    cd /tmp/AzFunctionsCoreTools3 && \\\n",
    "    wget --quiet --no-check-certificate \\\n",
    "    https://github.com/Azure/azure-functions-core-tools/releases/download/2.7.2100/Azure.Functions.Cli.linux-x64.2.7.2100.zip  && \\\n",
    "    unzip  -qq -d $AzFunctionsCoreTools_DIR Azure.Functions.Cli.linux-x64.*.zip && \\\n",
    "    rm -f Azure.Functions.Cli.linux-x64.*.zip && \\\n",
    "    cd $AzFunctionsCoreTools_DIR && \\\n",
    "    chmod +x func\n",
    "ENV PATH=$AzFunctionsCoreTools_DIR:$PATH    "
   ]
  },
  {
   "cell_type": "code",
   "execution_count": 10,
   "metadata": {},
   "outputs": [
    {
     "data": {
      "text/plain": [
       "'docker build -t fwi01acr.azurecr.io/azure_batch_shipyard_devito -f /datadrive01/prj/Azure2019/notebooks/docker_files/Dockerfile_azure_batch_shipyard_devito /datadrive01/prj/Azure2019/notebooks/docker_build  '"
      ]
     },
     "execution_count": 10,
     "metadata": {},
     "output_type": "execute_result"
    }
   ],
   "source": [
    "cli_command='docker build -t '+ docker_image_name + \\\n",
    "' -f ' + docker_file_path + \\\n",
    "' ' + docker_build_dir + ' ' +\\\n",
    "docker_build_no_cache  + ' ' \n",
    "#  ' --target AzureBatchShipyardAzCliAzFunctionsCoreTools'\n",
    "\n",
    "cli_command\n",
    "# docker_build_response = ! $cli_command\n",
    "\n",
    "# docker_build_response[0:5] \n",
    "# docker_build_response[-5:]"
   ]
  },
  {
   "cell_type": "code",
   "execution_count": 11,
   "metadata": {},
   "outputs": [
    {
     "name": "stdout",
     "output_type": "stream",
     "text": [
      "Sending build context to Docker daemon  3.631kB\n",
      "Step 1/7 : FROM debian:latest\n",
      " ---> b5d2d9b1597b\n",
      "Step 2/7 : MAINTAINER George Iordanescu <ghiordan@microsoft.com>\n",
      " ---> Using cache\n",
      " ---> e7d6a00c9a36\n",
      "Step 3/7 : RUN apt-get update --fix-missing && apt-get install -y --no-install-recommends     python3 python3-pip python3-setuptools     ca-certificates curl apt-transport-https lsb-release gnupg     zip unzip     wget rsync git &&     apt-get clean &&     rm -rf /var/lib/apt/lists/*   &&     git clone https://github.com/Azure/batch-shipyard.git /opt/batch-shipyard &&     cd /opt/batch-shipyard &&     rm -rf .git .github .vsts &&     rm -f .git* .travis.yml *.yml install*  &&     python3 -m pip install --no-cache-dir --upgrade pip  &&     pip3 install --no-cache-dir -r requirements.txt  &&     pip3 install --no-cache-dir --no-deps -r req_nodeps.txt &&     python3 -m compileall -f /opt/batch-shipyard/shipyard.py /opt/batch-shipyard/convoy\n",
      " ---> Using cache\n",
      " ---> 0467118246d1\n",
      "Step 4/7 : RUN echo \"deb [arch=amd64] https://packages.microsoft.com/repos/azure-cli/ $(lsb_release -sc) main\" |     tee /etc/apt/sources.list.d/azure-cli.list &&     curl -L https://packages.microsoft.com/keys/microsoft.asc | apt-key add - &&     apt-get update &&     apt-get install -y --no-install-recommends     azure-cli\n",
      " ---> Using cache\n",
      " ---> be9b9f632043\n",
      "Step 5/7 : ENV AzFunctionsCoreTools_DIR /azure-functions-cli\n",
      " ---> Using cache\n",
      " ---> 8d3c8ac44056\n",
      "Step 6/7 : RUN mkdir /tmp/AzFunctionsCoreTools3 &&     mkdir -p $AzFunctionsCoreTools_DIR &&     cd /tmp/AzFunctionsCoreTools3 &&     wget --quiet --no-check-certificate     https://github.com/Azure/azure-functions-core-tools/releases/download/2.7.2100/Azure.Functions.Cli.linux-x64.2.7.2100.zip  &&     unzip  -qq -d $AzFunctionsCoreTools_DIR Azure.Functions.Cli.linux-x64.*.zip &&     rm -f Azure.Functions.Cli.linux-x64.*.zip &&     cd $AzFunctionsCoreTools_DIR &&     chmod +x func\n",
      " ---> Using cache\n",
      " ---> 2eb4758fd3b4\n",
      "Step 7/7 : ENV PATH=$AzFunctionsCoreTools_DIR:$PATH\n",
      " ---> Using cache\n",
      " ---> 008787e3d658\n",
      "Successfully built 008787e3d658\n",
      "Successfully tagged fwi01acr.azurecr.io/azure_batch_shipyard_devito:latest\n"
     ]
    }
   ],
   "source": [
    "! $cli_command"
   ]
  },
  {
   "cell_type": "code",
   "execution_count": 12,
   "metadata": {},
   "outputs": [
    {
     "data": {
      "text/plain": [
       "'docker run -it --rm --name azure-cli_container01 -v $(pwd)/../:/workspace:rw -v /usr/bin/docker:/usr/bin/docker -v /var/run/docker.sock:/var/run/docker.sock fwi01acr.azurecr.io/azure_batch_shipyard_devito /bin/bash -c \"cd /workspace/src/AzureBatch/docker/base_image/ &&  docker build -t devito_azure_base:v1.0 .\"'"
      ]
     },
     "execution_count": 12,
     "metadata": {},
     "output_type": "execute_result"
    },
    {
     "name": "stdout",
     "output_type": "stream",
     "text": [
      "Sending build context to Docker daemon  4.096kB\n",
      "Step 1/9 : FROM ubuntu:18.04\n",
      " ---> ccc6e87d482b\n",
      "Step 2/9 : COPY ssh_config /root/.ssh/config\n",
      " ---> Using cache\n",
      " ---> 5146bd6d1b3f\n",
      "Step 3/9 : RUN apt-get update     && apt-get install -y --no-install-recommends         build-essential ca-certificates wget openssh-client openssh-server         mpich libmpich-dev     && mkdir -p /var/run/sshd     && ssh-keygen -A     && sed -i 's/UsePAM yes/UsePAM no/g' /etc/ssh/sshd_config     && sed -i 's/#PermitRootLogin yes/PermitRootLogin yes/g' /etc/ssh/sshd_config     && sed -i 's/#RSAAuthentication yes/RSAAuthentication yes/g' /etc/ssh/sshd_config     && sed -i 's/#PubkeyAuthentication yes/PubkeyAuthentication yes/g' /etc/ssh/sshd_config     && ssh-keygen -f /root/.ssh/id_rsa -t rsa -N ''     && chmod 600 /root/.ssh/config     && chmod 700 /root/.ssh     && cp /root/.ssh/id_rsa.pub /root/.ssh/authorized_keys\n",
      " ---> Using cache\n",
      " ---> 4d35d1e57e10\n",
      "Step 4/9 : RUN apt-get install -y htop vim git-core\n",
      " ---> Using cache\n",
      " ---> 7737c43ce28a\n",
      "Step 5/9 : RUN apt-get install -y python3 python3-pip\n",
      " ---> Using cache\n",
      " ---> ef2104f0cce4\n",
      "Step 6/9 : RUN pip3 install --upgrade pip\n",
      " ---> Using cache\n",
      " ---> b136a2bf9cd9\n",
      "Step 7/9 : RUN pip3 install --upgrade git+https://github.com/opesci/devito.git\n",
      " ---> Using cache\n",
      " ---> abb1f8538e06\n",
      "Step 8/9 : RUN pip3 install mpi4py matplotlib\n",
      " ---> Using cache\n",
      " ---> 245dd018083f\n",
      "Step 9/9 : RUN rm -rf /var/lib/apt/lists/* \t&& apt-get clean\n",
      " ---> Using cache\n",
      " ---> 724df2ff7b1c\n",
      "Successfully built 724df2ff7b1c\n",
      "Successfully tagged devito_azure_base:v1.0\n"
     ]
    },
    {
     "data": {
      "text/plain": [
       "'docker run -it --rm --name azure-cli_container01 -v $(pwd)/../:/workspace:rw -v /usr/bin/docker:/usr/bin/docker -v /var/run/docker.sock:/var/run/docker.sock fwi01acr.azurecr.io/azure_batch_shipyard_devito /bin/bash -c \"cd /workspace/src/AzureBatch/docker/tti_image/ &&  docker build -t devito_azure_tti:v1.0 .\"'"
      ]
     },
     "execution_count": 12,
     "metadata": {},
     "output_type": "execute_result"
    },
    {
     "name": "stdout",
     "output_type": "stream",
     "text": [
      "Sending build context to Docker daemon  84.99kB\n",
      "Step 1/6 : FROM devito_azure_base:v1.0\n",
      " ---> 724df2ff7b1c\n",
      "Step 2/6 : RUN pip3 install azure-storage-blob h5py segyio boto3\n",
      " ---> Using cache\n",
      " ---> 3231c93ac4d0\n",
      "Step 3/6 : RUN pip3 install azure-storage\n",
      " ---> Using cache\n",
      " ---> a8fcdcd16040\n",
      "Step 4/6 : ADD ./tti /app/tti\n",
      " ---> Using cache\n",
      " ---> c51b7c803892\n",
      "Step 5/6 : EXPOSE 23\n",
      " ---> Using cache\n",
      " ---> 94cff68c828e\n",
      "Step 6/6 : CMD [\"/usr/sbin/sshd\", \"-D\", \"-p\", \"23\"]\n",
      " ---> Using cache\n",
      " ---> a4d156e6ae0c\n",
      "Successfully built a4d156e6ae0c\n",
      "Successfully tagged devito_azure_tti:v1.0\n"
     ]
    }
   ],
   "source": [
    "cli_base_command='docker run '+ \\\n",
    "'-it '+ \\\n",
    "'--rm '+ \\\n",
    "'--name azure-cli_container01 '+ \\\n",
    "'-v $(pwd)/../:/workspace:rw '+ \\\n",
    "'-v /usr/bin/docker:/usr/bin/docker '+ \\\n",
    "'-v /var/run/docker.sock:/var/run/docker.sock '+ \\\n",
    "docker_image_name + ' '+ \\\n",
    "'/bin/bash -c ' \n",
    "\n",
    "# cli_command = cli_base_command+'\"pwd; ls -l /workspace\"'\n",
    "\n",
    "image_name = azure_batch_shipyard_devito_base_image_name\n",
    "sibling_docker_build_command = '\"cd /workspace/src/AzureBatch/docker/base_image/ &&  docker build -t '+\\\n",
    "image_name + ' .\"'\n",
    "cli_command = cli_base_command+sibling_docker_build_command\n",
    "cli_command\n",
    "!$cli_command\n",
    "\n",
    "image_name = azure_batch_shipyard_devito_tti_image_name\n",
    "sibling_docker_build_command = '\"cd /workspace/src/AzureBatch/docker/tti_image/ &&  docker build -t '+\\\n",
    "image_name + ' .\"'\n",
    "cli_command = cli_base_command+sibling_docker_build_command\n",
    "cli_command\n",
    "!$cli_command\n"
   ]
  },
  {
   "cell_type": "markdown",
   "metadata": {},
   "source": [
    "##### Use control plane docker image to self push into ACR"
   ]
  },
  {
   "cell_type": "code",
   "execution_count": null,
   "metadata": {},
   "outputs": [],
   "source": [
    "full_azure_batch_shipyard_devito_base_image_name=docker_repo_name+ '/' + azure_batch_shipyard_devito_base_image_name\n",
    "full_azure_batch_shipyard_devito_tti_image_name=docker_repo_name+ '/' + azure_batch_shipyard_devito_tti_image_name\n",
    "\n",
    "internal_command = '\"'+ \\\n",
    "' az login; '+ \\\n",
    "'az account set --subscription '+os.getenv('SUBSCRIPTION_ID')+ '; '+ \\\n",
    "' az account list -o table; '+ \\\n",
    "'az acr login --name '+os.getenv('ACR_NAME')+ \\\n",
    "' --username '+os.getenv('ACR_USERNAME')+ \\\n",
    "' --password ' + os.getenv('ACR_PASSWORD')+'; '+\\\n",
    "'docker push '+docker_image_name+'; '+\\\n",
    "'docker tag '+ azure_batch_shipyard_devito_base_image_name+' '+ full_azure_batch_shipyard_devito_base_image_name+'; '+\\\n",
    "'docker tag '+ azure_batch_shipyard_devito_tti_image_name+' '+ full_azure_batch_shipyard_devito_tti_image_name+'; '+\\\n",
    "'docker push '+full_azure_batch_shipyard_devito_base_image_name+'; '+\\\n",
    "'docker push '+full_azure_batch_shipyard_devito_tti_image_name+'; '+\\\n",
    "'\"'\n",
    "cli_command = cli_base_command+internal_command\n",
    "cli_command\n",
    "!$cli_command"
   ]
  },
  {
   "cell_type": "code",
   "execution_count": 14,
   "metadata": {},
   "outputs": [
    {
     "data": {
      "text/plain": [
       "'docker tag fwi01acr.azurecr.io/azure_batch_shipyard_devito georgedockeraccount/azure_batch_shipyard_devito'"
      ]
     },
     "execution_count": 14,
     "metadata": {},
     "output_type": "execute_result"
    },
    {
     "name": "stdout",
     "output_type": "stream",
     "text": [
      "WARNING! Using --password via the CLI is insecure. Use --password-stdin.\n",
      "WARNING! Your password will be stored unencrypted in /home/loginvm0_1/.docker/config.json.\n",
      "Configure a credential helper to remove this warning. See\n",
      "https://docs.docker.com/engine/reference/commandline/login/#credentials-store\n",
      "\n",
      "Login Succeeded\n",
      "The push refers to repository [docker.io/georgedockeraccount/azure_batch_shipyard_devito]\n",
      "\n",
      "\u001b[1B65e5edfd: Preparing \n",
      "\u001b[1Ba3bf4c1f: Preparing \n",
      "\u001b[1B723b606a: Preparing \n",
      "\u001b[4B65e5edfd: Layer already exists latest: digest: sha256:753ccefe3b7bdc99ffb286de02a2a01edfc26e4c68ef5261072e151f295ab3d8 size: 1167\n"
     ]
    }
   ],
   "source": [
    "if use_ACR_and_dockerhub:\n",
    "    control_plane_docker_image_dockerhub_name = os.getenv('DOCKERHUB_LOGIN')+ '/' + docker_image_name_only\n",
    "    cli_command='docker tag '+ docker_image_name+' '+ control_plane_docker_image_dockerhub_name\n",
    "    cli_command\n",
    "\n",
    "    docker_pwd = os.getenv('DOCKERHUB_PWD')\n",
    "    docker_login = os.getenv('DOCKERHUB_LOGIN')\n",
    "    !docker login -u=$docker_login -p=$docker_pwd\n",
    "    !docker push {control_plane_docker_image_dockerhub_name}\n",
    " "
   ]
  },
  {
   "cell_type": "code",
   "execution_count": null,
   "metadata": {},
   "outputs": [],
   "source": []
  },
  {
   "cell_type": "code",
   "execution_count": null,
   "metadata": {},
   "outputs": [],
   "source": []
  },
  {
   "cell_type": "code",
   "execution_count": null,
   "metadata": {},
   "outputs": [],
   "source": []
  }
 ],
 "metadata": {
  "kernelspec": {
   "display_name": "Python 3.5",
   "language": "python",
   "name": "python3"
  },
  "language_info": {
   "codemirror_mode": {
    "name": "ipython",
    "version": 3
   },
   "file_extension": ".py",
   "mimetype": "text/x-python",
   "name": "python",
   "nbconvert_exporter": "python",
   "pygments_lexer": "ipython3",
   "version": "3.5.5"
  }
 },
 "nbformat": 4,
 "nbformat_minor": 2
}
