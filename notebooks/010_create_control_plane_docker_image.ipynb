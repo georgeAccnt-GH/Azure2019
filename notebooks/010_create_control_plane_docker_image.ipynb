{
 "cells": [
  {
   "cell_type": "markdown",
   "metadata": {},
   "source": [
    "#### Azure Batch Shipyard devito "
   ]
  },
  {
   "cell_type": "code",
   "execution_count": 1,
   "metadata": {},
   "outputs": [],
   "source": [
    "# Allow multiple displays per cell\n",
    "from IPython.core.interactiveshell import InteractiveShell\n",
    "InteractiveShell.ast_node_interactivity = \"all\""
   ]
  },
  {
   "cell_type": "code",
   "execution_count": 2,
   "metadata": {},
   "outputs": [],
   "source": [
    "DOTENV_FILE_PATH = ['.', 'not_shared'] + ['general.env']\n",
    "\n",
    "docker_file_location = 'docker_build'\n",
    "docker_build_no_cache = ''  # '--no-cache' # or '' #"
   ]
  },
  {
   "cell_type": "code",
   "execution_count": 3,
   "metadata": {},
   "outputs": [],
   "source": [
    "# dockerhub_login = \"georgedockeraccount\"\n",
    "# dockerhub_pwd = \"\"\n",
    "\n",
    "# ACR_NAME=\"fwi01acr\"\n",
    "# ACR_PASSWORD=\"\"\n",
    "# ACR_USERNAME=\"fwi01acr\"\n",
    "\n",
    "# control_plane_docker_image_name = \"azure_batch_shipyard_devito\"\n",
    "# control_plane_docker_image_tag = \"\""
   ]
  },
  {
   "cell_type": "code",
   "execution_count": 4,
   "metadata": {},
   "outputs": [],
   "source": [
    "import sys, os, pathlib\n",
    "import platform,  dotenv\n",
    "import subprocess"
   ]
  },
  {
   "cell_type": "code",
   "execution_count": 5,
   "metadata": {},
   "outputs": [
    {
     "data": {
      "text/plain": [
       "'Linux-4.15.0-1066-azure-x86_64-with-debian-stretch-sid'"
      ]
     },
     "execution_count": 5,
     "metadata": {},
     "output_type": "execute_result"
    },
    {
     "data": {
      "text/plain": [
       "'/datadrive01/prj/Azure2019/notebooks'"
      ]
     },
     "execution_count": 5,
     "metadata": {},
     "output_type": "execute_result"
    }
   ],
   "source": [
    "platform.platform()\n",
    "os.getcwd()"
   ]
  },
  {
   "cell_type": "code",
   "execution_count": 6,
   "metadata": {},
   "outputs": [
    {
     "data": {
      "text/plain": [
       "'./not_shared/general.env'"
      ]
     },
     "execution_count": 6,
     "metadata": {},
     "output_type": "execute_result"
    }
   ],
   "source": [
    "dotenv_file_path = os.path.join(*(DOTENV_FILE_PATH)) \n",
    "os.makedirs(os.path.join(*(DOTENV_FILE_PATH[:-1])), exist_ok=True)\n",
    "pathlib.Path(dotenv_file_path).touch()\n",
    "\n",
    "# # show .env file path\n",
    "# !pwd\n",
    "dotenv_file_path\n"
   ]
  },
  {
   "cell_type": "markdown",
   "metadata": {},
   "source": [
    "Save your sensitive info"
   ]
  },
  {
   "cell_type": "code",
   "execution_count": 7,
   "metadata": {},
   "outputs": [],
   "source": [
    "# dotenv.set_key(dotenv_file_path, 'DOCKERHUB_LOGIN', dockerhub_login)\n",
    "# dotenv.set_key(dotenv_file_path, 'DOCKERHUB_PWD', dockerhub_pwd)\n",
    "\n",
    "# dotenv.set_key(dotenv_file_path, 'ACR_NAME', ACR_NAME)\n",
    "# dotenv.set_key(dotenv_file_path, 'ACR_PASSWORD', ACR_PASSWORD)\n",
    "# dotenv.set_key(dotenv_file_path, 'ACR_USERNAME', ACR_USERNAME)\n",
    "\n",
    "# dotenv.set_key(dotenv_file_path,'control_plane_docker_image_name', control_plane_docker_image_name)\n",
    "# dotenv.set_key(dotenv_file_path,'control_plane_docker_image_tag', control_plane_docker_image_tag)"
   ]
  },
  {
   "cell_type": "code",
   "execution_count": 8,
   "metadata": {},
   "outputs": [
    {
     "data": {
      "text/plain": [
       "True"
      ]
     },
     "execution_count": 8,
     "metadata": {},
     "output_type": "execute_result"
    },
    {
     "data": {
      "text/plain": [
       "'georgedockeraccount/azure_batch_shipyard_devito'"
      ]
     },
     "execution_count": 8,
     "metadata": {},
     "output_type": "execute_result"
    },
    {
     "data": {
      "text/plain": [
       "'/datadrive01/prj/Azure2019/notebooks/docker_build'"
      ]
     },
     "execution_count": 8,
     "metadata": {},
     "output_type": "execute_result"
    },
    {
     "data": {
      "text/plain": [
       "'/datadrive01/prj/Azure2019/notebooks/docker_build/Dockerfile_azure_batch_shipyard_devito'"
      ]
     },
     "execution_count": 8,
     "metadata": {},
     "output_type": "execute_result"
    }
   ],
   "source": [
    "dotenv.load_dotenv(dotenv_path=dotenv_file_path)\n",
    "docker_file_location = os.path.join(*(os.getcwd(), docker_file_location))\n",
    "\n",
    "docker_file_name = 'Dockerfile'+ '_' + os.getenv('control_plane_docker_image_name')\n",
    "\n",
    "docker_repo_name = os.getenv('DOCKERHUB_LOGIN') # or  os.getenv('ACR_NAME')+'.azurecr.io'\n",
    "docker_image_name = docker_repo_name + '/' + os.getenv('control_plane_docker_image_name')\n",
    "\n",
    "image_version = os.getenv('control_plane_docker_image_tag')\n",
    "if image_version!=\"\":\n",
    "    docker_file_name = docker_file_name +'_'+ image_version\n",
    "    docker_image_name = docker_image_name +':'+ image_version\n",
    "\n",
    "docker_file_dir = os.path.join(*([os.getcwd(), docker_file_location]))\n",
    "os.makedirs(docker_file_dir, exist_ok=True)\n",
    "docker_file_path = os.path.join(*([docker_file_dir]+[docker_file_name]))\n",
    "\n",
    "docker_image_name\n",
    "docker_file_dir\n",
    "docker_file_path"
   ]
  },
  {
   "cell_type": "markdown",
   "metadata": {},
   "source": [
    "Dockerfile references:  \n",
    "https://github.com/Azure/batch-shipyard/blob/master/images/docker/linux/cli/Dockerfile  \n",
    "https://github.com/matsuu/docker-azure-cli/blob/master/Dockerfile  \n",
    "https://github.com/Azure/azure-cli/blob/dev/Dockerfile  \n",
    "https://github.com/Azure/azure-functions-core-tools#other-linux-distributions  "
   ]
  },
  {
   "cell_type": "code",
   "execution_count": 9,
   "metadata": {},
   "outputs": [
    {
     "name": "stdout",
     "output_type": "stream",
     "text": [
      "Overwriting /datadrive01/prj/Azure2019/notebooks/docker_build/Dockerfile_azure_batch_shipyard_devito\n"
     ]
    }
   ],
   "source": [
    "%%writefile $docker_file_path \n",
    "\n",
    "# https://hub.docker.com/r/microsoft/azure-cli/dockerfile   \n",
    "FROM debian:latest \n",
    "MAINTAINER George Iordanescu <ghiordan@microsoft.com>\n",
    "\n",
    "# https://github.com/Azure/batch-shipyard/blob/master/images/docker/linux/cli/Dockerfile\n",
    "# https://github.com/Azure/batch-shipyard/blob/master/cargo/Dockerfile\n",
    "RUN apt-get update --fix-missing && apt-get install -y --no-install-recommends \\\n",
    "    python3 python3-pip python3-setuptools \\\n",
    "    ca-certificates curl apt-transport-https lsb-release gnupg \\\n",
    "    zip unzip \\\n",
    "    wget rsync git && \\\n",
    "    apt-get clean && \\\n",
    "    rm -rf /var/lib/apt/lists/*   && \\\n",
    "    git clone https://github.com/Azure/batch-shipyard.git /opt/batch-shipyard && \\\n",
    "    cd /opt/batch-shipyard && \\\n",
    "    rm -rf .git .github .vsts && \\\n",
    "    rm -f .git* .travis.yml *.yml install*  && \\\n",
    "    python3 -m pip install --no-cache-dir --upgrade pip  && \\\n",
    "    pip3 install --no-cache-dir -r requirements.txt  && \\\n",
    "    pip3 install --no-cache-dir --no-deps -r req_nodeps.txt && \\\n",
    "    python3 -m compileall -f /opt/batch-shipyard/shipyard.py /opt/batch-shipyard/convoy \n",
    "# ENTRYPOINT [\"/opt/batch-shipyard/shipyard.py\"]\n",
    "\n",
    "# https://docs.microsoft.com/en-us/cli/azure/install-azure-cli-apt?view=azure-cli-latest#no-package-for-your-distribution\n",
    "# ENV AZ_CLI_REPO=stretch   \n",
    "RUN echo \"deb [arch=amd64] https://packages.microsoft.com/repos/azure-cli/ $(lsb_release -sc) main\" | \\\n",
    "    tee /etc/apt/sources.list.d/azure-cli.list && \\\n",
    "    curl -L https://packages.microsoft.com/keys/microsoft.asc | apt-key add - && \\\n",
    "    apt-get update && \\\n",
    "    apt-get install -y --no-install-recommends \\\n",
    "    azure-cli \n",
    "\n",
    "# https://github.com/Azure/azure-functions-core-tools\n",
    "ENV AzFunctionsCoreTools_DIR /azure-functions-cli\n",
    "RUN mkdir /tmp/AzFunctionsCoreTools3 && \\\n",
    "    mkdir -p $AzFunctionsCoreTools_DIR && \\\n",
    "    cd /tmp/AzFunctionsCoreTools3 && \\\n",
    "    wget --quiet --no-check-certificate \\\n",
    "    https://github.com/Azure/azure-functions-core-tools/releases/download/2.7.2100/Azure.Functions.Cli.linux-x64.2.7.2100.zip  && \\\n",
    "    unzip  -qq -d $AzFunctionsCoreTools_DIR Azure.Functions.Cli.linux-x64.*.zip && \\\n",
    "    rm -f Azure.Functions.Cli.linux-x64.*.zip && \\\n",
    "    cd $AzFunctionsCoreTools_DIR && \\\n",
    "    chmod +x func\n",
    "ENV PATH=$AzFunctionsCoreTools_DIR:$PATH    "
   ]
  },
  {
   "cell_type": "code",
   "execution_count": 10,
   "metadata": {},
   "outputs": [
    {
     "data": {
      "text/plain": [
       "'docker build -t georgedockeraccount/azure_batch_shipyard_devito -f /datadrive01/prj/Azure2019/notebooks/docker_build/Dockerfile_azure_batch_shipyard_devito /datadrive01/prj/Azure2019/notebooks/docker_build  '"
      ]
     },
     "execution_count": 10,
     "metadata": {},
     "output_type": "execute_result"
    }
   ],
   "source": [
    "cli_command='docker build -t '+ docker_image_name + \\\n",
    "' -f ' + docker_file_path + \\\n",
    "' ' + docker_file_dir + ' ' +\\\n",
    "docker_build_no_cache  + ' ' \n",
    "#  ' --target AzureBatchShipyardAzCliAzFunctionsCoreTools'\n",
    "\n",
    "cli_command\n",
    "# docker_build_response = ! $cli_command\n",
    "\n",
    "# docker_build_response[0:5] \n",
    "# docker_build_response[-5:]"
   ]
  },
  {
   "cell_type": "code",
   "execution_count": 11,
   "metadata": {},
   "outputs": [
    {
     "name": "stdout",
     "output_type": "stream",
     "text": [
      "Sending build context to Docker daemon  4.096kB\n",
      "Step 1/7 : FROM debian:latest\n",
      " ---> b5d2d9b1597b\n",
      "Step 2/7 : MAINTAINER George Iordanescu <ghiordan@microsoft.com>\n",
      " ---> Using cache\n",
      " ---> e7d6a00c9a36\n",
      "Step 3/7 : RUN apt-get update --fix-missing && apt-get install -y --no-install-recommends     python3 python3-pip python3-setuptools     ca-certificates curl apt-transport-https lsb-release gnupg     zip unzip     wget rsync git &&     apt-get clean &&     rm -rf /var/lib/apt/lists/*   &&     git clone https://github.com/Azure/batch-shipyard.git /opt/batch-shipyard &&     cd /opt/batch-shipyard &&     rm -rf .git .github .vsts &&     rm -f .git* .travis.yml *.yml install*  &&     python3 -m pip install --no-cache-dir --upgrade pip  &&     pip3 install --no-cache-dir -r requirements.txt  &&     pip3 install --no-cache-dir --no-deps -r req_nodeps.txt &&     python3 -m compileall -f /opt/batch-shipyard/shipyard.py /opt/batch-shipyard/convoy\n",
      " ---> Using cache\n",
      " ---> 0467118246d1\n",
      "Step 4/7 : RUN echo \"deb [arch=amd64] https://packages.microsoft.com/repos/azure-cli/ $(lsb_release -sc) main\" |     tee /etc/apt/sources.list.d/azure-cli.list &&     curl -L https://packages.microsoft.com/keys/microsoft.asc | apt-key add - &&     apt-get update &&     apt-get install -y --no-install-recommends     azure-cli\n",
      " ---> Using cache\n",
      " ---> be9b9f632043\n",
      "Step 5/7 : ENV AzFunctionsCoreTools_DIR /azure-functions-cli\n",
      " ---> Using cache\n",
      " ---> 8d3c8ac44056\n",
      "Step 6/7 : RUN mkdir /tmp/AzFunctionsCoreTools3 &&     mkdir -p $AzFunctionsCoreTools_DIR &&     cd /tmp/AzFunctionsCoreTools3 &&     wget --quiet --no-check-certificate     https://github.com/Azure/azure-functions-core-tools/releases/download/2.7.2100/Azure.Functions.Cli.linux-x64.2.7.2100.zip  &&     unzip  -qq -d $AzFunctionsCoreTools_DIR Azure.Functions.Cli.linux-x64.*.zip &&     rm -f Azure.Functions.Cli.linux-x64.*.zip &&     cd $AzFunctionsCoreTools_DIR &&     chmod +x func\n",
      " ---> Using cache\n",
      " ---> 2eb4758fd3b4\n",
      "Step 7/7 : ENV PATH=$AzFunctionsCoreTools_DIR:$PATH\n",
      " ---> Using cache\n",
      " ---> 008787e3d658\n",
      "Successfully built 008787e3d658\n",
      "Successfully tagged georgedockeraccount/azure_batch_shipyard_devito:latest\n"
     ]
    }
   ],
   "source": [
    "! $cli_command"
   ]
  },
  {
   "cell_type": "code",
   "execution_count": null,
   "metadata": {},
   "outputs": [],
   "source": [
    "# docker run \\\n",
    "# -it \\\n",
    "# --rm  \\\n",
    "# --name azure-cli_container01 \\\n",
    "# -v $(pwd):/workspace:rw \\\n",
    "# -v /usr/bin/docker:/usr/bin/docker \\\n",
    "# -v /var/run/docker.sock:/var/run/docker.sock \\\n",
    "# georgedockeraccount/azure_batch_shipyard_devito \\\n",
    "# /bin/bash -c \"cd /workspace/src/AzureBatch/docker/tti_image/ &&  docker build -t devito_azure_tti:v1.0 .\"\n"
   ]
  },
  {
   "cell_type": "code",
   "execution_count": null,
   "metadata": {},
   "outputs": [],
   "source": []
  },
  {
   "cell_type": "code",
   "execution_count": null,
   "metadata": {},
   "outputs": [],
   "source": []
  }
 ],
 "metadata": {
  "kernelspec": {
   "display_name": "Python 3.5",
   "language": "python",
   "name": "python3"
  },
  "language_info": {
   "codemirror_mode": {
    "name": "ipython",
    "version": 3
   },
   "file_extension": ".py",
   "mimetype": "text/x-python",
   "name": "python",
   "nbconvert_exporter": "python",
   "pygments_lexer": "ipython3",
   "version": "3.5.5"
  }
 },
 "nbformat": 4,
 "nbformat_minor": 2
}
