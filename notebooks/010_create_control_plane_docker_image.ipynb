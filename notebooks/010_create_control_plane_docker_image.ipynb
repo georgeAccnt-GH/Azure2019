{
 "cells": [
  {
   "cell_type": "markdown",
   "metadata": {},
   "source": [
    "#### Azure Batch Shipyard devito "
   ]
  },
  {
   "cell_type": "code",
   "execution_count": 1,
   "metadata": {},
   "outputs": [],
   "source": [
    "# Allow multiple displays per cell\n",
    "from IPython.core.interactiveshell import InteractiveShell\n",
    "InteractiveShell.ast_node_interactivity = \"all\""
   ]
  },
  {
   "cell_type": "code",
   "execution_count": 2,
   "metadata": {},
   "outputs": [],
   "source": [
    "not_shared_dir_list = ['.', 'not_shared']\n",
    "DOTENV_FILE_PATH = not_shared_dir_list + ['general.env']\n",
    "SIBLING_DOCKER_DOTENV_FILE_PATH = not_shared_dir_list + ['sibling_docker.env']\n",
    "\n",
    "SSH_KEYS_FILE_PATH = not_shared_dir_list + ['azuredevitogatechssh']\n",
    "ssh_key_file_name = 'id_rsa' #'devito-slim-key-rsa'\n",
    "\n",
    "docker_file_location = 'docker_files'\n",
    "docker_build_location = 'docker_build'\n",
    "docker_build_no_cache = ''  # '--no-cache' # or '' #\n",
    "\n",
    "control_plane_docker_image_name = \"azure_batch_shipyard_devito\"\n",
    "control_plane_docker_image_tag = \"\"\n",
    "\n",
    "azure_batch_shipyard_devito_base_image_name = 'devito_azure_base:v1.0'\n",
    "azure_batch_shipyard_devito_tti_image_name = 'devito_azure_tti:v1.0'\n",
    "\n",
    "az_cli_container = \"azure_cli_container01\"\n",
    "signed_in_az_cli_image = 'new_az_cli_image'\n",
    "\n",
    "\n",
    "use_ACR_and_dockerhub = True"
   ]
  },
  {
   "cell_type": "code",
   "execution_count": 3,
   "metadata": {},
   "outputs": [],
   "source": [
    "import sys, os, pathlib, shutil\n",
    "import platform,  dotenv\n",
    "import subprocess"
   ]
  },
  {
   "cell_type": "code",
   "execution_count": 4,
   "metadata": {},
   "outputs": [
    {
     "data": {
      "text/plain": [
       "'Linux-4.15.0-1075-azure-x86_64-with-debian-10.3'"
      ]
     },
     "execution_count": 4,
     "metadata": {},
     "output_type": "execute_result"
    },
    {
     "data": {
      "text/plain": [
       "'/workspace/notebooks'"
      ]
     },
     "execution_count": 4,
     "metadata": {},
     "output_type": "execute_result"
    }
   ],
   "source": [
    "platform.platform()\n",
    "os.getcwd()"
   ]
  },
  {
   "cell_type": "code",
   "execution_count": 5,
   "metadata": {},
   "outputs": [
    {
     "data": {
      "text/plain": [
       "'./not_shared/general.env'"
      ]
     },
     "execution_count": 5,
     "metadata": {},
     "output_type": "execute_result"
    },
    {
     "data": {
      "text/plain": [
       "'./not_shared/sibling_docker.env'"
      ]
     },
     "execution_count": 5,
     "metadata": {},
     "output_type": "execute_result"
    }
   ],
   "source": [
    "def create_dot_env_file(dotenv_file_path_list):\n",
    "    created_dotenv_file_path = os.path.join(*(dotenv_file_path_list)) \n",
    "    os.makedirs(os.path.join(*(dotenv_file_path_list[:-1])), exist_ok=True)\n",
    "    pathlib.Path(created_dotenv_file_path).touch()\n",
    "    return created_dotenv_file_path\n",
    "\n",
    "dotenv_file_path = create_dot_env_file(DOTENV_FILE_PATH)\n",
    "sibling_docker_dotenv_file_path = create_dot_env_file(SIBLING_DOCKER_DOTENV_FILE_PATH)\n",
    "\n",
    "# # show .env file path\n",
    "# !pwd\n",
    "dotenv_file_path\n",
    "sibling_docker_dotenv_file_path"
   ]
  },
  {
   "cell_type": "markdown",
   "metadata": {},
   "source": [
    "Save your sensitive info"
   ]
  },
  {
   "cell_type": "code",
   "execution_count": 6,
   "metadata": {},
   "outputs": [],
   "source": [
    "ACR_NAME=\"fwi01acr\"\n",
    "ACR_PASSWORD=\"\"\n",
    "ACR_USERNAME=\"fwi01acr\"\n",
    "\n",
    "dockerhub_login = \"georgedockeraccount\"\n",
    "dockerhub_pwd = \"\"\n",
    "\n",
    "SUBSCRIPTION_ID=\"\"\n",
    "\n",
    "docker_container_mount_point = os.getcwd()"
   ]
  },
  {
   "cell_type": "code",
   "execution_count": 7,
   "metadata": {},
   "outputs": [],
   "source": [
    "# dotenv.set_key(dotenv_file_path, 'ACR_NAME', ACR_NAME)\n",
    "# dotenv.set_key(dotenv_file_path, 'ACR_PASSWORD', ACR_PASSWORD)\n",
    "# dotenv.set_key(dotenv_file_path, 'ACR_USERNAME', ACR_USERNAME)\n",
    "\n",
    "# dotenv.set_key(dotenv_file_path, 'DOCKERHUB_LOGIN', dockerhub_login)\n",
    "# dotenv.set_key(dotenv_file_path, 'DOCKERHUB_PWD', dockerhub_pwd)\n",
    "\n",
    "# dotenv.set_key(dotenv_file_path, 'SUBSCRIPTION_ID', SUBSCRIPTION_ID)\n",
    "\n",
    "# dotenv.set_key(dotenv_file_path,'control_plane_docker_image_name', control_plane_docker_image_name)\n",
    "# dotenv.set_key(dotenv_file_path,'control_plane_docker_image_tag', control_plane_docker_image_tag)\n",
    "\n",
    "# dotenv.set_key(sibling_docker_dotenv_file_path, 'DOCKER_CONTAINER_MOUNT_POINT', docker_container_mount_point)"
   ]
  },
  {
   "cell_type": "code",
   "execution_count": 8,
   "metadata": {},
   "outputs": [
    {
     "data": {
      "text/plain": [
       "True"
      ]
     },
     "execution_count": 8,
     "metadata": {},
     "output_type": "execute_result"
    },
    {
     "data": {
      "text/plain": [
       "'fwi01acr.azurecr.io/azure_batch_shipyard_devito'"
      ]
     },
     "execution_count": 8,
     "metadata": {},
     "output_type": "execute_result"
    },
    {
     "data": {
      "text/plain": [
       "'/workspace/notebooks/docker_files'"
      ]
     },
     "execution_count": 8,
     "metadata": {},
     "output_type": "execute_result"
    },
    {
     "data": {
      "text/plain": [
       "'/workspace/notebooks/docker_files/Dockerfile_azure_batch_shipyard_devito'"
      ]
     },
     "execution_count": 8,
     "metadata": {},
     "output_type": "execute_result"
    },
    {
     "data": {
      "text/plain": [
       "'/workspace/notebooks/docker_build'"
      ]
     },
     "execution_count": 8,
     "metadata": {},
     "output_type": "execute_result"
    },
    {
     "data": {
      "text/plain": [
       "'/workspace/notebooks/./not_shared/azuredevitogatechssh'"
      ]
     },
     "execution_count": 8,
     "metadata": {},
     "output_type": "execute_result"
    }
   ],
   "source": [
    "dotenv.load_dotenv(dotenv_path=dotenv_file_path)\n",
    "docker_file_location = os.path.join(*(os.getcwd(), docker_file_location))\n",
    "\n",
    "docker_file_name = 'Dockerfile'+ '_' + os.getenv('control_plane_docker_image_name')\n",
    "\n",
    "docker_image_name_only = os.getenv('control_plane_docker_image_name')\n",
    "image_version = os.getenv('control_plane_docker_image_tag')\n",
    "if image_version!=\"\":\n",
    "    docker_file_name = docker_file_name +'_'+ image_version\n",
    "    docker_image_name_only = docker_image_name_only +':'+ image_version\n",
    "\n",
    "# docker_repo_name = os.getenv('DOCKERHUB_LOGIN') # or  \n",
    "docker_repo_name = os.getenv('ACR_NAME')+'.azurecr.io' \n",
    "docker_image_name = docker_repo_name + '/' + docker_image_name_only\n",
    "\n",
    "\n",
    "docker_file_dir = os.path.join(*([os.getcwd(), docker_file_location]))\n",
    "os.makedirs(docker_file_dir, exist_ok=True)\n",
    "docker_file_path = os.path.join(*([docker_file_dir]+[docker_file_name]))\n",
    "\n",
    "docker_build_dir = os.path.join(*([os.getcwd(), docker_build_location]))\n",
    "os.makedirs(docker_build_dir, exist_ok=True)\n",
    "\n",
    "ssh_keys_file_dir = os.path.join(*([os.getcwd()]+ SSH_KEYS_FILE_PATH))\n",
    "os.makedirs(ssh_keys_file_dir, exist_ok=True)\n",
    "\n",
    "docker_image_name\n",
    "docker_file_dir\n",
    "docker_file_path\n",
    "docker_build_dir\n",
    "ssh_keys_file_dir"
   ]
  },
  {
   "cell_type": "code",
   "execution_count": 9,
   "metadata": {},
   "outputs": [
    {
     "data": {
      "text/plain": [
       "True"
      ]
     },
     "execution_count": 9,
     "metadata": {},
     "output_type": "execute_result"
    },
    {
     "data": {
      "text/plain": [
       "'/datadrive01/prj/Azure2019/notebooks'"
      ]
     },
     "execution_count": 9,
     "metadata": {},
     "output_type": "execute_result"
    }
   ],
   "source": [
    "dotenv.load_dotenv(dotenv_path=sibling_docker_dotenv_file_path)\n",
    "os.getenv('DOCKER_CONTAINER_MOUNT_POINT')"
   ]
  },
  {
   "cell_type": "markdown",
   "metadata": {},
   "source": [
    "###### Generate local ssh keys (if needed)"
   ]
  },
  {
   "cell_type": "code",
   "execution_count": 10,
   "metadata": {},
   "outputs": [
    {
     "data": {
      "text/plain": [
       "'/workspace/notebooks/./not_shared/azuredevitogatechssh/id_rsa'"
      ]
     },
     "execution_count": 10,
     "metadata": {},
     "output_type": "execute_result"
    },
    {
     "name": "stdout",
     "output_type": "stream",
     "text": [
      "-rwxrwxrwx 1 root root 743 Mar 13 22:55 /workspace/notebooks/./not_shared/azuredevitogatechssh/id_rsa.pub\r\n"
     ]
    }
   ],
   "source": [
    "ssh_key_name_full = os.path.join(*([ssh_keys_file_dir]+ [ssh_key_file_name])) \n",
    "ssh_key_name_full\n",
    "\n",
    "pub_ssh_key_name_full = ssh_key_name_full+'.pub'\n",
    "! ls -la $pub_ssh_key_name_full "
   ]
  },
  {
   "cell_type": "code",
   "execution_count": 11,
   "metadata": {},
   "outputs": [
    {
     "name": "stdout",
     "output_type": "stream",
     "text": [
      "Found ssh key (/workspace/notebooks/./not_shared/azuredevitogatechssh/id_rsa), will use it\n",
      "total 28\n",
      "drwxrwxrwx 3 root root 4096 Mar 23 22:42 .\n",
      "drwxrwxrwx 4 1003 1003 4096 Feb 14 19:30 ..\n",
      "drwxrwxrwx 2 root root 4096 Mar 13 22:29 .ipynb_checkpoints\n",
      "-rw-rw-r-- 1 1003 1003 1823 Mar 23 22:42 azuredevitogatechsshkey\n",
      "-rw-rw-r-- 1 1003 1003  399 Mar 23 22:42 azuredevitogatechsshkey.pub\n",
      "-rwxrwxrwx 1 root root 3381 Mar 13 22:55 id_rsa\n",
      "-rwxrwxrwx 1 root root  743 Mar 13 22:55 id_rsa.pub\n"
     ]
    }
   ],
   "source": [
    "if not (os.path.exists(ssh_key_name_full)):\n",
    "    print('No ssh key ('+ssh_key_name_full+') found, wil generate a new pair ')\n",
    "    cli_command = 'ssh-keygen -t rsa -b 4096 -f '+ssh_key_name_full + ' -q -N \"\"'\n",
    "    cli_command\n",
    "    !$cli_command\n",
    "else:\n",
    "    print('Found ssh key ('+ssh_key_name_full+'), will use it')  \n",
    "\n",
    "!ls -la $ssh_keys_file_dir    "
   ]
  },
  {
   "cell_type": "markdown",
   "metadata": {},
   "source": [
    "##### Pull existing docker image from ACR, if available\n",
    "[mcr.microsoft.com/azure-cli](https://github.com/Azure/azure-cli/blob/dev/Dockerfile) is based on alpine, so we need to install docker inside it"
   ]
  },
  {
   "cell_type": "code",
   "execution_count": 12,
   "metadata": {},
   "outputs": [
    {
     "name": "stdout",
     "output_type": "stream",
     "text": [
      "azure_cli_container01\r\n"
     ]
    }
   ],
   "source": [
    "!docker rm -f $az_cli_container"
   ]
  },
  {
   "cell_type": "code",
   "execution_count": null,
   "metadata": {},
   "outputs": [],
   "source": [
    "cli_base_command='docker run '+ \\\n",
    "'-it '+ \\\n",
    "'--name ' + az_cli_container+ ' ' + \\\n",
    "'mcr.microsoft.com/azure-cli '+ \\\n",
    "'/bin/bash  -c ' \n",
    "internal_command = '\"'+ \\\n",
    "'apk update && apk add --update --no-cache  openrc docker-cli docker; '+ \\\n",
    "'rc-update add docker boot; '+ \\\n",
    "' az login; '+ \\\n",
    "' az account set --subscription '+os.getenv('SUBSCRIPTION_ID')+ '; '+ \\\n",
    "' az account list -o table; '+\\\n",
    "'\"'\n",
    "\n",
    "cli_command = cli_base_command+internal_command\n",
    "\n",
    "cli_command\n",
    "!$cli_command"
   ]
  },
  {
   "cell_type": "code",
   "execution_count": 14,
   "metadata": {},
   "outputs": [
    {
     "name": "stdout",
     "output_type": "stream",
     "text": [
      "CONTAINER ID        IMAGE                                              COMMAND                   CREATED              STATUS                              PORTS                     NAMES\r\n",
      "7b60cf694989        mcr.microsoft.com/azure-cli                        \"/bin/bash -c 'apk u…\"    About a minute ago   Exited (0) Less than a second ago                             azure_cli_container01\r\n",
      "938323e49859        fwi01acr.azurecr.io/azure_devito_dask_k8s:latest   \"/bin/bash\"               6 hours ago          Up 6 hours                                                    azure_daks_container01\r\n",
      "f32d7131de6e        5f26eaf46815                                       \"/bin/sh -c 'echo \\\"d…\"   8 hours ago          Exited (255) 8 hours ago                                      sweet_cohen\r\n",
      "15585ded8403        29de32e5a723                                       \"/bin/sh -c 'apt-get…\"    8 hours ago          Exited (127) 8 hours ago                                      quirky_gould\r\n",
      "65f9ffd4fa5e        continuumio/miniconda3                             \"/bin/bash -c 'expor…\"    8 hours ago          Up 8 hours                          0.0.0.0:10001->8888/tcp   miniconda3_container01\r\n",
      "34d32e9686a6        9212ca35003a                                       \"/bin/sh -c 'git clo…\"    10 hours ago         Exited (128) 10 hours ago                                     naughty_zhukovsky\r\n",
      "61f3d8eb1013        6ea447aaad8f                                       \"/bin/bash -c ' : az…\"    10 hours ago         Exited (1) 10 hours ago                                       azure_cli_daks_container01\r\n",
      "959f98af7059        continuumio/miniconda3                             \"/bin/bash -c 'expor…\"    12 hours ago         Up 12 hours                         0.0.0.0:10002->8888/tcp   miniconda3_container02\r\n"
     ]
    }
   ],
   "source": [
    "# mcr.microsoft.com/azure-cli container was sarted without rm option so it should show up as stopped\n",
    "!docker container ls -a"
   ]
  },
  {
   "cell_type": "code",
   "execution_count": 15,
   "metadata": {},
   "outputs": [
    {
     "name": "stdout",
     "output_type": "stream",
     "text": [
      "sha256:5bc424c1498986eab6244a091f2d0af3de7f53db8bc6e6284ad2ab22f30aa840\n",
      "azure_cli_container01\n"
     ]
    }
   ],
   "source": [
    "!docker commit $az_cli_container $signed_in_az_cli_image\n",
    "!docker rm -f $az_cli_container"
   ]
  },
  {
   "cell_type": "code",
   "execution_count": 16,
   "metadata": {},
   "outputs": [
    {
     "name": "stdout",
     "output_type": "stream",
     "text": [
      "Login Succeeded\n",
      "\u001b[33mWARNING! Your password will be stored unencrypted in /root/.docker/config.json.\n",
      "Configure a credential helper to remove this warning. See\n",
      "https://docs.docker.com/engine/reference/commandline/login/#credentials-store\u001b[0m\n",
      "\u001b[0mUsing default tag: latest\n",
      "latest: Pulling from azure_batch_shipyard_devito\n",
      "Digest: sha256:3e42ecbc38c07465b3480752f280f655125e38f11384d36b19b21330921757ec\n",
      "Status: Image is up to date for fwi01acr.azurecr.io/azure_batch_shipyard_devito:latest\n"
     ]
    }
   ],
   "source": [
    "cli_base_command=' docker run ' +\\\n",
    "'-it '+\\\n",
    "'--name ' + az_cli_container+ ' ' + \\\n",
    "'-v '+ os.getenv('DOCKER_CONTAINER_MOUNT_POINT') +'/../:/workspace:rw '+ \\\n",
    "'-v /var/run/docker.sock:/var/run/docker.sock '+ \\\n",
    "signed_in_az_cli_image+ ' '+\\\n",
    "'/bin/bash  -c ' \n",
    "\n",
    "internal_command = '\"'+ \\\n",
    "' : az account list -o table; '+\\\n",
    "'az acr login --name '+os.getenv('ACR_NAME')+ \\\n",
    "' --username '+os.getenv('ACR_USERNAME')+ \\\n",
    "' --password ' + os.getenv('ACR_PASSWORD')+'; '+\\\n",
    "'docker pull '+docker_image_name+'; '+\\\n",
    "'\"'\n",
    "\n",
    "cli_command = cli_base_command+internal_command\n",
    "\n",
    "# cli_command\n",
    "!$cli_command"
   ]
  },
  {
   "cell_type": "markdown",
   "metadata": {},
   "source": [
    "Dockerfile references:  \n",
    "https://github.com/Azure/batch-shipyard/blob/master/images/docker/linux/cli/Dockerfile  \n",
    "https://github.com/matsuu/docker-azure-cli/blob/master/Dockerfile  \n",
    "https://github.com/Azure/azure-cli/blob/dev/Dockerfile  \n",
    "https://github.com/Azure/azure-functions-core-tools#other-linux-distributions  "
   ]
  },
  {
   "cell_type": "code",
   "execution_count": 17,
   "metadata": {},
   "outputs": [
    {
     "name": "stdout",
     "output_type": "stream",
     "text": [
      "Overwriting /workspace/notebooks/docker_files/Dockerfile_azure_batch_shipyard_devito\n"
     ]
    }
   ],
   "source": [
    "%%writefile $docker_file_path \n",
    "\n",
    "# https://hub.docker.com/r/microsoft/azure-cli/dockerfile   \n",
    "FROM debian:latest \n",
    "MAINTAINER George Iordanescu <ghiordan@microsoft.com>\n",
    "\n",
    "# https://github.com/Azure/batch-shipyard/blob/master/images/docker/linux/cli/Dockerfile\n",
    "# https://github.com/Azure/batch-shipyard/blob/master/cargo/Dockerfile\n",
    "RUN apt-get update --fix-missing && apt-get install -y --no-install-recommends \\\n",
    "    python3 python3-pip python3-setuptools \\\n",
    "    ca-certificates curl apt-transport-https lsb-release gnupg openssh-client openssh-server \\\n",
    "    zip unzip \\\n",
    "    wget rsync git && \\\n",
    "    apt-get clean && \\\n",
    "    rm -rf /var/lib/apt/lists/*   && \\\n",
    "    git clone https://github.com/Azure/batch-shipyard.git /opt/batch-shipyard && \\\n",
    "    cd /opt/batch-shipyard && \\\n",
    "    rm -rf .git .github .vsts && \\\n",
    "    rm -f .git* .travis.yml *.yml install*  && \\\n",
    "    python3 -m pip install --no-cache-dir --upgrade pip  && \\\n",
    "    pip3 install --no-cache-dir -r requirements.txt  && \\\n",
    "    pip3 install --no-cache-dir --no-deps -r req_nodeps.txt && \\\n",
    "    python3 -m compileall -f /opt/batch-shipyard/shipyard.py /opt/batch-shipyard/convoy \n",
    "# ENTRYPOINT [\"/opt/batch-shipyard/shipyard.py\"]\n",
    "\n",
    "# https://docs.microsoft.com/en-us/cli/azure/install-azure-cli-apt?view=azure-cli-latest#no-package-for-your-distribution\n",
    "# ENV AZ_CLI_REPO=stretch   \n",
    "RUN echo \"deb [arch=amd64] https://packages.microsoft.com/repos/azure-cli/ $(lsb_release -sc) main\" | \\\n",
    "    tee /etc/apt/sources.list.d/azure-cli.list && \\\n",
    "    curl -L https://packages.microsoft.com/keys/microsoft.asc | apt-key add - && \\\n",
    "    apt-get update && \\\n",
    "    apt-get install -y --no-install-recommends \\\n",
    "    azure-cli \n",
    "\n",
    "# https://github.com/Azure/azure-functions-core-tools\n",
    "ENV AzFunctionsCoreTools_DIR /azure-functions-cli\n",
    "RUN mkdir /tmp/AzFunctionsCoreTools3 && \\\n",
    "    mkdir -p $AzFunctionsCoreTools_DIR && \\\n",
    "    cd /tmp/AzFunctionsCoreTools3 && \\\n",
    "    wget --quiet --no-check-certificate \\\n",
    "    https://github.com/Azure/azure-functions-core-tools/releases/download/2.7.2100/Azure.Functions.Cli.linux-x64.2.7.2100.zip  && \\\n",
    "    unzip  -qq -d $AzFunctionsCoreTools_DIR Azure.Functions.Cli.linux-x64.*.zip && \\\n",
    "    rm -f Azure.Functions.Cli.linux-x64.*.zip && \\\n",
    "    cd $AzFunctionsCoreTools_DIR && \\\n",
    "    chmod +x func\n",
    "ENV PATH=$AzFunctionsCoreTools_DIR:$PATH    "
   ]
  },
  {
   "cell_type": "code",
   "execution_count": 18,
   "metadata": {},
   "outputs": [
    {
     "data": {
      "text/plain": [
       "'docker build -t fwi01acr.azurecr.io/azure_batch_shipyard_devito -f /workspace/notebooks/docker_files/Dockerfile_azure_batch_shipyard_devito /workspace/notebooks/docker_build  '"
      ]
     },
     "execution_count": 18,
     "metadata": {},
     "output_type": "execute_result"
    }
   ],
   "source": [
    "cli_command='docker build -t '+ docker_image_name + \\\n",
    "' -f ' + docker_file_path + \\\n",
    "' ' + docker_build_dir + ' ' +\\\n",
    "docker_build_no_cache  + ' ' \n",
    "#  ' --target AzureBatchShipyardAzCliAzFunctionsCoreTools'\n",
    "\n",
    "cli_command\n",
    "# docker_build_response = ! $cli_command\n",
    "\n",
    "# docker_build_response[0:5] \n",
    "# docker_build_response[-5:]"
   ]
  },
  {
   "cell_type": "code",
   "execution_count": 19,
   "metadata": {},
   "outputs": [
    {
     "name": "stdout",
     "output_type": "stream",
     "text": [
      "Sending build context to Docker daemon  3.631kB\n",
      "Step 1/7 : FROM debian:latest\n",
      " ---> 971452c94376\n",
      "Step 2/7 : MAINTAINER George Iordanescu <ghiordan@microsoft.com>\n",
      " ---> Using cache\n",
      " ---> 29de32e5a723\n",
      "Step 3/7 : RUN apt-get update --fix-missing && apt-get install -y --no-install-recommends     python3 python3-pip python3-setuptools     ca-certificates curl apt-transport-https lsb-release gnupg openssh-client openssh-server     zip unzip     wget rsync git &&     apt-get clean &&     rm -rf /var/lib/apt/lists/*   &&     git clone https://github.com/Azure/batch-shipyard.git /opt/batch-shipyard &&     cd /opt/batch-shipyard &&     rm -rf .git .github .vsts &&     rm -f .git* .travis.yml *.yml install*  &&     python3 -m pip install --no-cache-dir --upgrade pip  &&     pip3 install --no-cache-dir -r requirements.txt  &&     pip3 install --no-cache-dir --no-deps -r req_nodeps.txt &&     python3 -m compileall -f /opt/batch-shipyard/shipyard.py /opt/batch-shipyard/convoy\n",
      " ---> Using cache\n",
      " ---> 01ab3a24a8ab\n",
      "Step 4/7 : RUN echo \"deb [arch=amd64] https://packages.microsoft.com/repos/azure-cli/ $(lsb_release -sc) main\" |     tee /etc/apt/sources.list.d/azure-cli.list &&     curl -L https://packages.microsoft.com/keys/microsoft.asc | apt-key add - &&     apt-get update &&     apt-get install -y --no-install-recommends     azure-cli\n",
      " ---> Using cache\n",
      " ---> 4246f3f72437\n",
      "Step 5/7 : ENV AzFunctionsCoreTools_DIR /azure-functions-cli\n",
      " ---> Using cache\n",
      " ---> 675090aabd80\n",
      "Step 6/7 : RUN mkdir /tmp/AzFunctionsCoreTools3 &&     mkdir -p $AzFunctionsCoreTools_DIR &&     cd /tmp/AzFunctionsCoreTools3 &&     wget --quiet --no-check-certificate     https://github.com/Azure/azure-functions-core-tools/releases/download/2.7.2100/Azure.Functions.Cli.linux-x64.2.7.2100.zip  &&     unzip  -qq -d $AzFunctionsCoreTools_DIR Azure.Functions.Cli.linux-x64.*.zip &&     rm -f Azure.Functions.Cli.linux-x64.*.zip &&     cd $AzFunctionsCoreTools_DIR &&     chmod +x func\n",
      " ---> Using cache\n",
      " ---> b831e75760a9\n",
      "Step 7/7 : ENV PATH=$AzFunctionsCoreTools_DIR:$PATH\n",
      " ---> Using cache\n",
      " ---> 347dfc4d7070\n",
      "Successfully built 347dfc4d7070\n",
      "Successfully tagged fwi01acr.azurecr.io/azure_batch_shipyard_devito:latest\n"
     ]
    }
   ],
   "source": [
    "! $cli_command"
   ]
  },
  {
   "cell_type": "markdown",
   "metadata": {},
   "source": [
    "##### Build base docker image\n",
    " - use control plane docker image just built above\n",
    " - build azure_batch_shipyard_devito_base_image_name defined by src/AzureBatch/docker/base_image/Dockerfile\n",
    " - creates public and private ssh keys in /root/.ssh/ in azure_batch_shipyard_devito_base_image_name docker image\n",
    " - cp /root/.ssh/id_rsa.pub /root/.ssh/authorized_keys"
   ]
  },
  {
   "cell_type": "code",
   "execution_count": 20,
   "metadata": {},
   "outputs": [
    {
     "data": {
      "text/plain": [
       "'/workspace/notebooks/./not_shared/azuredevitogatechssh'"
      ]
     },
     "execution_count": 20,
     "metadata": {},
     "output_type": "execute_result"
    },
    {
     "data": {
      "text/plain": [
       "'/datadrive01/prj/Azure2019/notebooks/./not_shared/azuredevitogatechssh'"
      ]
     },
     "execution_count": 20,
     "metadata": {},
     "output_type": "execute_result"
    }
   ],
   "source": [
    "# these two paths point to the same location, one inside this control plane container and one on host VM\n",
    "os.path.join(*([os.getcwd()]+ SSH_KEYS_FILE_PATH))\n",
    "os.path.join(*([os.getenv('DOCKER_CONTAINER_MOUNT_POINT')]+ SSH_KEYS_FILE_PATH))"
   ]
  },
  {
   "cell_type": "code",
   "execution_count": 21,
   "metadata": {},
   "outputs": [
    {
     "data": {
      "text/plain": [
       "'docker run -it --rm --name azure-cli_container01 -v /datadrive01/prj/Azure2019/notebooks/../:/workspace:rw -v /datadrive01/prj/Azure2019/notebooks/./not_shared/azuredevitogatechssh:/root/.ssh:ro -v /usr/bin/docker:/usr/bin/docker -v /var/run/docker.sock:/var/run/docker.sock fwi01acr.azurecr.io/azure_batch_shipyard_devito /bin/bash -c \"cd /workspace/src/AzureBatch/docker/base_image/ &&  docker build -t devito_azure_base:v1.0 .\"'"
      ]
     },
     "execution_count": 21,
     "metadata": {},
     "output_type": "execute_result"
    },
    {
     "name": "stdout",
     "output_type": "stream",
     "text": [
      "Sending build context to Docker daemon  4.096kB\n",
      "Step 1/9 : FROM ubuntu:18.04\n",
      " ---> 4e5021d210f6\n",
      "Step 2/9 : COPY ssh_config /root/.ssh/config\n",
      " ---> Using cache\n",
      " ---> 914c2f3c8a07\n",
      "Step 3/9 : RUN apt-get update     && apt-get install -y --no-install-recommends         build-essential ca-certificates wget openssh-client openssh-server         mpich libmpich-dev     && mkdir -p /var/run/sshd     && ssh-keygen -A     && sed -i 's/UsePAM yes/UsePAM no/g' /etc/ssh/sshd_config     && sed -i 's/#PermitRootLogin yes/PermitRootLogin yes/g' /etc/ssh/sshd_config     && sed -i 's/#RSAAuthentication yes/RSAAuthentication yes/g' /etc/ssh/sshd_config     && sed -i 's/#PubkeyAuthentication yes/PubkeyAuthentication yes/g' /etc/ssh/sshd_config     && ssh-keygen -f /root/.ssh/id_rsa -t rsa -N ''     && chmod 600 /root/.ssh/config     && chmod 700 /root/.ssh     && cp /root/.ssh/id_rsa.pub /root/.ssh/authorized_keys\n",
      " ---> Using cache\n",
      " ---> a173f778cf0e\n",
      "Step 4/9 : RUN apt-get install -y htop vim git-core\n",
      " ---> Using cache\n",
      " ---> 3db257d7ed8b\n",
      "Step 5/9 : RUN apt-get install -y python3 python3-pip\n",
      " ---> Using cache\n",
      " ---> d4def79edf63\n",
      "Step 6/9 : RUN pip3 install --upgrade pip\n",
      " ---> Using cache\n",
      " ---> 76fd47ae0802\n",
      "Step 7/9 : RUN pip3 install --upgrade git+https://github.com/opesci/devito.git\n",
      " ---> Using cache\n",
      " ---> dabc463eaad3\n",
      "Step 8/9 : RUN pip3 install mpi4py matplotlib\n",
      " ---> Using cache\n",
      " ---> 33b5020faa68\n",
      "Step 9/9 : RUN rm -rf /var/lib/apt/lists/* \t&& apt-get clean\n",
      " ---> Using cache\n",
      " ---> ac6cdaba3c01\n",
      "Successfully built ac6cdaba3c01\n",
      "Successfully tagged devito_azure_base:v1.0\n"
     ]
    }
   ],
   "source": [
    "cli_base_command='docker run '+ \\\n",
    "'-it '+ \\\n",
    "'--rm '+ \\\n",
    "'--name azure-cli_container01 '+ \\\n",
    "'-v '+ os.getenv('DOCKER_CONTAINER_MOUNT_POINT') +'/../:/workspace:rw '+ \\\n",
    "'-v '+os.path.join(*([os.getenv('DOCKER_CONTAINER_MOUNT_POINT')]+ SSH_KEYS_FILE_PATH))+':/root/.ssh:ro '+ \\\n",
    "'-v /usr/bin/docker:/usr/bin/docker '+ \\\n",
    "'-v /var/run/docker.sock:/var/run/docker.sock '+ \\\n",
    "docker_image_name + ' '+ \\\n",
    "'/bin/bash -c ' \n",
    "\n",
    "image_name = azure_batch_shipyard_devito_base_image_name\n",
    "sibling_docker_build_command = '\"cd /workspace/src/AzureBatch/docker/base_image/ &&  docker build -t '+\\\n",
    "image_name + ' .\"'\n",
    "# sibling_docker_build_command = '\"ls -la /root/.ssh/; cat /root/.ssh/id_rsa.pub\"'\n",
    "cli_command = cli_base_command+sibling_docker_build_command\n",
    "cli_command\n",
    "\n",
    "!$cli_command"
   ]
  },
  {
   "cell_type": "markdown",
   "metadata": {},
   "source": [
    "##### Build tti docker image\n",
    " - use azure_batch_shipyard_devito_base_image_name docker image just built above\n",
    " - build azure_batch_shipyard_devito_tti_image_name defined by src/AzureBatch/docker/tti_image/Dockerfile\n",
    " - uses /root/.ssh/authorized_keys created above in azure_batch_shipyard_devito_base_image_name docker image"
   ]
  },
  {
   "cell_type": "code",
   "execution_count": 22,
   "metadata": {},
   "outputs": [
    {
     "data": {
      "text/plain": [
       "'docker run -it --rm --name azure-cli_container01 -v /datadrive01/prj/Azure2019/notebooks/../:/workspace:rw -v /datadrive01/prj/Azure2019/notebooks/./not_shared/azuredevitogatechssh:/root/.ssh:ro -v /usr/bin/docker:/usr/bin/docker -v /var/run/docker.sock:/var/run/docker.sock devito_azure_base:v1.0 /bin/bash -c \"cd /workspace/src/AzureBatch/docker/tti_image/ &&  docker build -t devito_azure_tti:v1.0 .\"'"
      ]
     },
     "execution_count": 22,
     "metadata": {},
     "output_type": "execute_result"
    },
    {
     "name": "stdout",
     "output_type": "stream",
     "text": [
      "Sending build context to Docker daemon  84.99kB\n",
      "Step 1/6 : FROM devito_azure_base:v1.0\n",
      " ---> ac6cdaba3c01\n",
      "Step 2/6 : RUN pip3 install azure-storage-blob h5py segyio boto3\n",
      " ---> Using cache\n",
      " ---> 846436df1ed2\n",
      "Step 3/6 : RUN pip3 install azure-storage\n",
      " ---> Using cache\n",
      " ---> 1e7dad016a37\n",
      "Step 4/6 : ADD ./tti /app/tti\n",
      " ---> Using cache\n",
      " ---> 8d99249b399a\n",
      "Step 5/6 : EXPOSE 23\n",
      " ---> Using cache\n",
      " ---> e7d2755d0564\n",
      "Step 6/6 : CMD [\"/usr/sbin/sshd\", \"-D\", \"-p\", \"23\"]\n",
      " ---> Using cache\n",
      " ---> 14654a5f11b2\n",
      "Successfully built 14654a5f11b2\n",
      "Successfully tagged devito_azure_tti:v1.0\n"
     ]
    }
   ],
   "source": [
    "cli_base_command='docker run '+ \\\n",
    "'-it '+ \\\n",
    "'--rm '+ \\\n",
    "'--name azure-cli_container01 '+ \\\n",
    "'-v '+ os.getenv('DOCKER_CONTAINER_MOUNT_POINT') +'/../:/workspace:rw '+ \\\n",
    "'-v '+os.path.join(*([os.getenv('DOCKER_CONTAINER_MOUNT_POINT')]+ SSH_KEYS_FILE_PATH))+':/root/.ssh:ro '+ \\\n",
    "'-v /usr/bin/docker:/usr/bin/docker '+ \\\n",
    "'-v /var/run/docker.sock:/var/run/docker.sock '+ \\\n",
    "azure_batch_shipyard_devito_base_image_name + ' '+ \\\n",
    "'/bin/bash -c ' \n",
    "\n",
    "image_name = azure_batch_shipyard_devito_tti_image_name\n",
    "sibling_docker_build_command = '\"cd /workspace/src/AzureBatch/docker/tti_image/ &&  docker build -t '+\\\n",
    "image_name + ' .\"'\n",
    "cli_command = cli_base_command+sibling_docker_build_command\n",
    "cli_command\n",
    "!$cli_command"
   ]
  },
  {
   "cell_type": "markdown",
   "metadata": {},
   "source": [
    "##### Use control plane docker image to self push into ACR"
   ]
  },
  {
   "cell_type": "code",
   "execution_count": 23,
   "metadata": {},
   "outputs": [
    {
     "name": "stdout",
     "output_type": "stream",
     "text": [
      "Login Succeeded\n",
      "\u001b[33mWARNING! Your password will be stored unencrypted in /root/.docker/config.json.\n",
      "Configure a credential helper to remove this warning. See\n",
      "https://docs.docker.com/engine/reference/commandline/login/#credentials-store\u001b[0m\n",
      "\u001b[0mThe push refers to repository [fwi01acr.azurecr.io/azure_batch_shipyard_devito]\n",
      "\n",
      "\u001b[1Ba168c584: Preparing \n",
      "\u001b[1B2ff327a7: Preparing \n",
      "\u001b[1B396bf5b7: Preparing \n",
      "\u001b[2B396bf5b7: Layer already exists \u001b[4A\u001b[1K\u001b[K\u001b[1A\u001b[1K\u001b[K\u001b[2A\u001b[1K\u001b[Klatest: digest: sha256:3e42ecbc38c07465b3480752f280f655125e38f11384d36b19b21330921757ec size: 1167\n",
      "The push refers to repository [fwi01acr.azurecr.io/devito_azure_base]\n",
      "\n",
      "\u001b[1Bf3021e40: Preparing \n",
      "\u001b[1B537b682d: Preparing \n",
      "\u001b[1B751f310d: Preparing \n",
      "\u001b[1Ba7fde2a0: Preparing \n",
      "\u001b[1B241082ad: Preparing \n",
      "\u001b[1B1f8c337d: Preparing \n",
      "\u001b[1Be83e6a34: Preparing \n",
      "\u001b[1Bfb27e509: Preparing \n",
      "\u001b[1B2a8fc3be: Preparing \n",
      "\u001b[1Bda2e2e52: Preparing \n",
      "\u001b[1B83d4e999: Preparing \n",
      "\u001b[1B1b8f4d60: Layer already exists K\u001b[9A\u001b[1K\u001b[K\u001b[11A\u001b[1K\u001b[K\u001b[8A\u001b[1K\u001b[K\u001b[6A\u001b[1K\u001b[K\u001b[5A\u001b[1K\u001b[K\u001b[2A\u001b[1K\u001b[K\u001b[1A\u001b[1K\u001b[Kv1.0: digest: sha256:3b013cccf97b66acd4905a0efd408d6b5e51e268dee8c432b7407661af92ecad size: 2839\n",
      "The push refers to repository [fwi01acr.azurecr.io/devito_azure_tti]\n",
      "\n",
      "\u001b[1Bab9fba43: Preparing \n",
      "\u001b[1B05cab02c: Preparing \n",
      "\u001b[1B3a282345: Preparing \n",
      "\u001b[1Bf3021e40: Preparing \n",
      "\u001b[1B537b682d: Preparing \n",
      "\u001b[1B751f310d: Preparing \n",
      "\u001b[1Ba7fde2a0: Preparing \n",
      "\u001b[1B241082ad: Preparing \n",
      "\u001b[1B1f8c337d: Preparing \n",
      "\u001b[1Be83e6a34: Preparing \n",
      "\u001b[1Bfb27e509: Preparing \n",
      "\u001b[1B2a8fc3be: Preparing \n",
      "\u001b[1Bda2e2e52: Preparing \n",
      "\u001b[1B83d4e999: Preparing \n",
      "\u001b[4B2a8fc3be: Layer already exists K\u001b[11A\u001b[1K\u001b[K\u001b[8A\u001b[1K\u001b[K\u001b[6A\u001b[1K\u001b[K\u001b[7A\u001b[1K\u001b[K\u001b[1A\u001b[1K\u001b[Kv1.0: digest: sha256:cfc22b65377fda416f2d230641a58714ed75bdc63a1582744022f4c1d896b1a7 size: 3470\n"
     ]
    }
   ],
   "source": [
    "full_azure_batch_shipyard_devito_base_image_name=docker_repo_name+ '/' + azure_batch_shipyard_devito_base_image_name\n",
    "full_azure_batch_shipyard_devito_tti_image_name=docker_repo_name+ '/' + azure_batch_shipyard_devito_tti_image_name\n",
    "\n",
    "cli_base_command='docker run '+ \\\n",
    "'-it '+ \\\n",
    "'--rm '+ \\\n",
    "'--name azure-cli_container01 '+ \\\n",
    "'-v '+ os.getenv('DOCKER_CONTAINER_MOUNT_POINT') +'/../:/workspace:rw '+ \\\n",
    "'-v /var/run/docker.sock:/var/run/docker.sock '+ \\\n",
    "signed_in_az_cli_image + ' '+ \\\n",
    "'/bin/bash -c ' \n",
    "\n",
    "\n",
    "internal_command = '\"'+ \\\n",
    "'az acr login --name '+os.getenv('ACR_NAME')+ \\\n",
    "' --username '+os.getenv('ACR_USERNAME')+ \\\n",
    "' --password ' + os.getenv('ACR_PASSWORD')+'; '+\\\n",
    "'docker push '+docker_image_name+'; '+\\\n",
    "'docker tag '+ azure_batch_shipyard_devito_base_image_name+' '+ full_azure_batch_shipyard_devito_base_image_name+'; '+\\\n",
    "'docker tag '+ azure_batch_shipyard_devito_tti_image_name+' '+ full_azure_batch_shipyard_devito_tti_image_name+'; '+\\\n",
    "'docker push '+full_azure_batch_shipyard_devito_base_image_name+'; '+\\\n",
    "'docker push '+full_azure_batch_shipyard_devito_tti_image_name+'; '+\\\n",
    "'\"'\n",
    "cli_command = cli_base_command+internal_command\n",
    "# cli_command\n",
    "!$cli_command"
   ]
  },
  {
   "cell_type": "code",
   "execution_count": 24,
   "metadata": {},
   "outputs": [
    {
     "data": {
      "text/plain": [
       "'docker tag fwi01acr.azurecr.io/azure_batch_shipyard_devito georgedockeraccount/azure_batch_shipyard_devito'"
      ]
     },
     "execution_count": 24,
     "metadata": {},
     "output_type": "execute_result"
    },
    {
     "name": "stdout",
     "output_type": "stream",
     "text": [
      "WARNING! Using --password via the CLI is insecure. Use --password-stdin.\n",
      "WARNING! Your password will be stored unencrypted in /root/.docker/config.json.\n",
      "Configure a credential helper to remove this warning. See\n",
      "https://docs.docker.com/engine/reference/commandline/login/#credentials-store\n",
      "\n",
      "Login Succeeded\n",
      "The push refers to repository [docker.io/georgedockeraccount/azure_batch_shipyard_devito]\n",
      "An image does not exist locally with the tag: georgedockeraccount/azure_batch_shipyard_devito\n"
     ]
    }
   ],
   "source": [
    "if use_ACR_and_dockerhub:\n",
    "    control_plane_docker_image_dockerhub_name = os.getenv('DOCKERHUB_LOGIN')+ '/' + docker_image_name_only\n",
    "    cli_command='docker tag '+ docker_image_name+' '+ control_plane_docker_image_dockerhub_name\n",
    "    cli_command\n",
    "\n",
    "    docker_pwd = os.getenv('DOCKERHUB_PWD')\n",
    "    docker_login = os.getenv('DOCKERHUB_LOGIN')\n",
    "    !docker login -u=$docker_login -p=$docker_pwd\n",
    "    !docker push {control_plane_docker_image_dockerhub_name}\n",
    " "
   ]
  },
  {
   "cell_type": "code",
   "execution_count": 25,
   "metadata": {},
   "outputs": [],
   "source": [
    "# !docker image ls\n",
    "# !docker tag fwi01acr.azurecr.io/azure_batch_shipyard_devito georgedockeraccount/azure_batch_shipyard_devito\n",
    "# !docker image ls\n",
    "# !docker push georgedockeraccount/azure_batch_shipyard_devito"
   ]
  },
  {
   "cell_type": "code",
   "execution_count": null,
   "metadata": {},
   "outputs": [],
   "source": []
  }
 ],
 "metadata": {
  "kernelspec": {
   "display_name": "Python 3",
   "language": "python",
   "name": "python3"
  },
  "language_info": {
   "codemirror_mode": {
    "name": "ipython",
    "version": 3
   },
   "file_extension": ".py",
   "mimetype": "text/x-python",
   "name": "python",
   "nbconvert_exporter": "python",
   "pygments_lexer": "ipython3",
   "version": "3.7.7"
  }
 },
 "nbformat": 4,
 "nbformat_minor": 2
}
