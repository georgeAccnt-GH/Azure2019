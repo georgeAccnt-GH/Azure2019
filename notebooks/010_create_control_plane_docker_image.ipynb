{
 "cells": [
  {
   "cell_type": "markdown",
   "metadata": {},
   "source": [
    "#### Azure Batch Shipyard devito "
   ]
  },
  {
   "cell_type": "code",
   "execution_count": 1,
   "metadata": {},
   "outputs": [],
   "source": [
    "# Allow multiple displays per cell\n",
    "from IPython.core.interactiveshell import InteractiveShell\n",
    "InteractiveShell.ast_node_interactivity = \"all\""
   ]
  },
  {
   "cell_type": "code",
   "execution_count": 2,
   "metadata": {},
   "outputs": [],
   "source": [
    "not_shared_dir_list = ['.', 'not_shared']\n",
    "DOTENV_FILE_PATH = not_shared_dir_list + ['general.env']\n",
    "SIBLING_DOCKER_DOTENV_FILE_PATH = not_shared_dir_list + ['sibling_docker.env']\n",
    "\n",
    "SSH_KEYS_FILE_PATH = not_shared_dir_list + ['azuredevitogatechssh']\n",
    "ssh_key_file_name = 'id_rsa' #'devito-slim-key-rsa'\n",
    "\n",
    "docker_file_location = 'docker_files'\n",
    "docker_build_location = 'docker_build'\n",
    "docker_build_no_cache = ''  # '--no-cache' # or '' #\n",
    "\n",
    "control_plane_docker_image_name = \"azure_batch_shipyard_devito\"\n",
    "control_plane_docker_image_tag = \"\"\n",
    "\n",
    "azure_batch_shipyard_devito_base_image_name = 'devito_azure_base:v1.0'\n",
    "azure_batch_shipyard_devito_tti_image_name = 'devito_azure_tti:v1.0'\n",
    "\n",
    "az_cli_container = \"azure_cli_container01\"\n",
    "signed_in_az_cli_image = 'new_az_cli_image'\n",
    "\n",
    "\n",
    "use_ACR_and_dockerhub = True"
   ]
  },
  {
   "cell_type": "code",
   "execution_count": 3,
   "metadata": {},
   "outputs": [],
   "source": [
    "import sys, os, pathlib, shutil\n",
    "import platform,  dotenv\n",
    "import subprocess"
   ]
  },
  {
   "cell_type": "code",
   "execution_count": 4,
   "metadata": {},
   "outputs": [
    {
     "data": {
      "text/plain": [
       "'Linux-4.15.0-1082-azure-x86_64-with-debian-10.3'"
      ]
     },
     "execution_count": 4,
     "metadata": {},
     "output_type": "execute_result"
    },
    {
     "data": {
      "text/plain": [
       "'/workspace/notebooks'"
      ]
     },
     "execution_count": 4,
     "metadata": {},
     "output_type": "execute_result"
    }
   ],
   "source": [
    "platform.platform()\n",
    "os.getcwd()"
   ]
  },
  {
   "cell_type": "code",
   "execution_count": 5,
   "metadata": {},
   "outputs": [
    {
     "data": {
      "text/plain": [
       "'./not_shared/general.env'"
      ]
     },
     "execution_count": 5,
     "metadata": {},
     "output_type": "execute_result"
    },
    {
     "data": {
      "text/plain": [
       "'./not_shared/sibling_docker.env'"
      ]
     },
     "execution_count": 5,
     "metadata": {},
     "output_type": "execute_result"
    }
   ],
   "source": [
    "def create_dot_env_file(dotenv_file_path_list):\n",
    "    created_dotenv_file_path = os.path.join(*(dotenv_file_path_list)) \n",
    "    os.makedirs(os.path.join(*(dotenv_file_path_list[:-1])), exist_ok=True)\n",
    "    pathlib.Path(created_dotenv_file_path).touch()\n",
    "    return created_dotenv_file_path\n",
    "\n",
    "dotenv_file_path = create_dot_env_file(DOTENV_FILE_PATH)\n",
    "sibling_docker_dotenv_file_path = create_dot_env_file(SIBLING_DOCKER_DOTENV_FILE_PATH)\n",
    "\n",
    "# # show .env file path\n",
    "# !pwd\n",
    "dotenv_file_path\n",
    "sibling_docker_dotenv_file_path"
   ]
  },
  {
   "cell_type": "markdown",
   "metadata": {},
   "source": [
    "Save your sensitive info"
   ]
  },
  {
   "cell_type": "code",
   "execution_count": 6,
   "metadata": {},
   "outputs": [],
   "source": [
    "ACR_NAME=\"fwi01acr\"\n",
    "ACR_PASSWORD=\"\"\n",
    "ACR_USERNAME=\"fwi01acr\"\n",
    "\n",
    "dockerhub_login = \"georgedockeraccount\"\n",
    "dockerhub_pwd = \"\"\n",
    "\n",
    "SUBSCRIPTION_ID=\"\"\n",
    "\n",
    "docker_container_mount_point = os.getcwd()"
   ]
  },
  {
   "cell_type": "code",
   "execution_count": 7,
   "metadata": {},
   "outputs": [],
   "source": [
    "# dotenv.set_key(dotenv_file_path, 'ACR_NAME', ACR_NAME)\n",
    "# dotenv.set_key(dotenv_file_path, 'ACR_PASSWORD', ACR_PASSWORD)\n",
    "# dotenv.set_key(dotenv_file_path, 'ACR_USERNAME', ACR_USERNAME)\n",
    "\n",
    "# dotenv.set_key(dotenv_file_path, 'DOCKERHUB_LOGIN', dockerhub_login)\n",
    "# dotenv.set_key(dotenv_file_path, 'DOCKERHUB_PWD', dockerhub_pwd)\n",
    "\n",
    "# dotenv.set_key(dotenv_file_path, 'SUBSCRIPTION_ID', SUBSCRIPTION_ID)\n",
    "\n",
    "# dotenv.set_key(dotenv_file_path,'control_plane_docker_image_name', control_plane_docker_image_name)\n",
    "# dotenv.set_key(dotenv_file_path,'control_plane_docker_image_tag', control_plane_docker_image_tag)\n",
    "\n",
    "# dotenv.set_key(sibling_docker_dotenv_file_path, 'DOCKER_CONTAINER_MOUNT_POINT', docker_container_mount_point)"
   ]
  },
  {
   "cell_type": "code",
   "execution_count": 8,
   "metadata": {},
   "outputs": [
    {
     "data": {
      "text/plain": [
       "True"
      ]
     },
     "execution_count": 8,
     "metadata": {},
     "output_type": "execute_result"
    },
    {
     "data": {
      "text/plain": [
       "'fwi01acr.azurecr.io/azure_batch_shipyard_devito'"
      ]
     },
     "execution_count": 8,
     "metadata": {},
     "output_type": "execute_result"
    },
    {
     "data": {
      "text/plain": [
       "'/workspace/notebooks/docker_files'"
      ]
     },
     "execution_count": 8,
     "metadata": {},
     "output_type": "execute_result"
    },
    {
     "data": {
      "text/plain": [
       "'/workspace/notebooks/docker_files/Dockerfile_azure_batch_shipyard_devito'"
      ]
     },
     "execution_count": 8,
     "metadata": {},
     "output_type": "execute_result"
    },
    {
     "data": {
      "text/plain": [
       "'/workspace/notebooks/docker_build'"
      ]
     },
     "execution_count": 8,
     "metadata": {},
     "output_type": "execute_result"
    },
    {
     "data": {
      "text/plain": [
       "'/workspace/notebooks/./not_shared/azuredevitogatechssh'"
      ]
     },
     "execution_count": 8,
     "metadata": {},
     "output_type": "execute_result"
    }
   ],
   "source": [
    "dotenv.load_dotenv(dotenv_path=dotenv_file_path)\n",
    "docker_file_location = os.path.join(*(os.getcwd(), docker_file_location))\n",
    "\n",
    "docker_file_name = 'Dockerfile'+ '_' + os.getenv('control_plane_docker_image_name')\n",
    "\n",
    "docker_image_name_only = os.getenv('control_plane_docker_image_name')\n",
    "image_version = os.getenv('control_plane_docker_image_tag')\n",
    "if image_version!=\"\":\n",
    "    docker_file_name = docker_file_name +'_'+ image_version\n",
    "    docker_image_name_only = docker_image_name_only +':'+ image_version\n",
    "\n",
    "# docker_repo_name = os.getenv('DOCKERHUB_LOGIN') # or  \n",
    "docker_repo_name = os.getenv('ACR_NAME')+'.azurecr.io' \n",
    "docker_image_name = docker_repo_name + '/' + docker_image_name_only\n",
    "\n",
    "\n",
    "docker_file_dir = os.path.join(*([os.getcwd(), docker_file_location]))\n",
    "os.makedirs(docker_file_dir, exist_ok=True)\n",
    "docker_file_path = os.path.join(*([docker_file_dir]+[docker_file_name]))\n",
    "\n",
    "docker_build_dir = os.path.join(*([os.getcwd(), docker_build_location]))\n",
    "os.makedirs(docker_build_dir, exist_ok=True)\n",
    "\n",
    "ssh_keys_file_dir = os.path.join(*([os.getcwd()]+ SSH_KEYS_FILE_PATH))\n",
    "os.makedirs(ssh_keys_file_dir, exist_ok=True)\n",
    "\n",
    "docker_image_name\n",
    "docker_file_dir\n",
    "docker_file_path\n",
    "docker_build_dir\n",
    "ssh_keys_file_dir"
   ]
  },
  {
   "cell_type": "code",
   "execution_count": 9,
   "metadata": {},
   "outputs": [
    {
     "data": {
      "text/plain": [
       "True"
      ]
     },
     "execution_count": 9,
     "metadata": {},
     "output_type": "execute_result"
    },
    {
     "data": {
      "text/plain": [
       "'/datadrive01/prj/Azure2019/notebooks'"
      ]
     },
     "execution_count": 9,
     "metadata": {},
     "output_type": "execute_result"
    }
   ],
   "source": [
    "dotenv.load_dotenv(dotenv_path=sibling_docker_dotenv_file_path)\n",
    "os.getenv('DOCKER_CONTAINER_MOUNT_POINT')"
   ]
  },
  {
   "cell_type": "markdown",
   "metadata": {},
   "source": [
    "###### Generate local ssh keys (if needed)"
   ]
  },
  {
   "cell_type": "code",
   "execution_count": 10,
   "metadata": {},
   "outputs": [
    {
     "data": {
      "text/plain": [
       "'/workspace/notebooks/./not_shared/azuredevitogatechssh/id_rsa'"
      ]
     },
     "execution_count": 10,
     "metadata": {},
     "output_type": "execute_result"
    },
    {
     "name": "stdout",
     "output_type": "stream",
     "text": [
      "-rwxrwxrwx 1 root root 743 Mar 13 22:55 /workspace/notebooks/./not_shared/azuredevitogatechssh/id_rsa.pub\r\n"
     ]
    }
   ],
   "source": [
    "ssh_key_name_full = os.path.join(*([ssh_keys_file_dir]+ [ssh_key_file_name])) \n",
    "ssh_key_name_full\n",
    "\n",
    "pub_ssh_key_name_full = ssh_key_name_full+'.pub'\n",
    "! ls -la $pub_ssh_key_name_full "
   ]
  },
  {
   "cell_type": "code",
   "execution_count": 11,
   "metadata": {},
   "outputs": [
    {
     "name": "stdout",
     "output_type": "stream",
     "text": [
      "Found ssh key (/workspace/notebooks/./not_shared/azuredevitogatechssh/id_rsa), will use it\n",
      "total 28\n",
      "drwxrwxrwx 3 root root 4096 Mar 23 22:42 .\n",
      "drwxrwxrwx 5 1003 1003 4096 Mar 27 02:46 ..\n",
      "drwxrwxrwx 2 root root 4096 Mar 13 22:29 .ipynb_checkpoints\n",
      "-rw-rw-r-- 1 1003 1003 1823 Mar 23 22:42 azuredevitogatechsshkey\n",
      "-rw-rw-r-- 1 1003 1003  399 Mar 23 22:42 azuredevitogatechsshkey.pub\n",
      "-rwxrwxrwx 1 root root 3381 Mar 13 22:55 id_rsa\n",
      "-rwxrwxrwx 1 root root  743 Mar 13 22:55 id_rsa.pub\n"
     ]
    }
   ],
   "source": [
    "if not (os.path.exists(ssh_key_name_full)):\n",
    "    print('No ssh key ('+ssh_key_name_full+') found, wil generate a new pair ')\n",
    "    cli_command = 'ssh-keygen -t rsa -b 4096 -f '+ssh_key_name_full + ' -q -N \"\"'\n",
    "    cli_command\n",
    "    !$cli_command\n",
    "else:\n",
    "    print('Found ssh key ('+ssh_key_name_full+'), will use it')  \n",
    "\n",
    "!ls -la $ssh_keys_file_dir    "
   ]
  },
  {
   "cell_type": "markdown",
   "metadata": {},
   "source": [
    "##### Pull existing docker image from ACR, if available\n",
    "[mcr.microsoft.com/azure-cli](https://github.com/Azure/azure-cli/blob/dev/Dockerfile) is based on alpine, so we need to install docker inside it"
   ]
  },
  {
   "cell_type": "code",
   "execution_count": 12,
   "metadata": {},
   "outputs": [
    {
     "name": "stdout",
     "output_type": "stream",
     "text": [
      "azure_cli_container01\r\n"
     ]
    }
   ],
   "source": [
    "!docker rm -f $az_cli_container"
   ]
  },
  {
   "cell_type": "code",
   "execution_count": 13,
   "metadata": {},
   "outputs": [
    {
     "data": {
      "text/plain": [
       "'docker run -it --name azure_cli_container01 mcr.microsoft.com/azure-cli /bin/bash  -c \"apk update && apk add --update --no-cache  openrc docker-cli docker; rc-update add docker boot;  az login;  az account set --subscription 789908e0-5fc2-4c4d-b5f5-9764b0d602b3;  az account list -o table; \"'"
      ]
     },
     "execution_count": 13,
     "metadata": {},
     "output_type": "execute_result"
    },
    {
     "name": "stdout",
     "output_type": "stream",
     "text": [
      "fetch http://dl-cdn.alpinelinux.org/alpine/v3.11/main/x86_64/APKINDEX.tar.gz\n",
      "fetch http://dl-cdn.alpinelinux.org/alpine/v3.11/community/x86_64/APKINDEX.tar.gz\n",
      "v3.11.6-43-g7d1a8137da [http://dl-cdn.alpinelinux.org/alpine/v3.11/main]\n",
      "v3.11.6-40-g4ab6ec338e [http://dl-cdn.alpinelinux.org/alpine/v3.11/community]\n",
      "OK: 11276 distinct packages available\n",
      "fetch http://dl-cdn.alpinelinux.org/alpine/v3.11/main/x86_64/APKINDEX.tar.gz\n",
      "fetch http://dl-cdn.alpinelinux.org/alpine/v3.11/community/x86_64/APKINDEX.tar.gz\n",
      "(1/14) Installing libseccomp (2.4.2-r2)\n",
      "\u001b7  0%                                                                           \u001b8\u001b[0K(2/14) Installing runc (1.0.0_rc10-r1)\n",
      "\u001b7  0%                                                                           \u001b8\u001b[0K\u001b7  1% █                                                                         \u001b8\u001b[0K\u001b7  2% █                                                                         \u001b8\u001b[0K\u001b7  2% ██                                                                        \u001b8\u001b[0K(3/14) Installing containerd (1.3.2-r1)\n",
      "\u001b7  3% ██                                                                        \u001b8\u001b[0K\u001b7  4% ██                                                                        \u001b8\u001b[0K\u001b7  4% ███                                                                       \u001b8\u001b[0K\u001b7  5% ███                                                                       \u001b8\u001b[0K\u001b7  6% ████                                                                      \u001b8\u001b[0K\u001b7  7% █████                                                                     \u001b8\u001b[0K\u001b7  8% ██████                                                                    \u001b8\u001b[0K\u001b7  9% ███████                                                                   \u001b8\u001b[0K\u001b7 10% ███████                                                                   \u001b8\u001b[0K\u001b7 10% ████████                                                                  \u001b8\u001b[0K\u001b7 11% ████████                                                                  \u001b8\u001b[0K\u001b7 12% █████████                                                                 \u001b8\u001b[0K\u001b7 13% ██████████                                                                \u001b8\u001b[0K\u001b7 14% ██████████                                                                \u001b8\u001b[0K\u001b7 14% ███████████                                                               \u001b8\u001b[0K\u001b7 15% ███████████                                                               \u001b8\u001b[0K\u001b7 16% ███████████                                                               \u001b8\u001b[0K\u001b7 16% ████████████                                                              \u001b8\u001b[0K\u001b7 17% ████████████                                                              \u001b8\u001b[0K\u001b7 18% █████████████                                                             \u001b8\u001b[0K\u001b7 19% ██████████████                                                            \u001b8\u001b[0K\u001b7 20% ███████████████                                                           \u001b8\u001b[0K\u001b7 21% ███████████████                                                           \u001b8\u001b[0K\u001b7 21% ████████████████                                                          \u001b8\u001b[0K\u001b7 22% ████████████████                                                          \u001b8\u001b[0K\u001b7 23% █████████████████                                                         \u001b8\u001b[0K\u001b7 24% ██████████████████                                                        \u001b8\u001b[0K\u001b7 25% ██████████████████                                                        \u001b8\u001b[0K\u001b7 25% ███████████████████                                                       \u001b8\u001b[0K\u001b7 26% ███████████████████                                                       \u001b8\u001b[0K\u001b7 27% ████████████████████                                                      \u001b8\u001b[0K\u001b7 28% █████████████████████                                                     \u001b8\u001b[0K\u001b7 29% █████████████████████                                                     \u001b8\u001b[0K\u001b7 29% ██████████████████████                                                    \u001b8\u001b[0K\u001b7 30% ██████████████████████                                                    \u001b8\u001b[0K\u001b7 31% ██████████████████████                                                    \u001b8\u001b[0K\u001b7 31% ███████████████████████                                                   \u001b8\u001b[0K\u001b7 32% ███████████████████████                                                   \u001b8\u001b[0K\u001b7 33% ████████████████████████                                                  \u001b8\u001b[0K\u001b7 34% █████████████████████████                                                 \u001b8\u001b[0K\u001b7 35% █████████████████████████                                                 \u001b8\u001b[0K\u001b7 35% ██████████████████████████                                                \u001b8\u001b[0K\u001b7 36% ███████████████████████████                                               \u001b8\u001b[0K\u001b7 37% ███████████████████████████                                               \u001b8\u001b[0K\u001b7 37% ████████████████████████████                                              \u001b8\u001b[0K\u001b7 38% ████████████████████████████                                              \u001b8\u001b[0K\u001b7 39% █████████████████████████████                                             \u001b8\u001b[0K\u001b7 40% █████████████████████████████                                             \u001b8\u001b[0K\u001b7 41% ██████████████████████████████                                            \u001b8\u001b[0K\u001b7 42% ███████████████████████████████                                           \u001b8\u001b[0K\u001b7 43% ███████████████████████████████                                           \u001b8\u001b[0K\u001b7 43% ████████████████████████████████                                          \u001b8\u001b[0K\u001b7 44% ████████████████████████████████                                          \u001b8\u001b[0K\u001b7 45% █████████████████████████████████                                         \u001b8\u001b[0K\u001b7 46% ██████████████████████████████████                                        \u001b8\u001b[0K(4/14) Installing libmnl (1.0.4-r0)\n",
      "\u001b7 46% ██████████████████████████████████                                        \u001b8\u001b[0K(5/14) Installing libnftnl-libs (1.1.5-r0)\n",
      "\u001b7 46% ██████████████████████████████████                                        \u001b8\u001b[0K(6/14) Installing iptables (1.8.3-r2)\n",
      "\u001b7 46% ██████████████████████████████████                                        \u001b8\u001b[0K\u001b7 47% ██████████████████████████████████                                        \u001b8\u001b[0K\u001b7 47% ███████████████████████████████████                                       \u001b8\u001b[0K(7/14) Installing tini-static (0.18.0-r0)\n",
      "\u001b7 47% ███████████████████████████████████                                       \u001b8\u001b[0K(8/14) Installing device-mapper-libs (2.02.186-r0)\n",
      "\u001b7 47% ███████████████████████████████████                                       \u001b8\u001b[0K(9/14) Installing docker-engine (19.03.5-r1)\n"
     ]
    },
    {
     "name": "stdout",
     "output_type": "stream",
     "text": [
      "\u001b7 47% ███████████████████████████████████                                       \u001b8\u001b[0K\u001b7 48% ███████████████████████████████████                                       \u001b8\u001b[0K\u001b7 48% ████████████████████████████████████                                      \u001b8\u001b[0K\u001b7 49% ████████████████████████████████████                                      \u001b8\u001b[0K\u001b7 50% █████████████████████████████████████                                     \u001b8\u001b[0K\u001b7 51% ██████████████████████████████████████                                    \u001b8\u001b[0K\u001b7 52% ██████████████████████████████████████                                    \u001b8\u001b[0K\u001b7 52% ███████████████████████████████████████                                   \u001b8\u001b[0K\u001b7 53% ███████████████████████████████████████                                   \u001b8\u001b[0K\u001b7 54% ████████████████████████████████████████                                  \u001b8\u001b[0K\u001b7 55% █████████████████████████████████████████                                 \u001b8\u001b[0K\u001b7 56% █████████████████████████████████████████                                 \u001b8\u001b[0K\u001b7 56% ██████████████████████████████████████████                                \u001b8\u001b[0K\u001b7 57% ██████████████████████████████████████████                                \u001b8\u001b[0K\u001b7 58% ███████████████████████████████████████████                               \u001b8\u001b[0K\u001b7 59% ████████████████████████████████████████████                              \u001b8\u001b[0K\u001b7 60% ████████████████████████████████████████████                              \u001b8\u001b[0K\u001b7 61% █████████████████████████████████████████████                             \u001b8\u001b[0K\u001b7 62% █████████████████████████████████████████████                             \u001b8\u001b[0K\u001b7 62% ██████████████████████████████████████████████                            \u001b8\u001b[0K\u001b7 63% ██████████████████████████████████████████████                            \u001b8\u001b[0K\u001b7 64% ███████████████████████████████████████████████                           \u001b8\u001b[0K\u001b7 65% ████████████████████████████████████████████████                          \u001b8\u001b[0K\u001b7 66% ████████████████████████████████████████████████                          \u001b8\u001b[0K\u001b7 66% █████████████████████████████████████████████████                         \u001b8\u001b[0K\u001b7 67% █████████████████████████████████████████████████                         \u001b8\u001b[0K\u001b7 68% ██████████████████████████████████████████████████                        \u001b8\u001b[0K\u001b7 69% ███████████████████████████████████████████████████                       \u001b8\u001b[0K\u001b7 70% ███████████████████████████████████████████████████                       \u001b8\u001b[0K\u001b7 70% ████████████████████████████████████████████████████                      \u001b8\u001b[0K\u001b7 71% ████████████████████████████████████████████████████                      \u001b8\u001b[0K\u001b7 72% █████████████████████████████████████████████████████                     \u001b8\u001b[0K\u001b7 73% ██████████████████████████████████████████████████████                    \u001b8\u001b[0K\u001b7 74% ██████████████████████████████████████████████████████                    \u001b8\u001b[0K\u001b7 74% ███████████████████████████████████████████████████████                   \u001b8\u001b[0K\u001b7 75% ███████████████████████████████████████████████████████                   \u001b8\u001b[0K\u001b7 75% ████████████████████████████████████████████████████████                  \u001b8\u001b[0K(10/14) Installing docker-cli (19.03.5-r1)\n",
      "\u001b7 76% ████████████████████████████████████████████████████████                  \u001b8\u001b[0K\u001b7 77% █████████████████████████████████████████████████████████                 \u001b8\u001b[0K\u001b7 78% █████████████████████████████████████████████████████████                 \u001b8\u001b[0K\u001b7 78% ██████████████████████████████████████████████████████████                \u001b8\u001b[0K\u001b7 79% ██████████████████████████████████████████████████████████                \u001b8\u001b[0K\u001b7 80% ███████████████████████████████████████████████████████████               \u001b8\u001b[0K\u001b7 81% ████████████████████████████████████████████████████████████              \u001b8\u001b[0K\u001b7 82% ████████████████████████████████████████████████████████████              \u001b8\u001b[0K\u001b7 82% █████████████████████████████████████████████████████████████             \u001b8\u001b[0K\u001b7 83% █████████████████████████████████████████████████████████████             \u001b8\u001b[0K\u001b7 84% ██████████████████████████████████████████████████████████████            \u001b8\u001b[0K\u001b7 85% ███████████████████████████████████████████████████████████████           \u001b8\u001b[0K\u001b7 86% ███████████████████████████████████████████████████████████████           \u001b8\u001b[0K\u001b7 86% ████████████████████████████████████████████████████████████████          \u001b8\u001b[0K\u001b7 87% ████████████████████████████████████████████████████████████████          \u001b8\u001b[0K\u001b7 88% █████████████████████████████████████████████████████████████████         \u001b8\u001b[0K\u001b7 89% ██████████████████████████████████████████████████████████████████        \u001b8\u001b[0K\u001b7 90% ██████████████████████████████████████████████████████████████████        \u001b8\u001b[0K\u001b7 90% ███████████████████████████████████████████████████████████████████       \u001b8\u001b[0K\u001b7 91% ███████████████████████████████████████████████████████████████████       \u001b8\u001b[0K\u001b7 92% ████████████████████████████████████████████████████████████████████      \u001b8\u001b[0K\u001b7 93% █████████████████████████████████████████████████████████████████████     \u001b8\u001b[0K\u001b7 94% █████████████████████████████████████████████████████████████████████     \u001b8\u001b[0K\u001b7 94% ██████████████████████████████████████████████████████████████████████    \u001b8\u001b[0K\u001b7 95% ██████████████████████████████████████████████████████████████████████    \u001b8\u001b[0K\u001b7 96% ███████████████████████████████████████████████████████████████████████   \u001b8\u001b[0K\u001b7 97% ████████████████████████████████████████████████████████████████████████  \u001b8\u001b[0K\u001b7 98% ████████████████████████████████████████████████████████████████████████  \u001b8\u001b[0K\u001b7 98% █████████████████████████████████████████████████████████████████████████ \u001b8\u001b[0K(11/14) Installing docker (19.03.5-r1)\n",
      "\u001b7 99% █████████████████████████████████████████████████████████████████████████ \u001b8\u001b[0KExecuting docker-19.03.5-r1.pre-install\n",
      "(12/14) Installing openrc (0.42.1-r2)\n",
      "\u001b7 99% █████████████████████████████████████████████████████████████████████████ \u001b8\u001b[0KExecuting openrc-0.42.1-r2.post-install\n",
      "(13/14) Installing docker-openrc (19.03.5-r1)\n",
      "\u001b7 99% █████████████████████████████████████████████████████████████████████████ \u001b8\u001b[0K(14/14) Installing iptables-openrc (1.8.3-r2)\n",
      "\u001b7 99% █████████████████████████████████████████████████████████████████████████ \u001b8\u001b[0K\u001b7100% ██████████████████████████████████████████████████████████████████████████\u001b8\u001b[0KExecuting busybox-1.31.1-r9.trigger\n",
      "OK: 520 MiB in 89 packages\n",
      " \u001b[1m\u001b[32m*\u001b[m service docker added to runlevel boot\u001b[K\n",
      "\u001b[33mTo sign in, use a web browser to open the page https://microsoft.com/devicelogin and enter the code A5NKF2HX2 to authenticate.\u001b[0m\n",
      "[\n",
      "  {\n",
      "    \"cloudName\": \"AzureCloud\",\n",
      "    \"homeTenantId\": \"72f988bf-86f1-41af-91ab-2d7cd011db47\",\n",
      "    \"id\": \"edf507a2-6235-46c5-b560-fd463ba2e771\",\n",
      "    \"isDefault\": true,\n",
      "    \"managedByTenants\": [\n",
      "      {\n",
      "        \"tenantId\": \"2f4a9838-26b7-47ee-be60-ccc1fdec5953\"\n",
      "      }\n",
      "    ],\n",
      "    \"name\": \"AG-CE-AI-CANARY_ENABLED\",\n",
      "    \"state\": \"Enabled\",\n",
      "    \"tenantId\": \"72f988bf-86f1-41af-91ab-2d7cd011db47\",\n",
      "    \"user\": {\n",
      "      \"name\": \"ghiordan@microsoft.com\",\n",
      "      \"type\": \"user\"\n",
      "    }\n",
      "  },\n",
      "  {\n",
      "    \"cloudName\": \"AzureCloud\",\n",
      "    \"homeTenantId\": \"72f988bf-86f1-41af-91ab-2d7cd011db47\",\n",
      "    \"id\": \"fe4e0535-d933-4159-8440-c2908bfc4b05\",\n",
      "    \"isDefault\": false,\n",
      "    \"managedByTenants\": [],\n",
      "    \"name\": \"Visual Studio Ultimate with MSDN\",\n",
      "    \"state\": \"Enabled\",\n",
      "    \"tenantId\": \"72f988bf-86f1-41af-91ab-2d7cd011db47\",\n",
      "    \"user\": {\n",
      "      \"name\": \"ghiordan@microsoft.com\",\n",
      "      \"type\": \"user\"\n",
      "    }\n",
      "  },\n",
      "  {\n",
      "    \"cloudName\": \"AzureCloud\",\n",
      "    \"homeTenantId\": \"72f988bf-86f1-41af-91ab-2d7cd011db47\",\n",
      "    \"id\": \"333e402a-65a0-45a9-8e23-867ca146c290\",\n",
      "    \"isDefault\": false,\n",
      "    \"managedByTenants\": [],\n",
      "    \"name\": \"Epic-Edge-ES-ReproVMLab\",\n",
      "    \"state\": \"Enabled\",\n",
      "    \"tenantId\": \"72f988bf-86f1-41af-91ab-2d7cd011db47\",\n",
      "    \"user\": {\n",
      "      \"name\": \"ghiordan@microsoft.com\",\n",
      "      \"type\": \"user\"\n",
      "    }\n",
      "  },\n",
      "  {\n",
      "    \"cloudName\": \"AzureCloud\",\n",
      "    \"homeTenantId\": \"72f988bf-86f1-41af-91ab-2d7cd011db47\",\n",
      "    \"id\": \"5b4328b8-7b74-4d86-86fd-f2c35f2790fb\",\n",
      "    \"isDefault\": false,\n",
      "    \"managedByTenants\": [],\n",
      "    \"name\": \"Core-ES-BranchManagement\",\n",
      "    \"state\": \"Enabled\",\n",
      "    \"tenantId\": \"72f988bf-86f1-41af-91ab-2d7cd011db47\",\n",
      "    \"user\": {\n",
      "      \"name\": \"ghiordan@microsoft.com\",\n",
      "      \"type\": \"user\"\n",
      "    }\n",
      "  },\n",
      "  {\n",
      "    \"cloudName\": \"AzureCloud\",\n",
      "    \"homeTenantId\": \"72f988bf-86f1-41af-91ab-2d7cd011db47\",\n",
      "    \"id\": \"e01de573-132a-42ac-9ee2-f9dea9dd2717\",\n",
      "    \"isDefault\": false,\n",
      "    \"managedByTenants\": [],\n",
      "    \"name\": \"Cosmos_WDG_Core_BnB_100292\",\n",
      "    \"state\": \"Enabled\",\n",
      "    \"tenantId\": \"72f988bf-86f1-41af-91ab-2d7cd011db47\",\n",
      "    \"user\": {\n",
      "      \"name\": \"ghiordan@microsoft.com\",\n",
      "      \"type\": \"user\"\n",
      "    }\n",
      "  },\n",
      "  {\n",
      "    \"cloudName\": \"AzureCloud\",\n",
      "    \"homeTenantId\": \"72f988bf-86f1-41af-91ab-2d7cd011db47\",\n",
      "    \"id\": \"a8183b2d-7a4c-45e9-8736-dac11b84ff14\",\n",
      "    \"isDefault\": false,\n",
      "    \"managedByTenants\": [],\n",
      "    \"name\": \"Azure Stack Diagnostics CI and Production VaaS\",\n",
      "    \"state\": \"Enabled\",\n",
      "    \"tenantId\": \"72f988bf-86f1-41af-91ab-2d7cd011db47\",\n",
      "    \"user\": {\n",
      "      \"name\": \"ghiordan@microsoft.com\",\n",
      "      \"type\": \"user\"\n",
      "    }\n",
      "  },\n",
      "  {\n",
      "    \"cloudName\": \"AzureCloud\",\n",
      "    \"homeTenantId\": \"72f988bf-86f1-41af-91ab-2d7cd011db47\",\n",
      "    \"id\": \"0ee09efa-4037-4147-b986-296082064383\",\n",
      "    \"isDefault\": false,\n",
      "    \"managedByTenants\": [],\n",
      "    \"name\": \"Microsoft Azure Internal Consumption\",\n",
      "    \"state\": \"Enabled\",\n",
      "    \"tenantId\": \"72f988bf-86f1-41af-91ab-2d7cd011db47\",\n",
      "    \"user\": {\n",
      "      \"name\": \"ghiordan@microsoft.com\",\n",
      "      \"type\": \"user\"\n",
      "    }\n",
      "  },\n",
      "  {\n",
      "    \"cloudName\": \"AzureCloud\",\n",
      "    \"homeTenantId\": \"72f988bf-86f1-41af-91ab-2d7cd011db47\",\n",
      "    \"id\": \"9ec1d932-0f3f-486c-acc6-e7d78b358f9b\",\n",
      "    \"isDefault\": false,\n",
      "    \"managedByTenants\": [],\n",
      "    \"name\": \"TScience\",\n",
      "    \"state\": \"Enabled\",\n",
      "    \"tenantId\": \"72f988bf-86f1-41af-91ab-2d7cd011db47\",\n",
      "    \"user\": {\n",
      "      \"name\": \"ghiordan@microsoft.com\",\n",
      "      \"type\": \"user\"\n",
      "    }\n",
      "  },\n",
      "  {\n",
      "    \"cloudName\": \"AzureCloud\",\n",
      "    \"homeTenantId\": \"72f988bf-86f1-41af-91ab-2d7cd011db47\",\n",
      "    \"id\": \"d20432c3-8203-4c39-865a-7c6c2fb1ffd2\",\n",
      "    \"isDefault\": false,\n",
      "    \"managedByTenants\": [],\n",
      "    \"name\": \"MSR AI - MLO\",\n",
      "    \"state\": \"Enabled\",\n",
      "    \"tenantId\": \"72f988bf-86f1-41af-91ab-2d7cd011db47\",\n",
      "    \"user\": {\n",
      "      \"name\": \"ghiordan@microsoft.com\",\n",
      "      \"type\": \"user\"\n",
      "    }\n",
      "  },\n",
      "  {\n",
      "    \"cloudName\": \"AzureCloud\",\n",
      "    \"homeTenantId\": \"72f988bf-86f1-41af-91ab-2d7cd011db47\",\n",
      "    \"id\": \"7c469e39-c3bc-4752-a3f1-7447c5aecfa8\",\n",
      "    \"isDefault\": false,\n",
      "    \"managedByTenants\": [\n",
      "      {\n",
      "        \"tenantId\": \"2f4a9838-26b7-47ee-be60-ccc1fdec5953\"\n",
      "      }\n",
      "    ],\n",
      "    \"name\": \"Customer 360 DevTest 001\",\n",
      "    \"state\": \"Enabled\",\n",
      "    \"tenantId\": \"72f988bf-86f1-41af-91ab-2d7cd011db47\",\n",
      "    \"user\": {\n",
      "      \"name\": \"ghiordan@microsoft.com\",\n",
      "      \"type\": \"user\"\n",
      "    }\n",
      "  },\n",
      "  {\n",
      "    \"cloudName\": \"AzureCloud\",\n",
      "    \"homeTenantId\": \"72f988bf-86f1-41af-91ab-2d7cd011db47\",\n",
      "    \"id\": \"8cff5d56-95fb-4a74-ab9d-079edb45313e\",\n",
      "    \"isDefault\": false,\n",
      "    \"managedByTenants\": [\n",
      "      {\n",
      "        \"tenantId\": \"cdc5aeea-15c5-4db6-b079-fcadd2505dc2\"\n",
      "      }\n",
      "    ],\n",
      "    \"name\": \"Skype-NetEM-PROD\",\n",
      "    \"state\": \"Enabled\",\n",
      "    \"tenantId\": \"72f988bf-86f1-41af-91ab-2d7cd011db47\",\n",
      "    \"user\": {\n",
      "      \"name\": \"ghiordan@microsoft.com\",\n",
      "      \"type\": \"user\"\n",
      "    }\n",
      "  },\n",
      "  {\n",
      "    \"cloudName\": \"AzureCloud\",\n",
      "    \"homeTenantId\": \"72f988bf-86f1-41af-91ab-2d7cd011db47\",\n",
      "    \"id\": \"7fd08dcc-a653-4b0f-8f8c-4dac889fdda4\",\n",
      "    \"isDefault\": false,\n",
      "    \"managedByTenants\": [\n",
      "      {\n",
      "        \"tenantId\": \"2f4a9838-26b7-47ee-be60-ccc1fdec5953\"\n",
      "      }\n",
      "    ],\n",
      "    \"name\": \"Code generate Test and Infra\",\n",
      "    \"state\": \"Enabled\",\n",
      "    \"tenantId\": \"72f988bf-86f1-41af-91ab-2d7cd011db47\",\n",
      "    \"user\": {\n",
      "      \"name\": \"ghiordan@microsoft.com\",\n",
      "      \"type\": \"user\"\n",
      "    }\n",
      "  },\n",
      "  {\n",
      "    \"cloudName\": \"AzureCloud\",\n",
      "    \"homeTenantId\": \"72f988bf-86f1-41af-91ab-2d7cd011db47\",\n",
      "    \"id\": \"27b2ee0a-4093-4253-95b5-c595487ad66f\",\n",
      "    \"isDefault\": false,\n",
      "    \"managedByTenants\": [],\n",
      "    \"name\": \"EvanBaCore\",\n",
      "    \"state\": \"Enabled\",\n",
      "    \"tenantId\": \"72f988bf-86f1-41af-91ab-2d7cd011db47\",\n",
      "    \"user\": {\n",
      "      \"name\": \"ghiordan@microsoft.com\",\n",
      "      \"type\": \"user\"\n",
      "    }\n",
      "  },\n",
      "  {\n",
      "    \"cloudName\": \"AzureCloud\",\n",
      "    \"homeTenantId\": \"72f988bf-86f1-41af-91ab-2d7cd011db47\",\n",
      "    \"id\": \"eec2de82-6ab2-4a84-ae5f-57e9a10bf661\",\n",
      "    \"isDefault\": false,\n",
      "    \"managedByTenants\": [\n",
      "      {\n",
      "        \"tenantId\": \"2f4a9838-26b7-47ee-be60-ccc1fdec5953\"\n",
      "      }\n",
      "    ],\n",
      "    \"name\": \"ServicesPortfolio MCS\",\n",
      "    \"state\": \"Enabled\",\n",
      "    \"tenantId\": \"72f988bf-86f1-41af-91ab-2d7cd011db47\",\n",
      "    \"user\": {\n",
      "      \"name\": \"ghiordan@microsoft.com\",\n",
      "      \"type\": \"user\"\n",
      "    }\n",
      "  },\n",
      "  {\n",
      "    \"cloudName\": \"AzureCloud\",\n",
      "    \"homeTenantId\": \"72f988bf-86f1-41af-91ab-2d7cd011db47\",\n",
      "    \"id\": \"d21a0e9f-5e29-4b39-8ba5-0e189bc5fe2d\",\n",
      "    \"isDefault\": false,\n",
      "    \"managedByTenants\": [],\n",
      "    \"name\": \"Edge DevTools Client\",\n",
      "    \"state\": \"Enabled\",\n",
      "    \"tenantId\": \"72f988bf-86f1-41af-91ab-2d7cd011db47\",\n",
      "    \"user\": {\n",
      "      \"name\": \"ghiordan@microsoft.com\",\n",
      "      \"type\": \"user\"\n",
      "    }\n",
      "  },\n",
      "  {\n",
      "    \"cloudName\": \"AzureCloud\",\n",
      "    \"homeTenantId\": \"72f988bf-86f1-41af-91ab-2d7cd011db47\",\n",
      "    \"id\": \"f512d215-3984-4778-8938-8d73f65119f6\",\n",
      "    \"isDefault\": false,\n",
      "    \"managedByTenants\": [],\n",
      "    \"name\": \"Prague\",\n",
      "    \"state\": \"Enabled\",\n",
      "    \"tenantId\": \"72f988bf-86f1-41af-91ab-2d7cd011db47\",\n",
      "    \"user\": {\n",
      "      \"name\": \"ghiordan@microsoft.com\",\n",
      "      \"type\": \"user\"\n",
      "    }\n",
      "  },\n",
      "  {\n",
      "    \"cloudName\": \"AzureCloud\",\n",
      "    \"homeTenantId\": \"72f988bf-86f1-41af-91ab-2d7cd011db47\",\n",
      "    \"id\": \"6be86769-af37-4303-8645-9aa42552f5d7\",\n",
      "    \"isDefault\": false,\n",
      "    \"managedByTenants\": [],\n",
      "    \"name\": \"Azure Stack CSS Labs\",\n",
      "    \"state\": \"Enabled\",\n",
      "    \"tenantId\": \"72f988bf-86f1-41af-91ab-2d7cd011db47\",\n",
      "    \"user\": {\n",
      "      \"name\": \"ghiordan@microsoft.com\",\n",
      "      \"type\": \"user\"\n",
      "    }\n",
      "  },\n",
      "  {\n",
      "    \"cloudName\": \"AzureCloud\",\n",
      "    \"homeTenantId\": \"72f988bf-86f1-41af-91ab-2d7cd011db47\",\n",
      "    \"id\": \"d03b04c7-d1d4-467b-aaaa-87b6fcb38b38\",\n",
      "    \"isDefault\": false,\n",
      "    \"managedByTenants\": [],\n",
      "    \"name\": \"VSEng Shared\",\n",
      "    \"state\": \"Enabled\",\n",
      "    \"tenantId\": \"72f988bf-86f1-41af-91ab-2d7cd011db47\",\n",
      "    \"user\": {\n",
      "      \"name\": \"ghiordan@microsoft.com\",\n",
      "      \"type\": \"user\"\n",
      "    }\n",
      "  },\n",
      "  {\n",
      "    \"cloudName\": \"AzureCloud\",\n",
      "    \"homeTenantId\": \"72f988bf-86f1-41af-91ab-2d7cd011db47\",\n",
      "    \"id\": \"26b9b438-7fe8-482f-b732-ea99c70f2abb\",\n",
      "    \"isDefault\": false,\n",
      "    \"managedByTenants\": [],\n",
      "    \"name\": \"ddverify\",\n",
      "    \"state\": \"Enabled\",\n",
      "    \"tenantId\": \"72f988bf-86f1-41af-91ab-2d7cd011db47\",\n",
      "    \"user\": {\n",
      "      \"name\": \"ghiordan@microsoft.com\",\n",
      "      \"type\": \"user\"\n",
      "    }\n",
      "  },\n",
      "  {\n",
      "    \"cloudName\": \"AzureCloud\",\n",
      "    \"homeTenantId\": \"72f988bf-86f1-41af-91ab-2d7cd011db47\",\n",
      "    \"id\": \"8bc2f89b-c4f6-4559-ad6a-4f2cfa6ccc49\",\n",
      "    \"isDefault\": false,\n",
      "    \"managedByTenants\": [],\n",
      "    \"name\": \"VSEng MadDog-RPS Telemetry\",\n",
      "    \"state\": \"Enabled\",\n",
      "    \"tenantId\": \"72f988bf-86f1-41af-91ab-2d7cd011db47\",\n",
      "    \"user\": {\n",
      "      \"name\": \"ghiordan@microsoft.com\",\n",
      "      \"type\": \"user\"\n",
      "    }\n",
      "  },\n",
      "  {\n",
      "    \"cloudName\": \"AzureCloud\",\n",
      "    \"homeTenantId\": \"72f988bf-86f1-41af-91ab-2d7cd011db47\",\n",
      "    \"id\": \"eb87f285-893a-4f0f-8c55-7b4f67b1d097\",\n",
      "    \"isDefault\": false,\n",
      "    \"managedByTenants\": [],\n",
      "    \"name\": \"CAT_Eng\",\n",
      "    \"state\": \"Enabled\",\n",
      "    \"tenantId\": \"72f988bf-86f1-41af-91ab-2d7cd011db47\",\n",
      "    \"user\": {\n",
      "      \"name\": \"ghiordan@microsoft.com\",\n",
      "      \"type\": \"user\"\n",
      "    }\n",
      "  },\n",
      "  {\n",
      "    \"cloudName\": \"AzureCloud\",\n",
      "    \"homeTenantId\": \"72f988bf-86f1-41af-91ab-2d7cd011db47\",\n",
      "    \"id\": \"58706c15-d8a1-4397-af3c-e1ebf1cbebe5\",\n",
      "    \"isDefault\": false,\n",
      "    \"managedByTenants\": [],\n",
      "    \"name\": \"RPS-cloud-common-2\",\n",
      "    \"state\": \"Enabled\",\n",
      "    \"tenantId\": \"72f988bf-86f1-41af-91ab-2d7cd011db47\",\n",
      "    \"user\": {\n",
      "      \"name\": \"ghiordan@microsoft.com\",\n",
      "      \"type\": \"user\"\n",
      "    }\n",
      "  },\n",
      "  {\n",
      "    \"cloudName\": \"AzureCloud\",\n",
      "    \"homeTenantId\": \"72f988bf-86f1-41af-91ab-2d7cd011db47\",\n",
      "    \"id\": \"52a442a2-31e9-42f9-8e3e-4b27dbf82673\",\n",
      "    \"isDefault\": false,\n",
      "    \"managedByTenants\": [],\n",
      "    \"name\": \"Core-ES-WorkManagement\",\n",
      "    \"state\": \"Enabled\",\n",
      "    \"tenantId\": \"72f988bf-86f1-41af-91ab-2d7cd011db47\",\n",
      "    \"user\": {\n",
      "      \"name\": \"ghiordan@microsoft.com\",\n",
      "      \"type\": \"user\"\n",
      "    }\n",
      "  },\n",
      "  {\n",
      "    \"cloudName\": \"AzureCloud\",\n",
      "    \"homeTenantId\": \"72f988bf-86f1-41af-91ab-2d7cd011db47\",\n",
      "    \"id\": \"e8b53c88-f8df-42c0-8399-b478bf8df378\",\n",
      "    \"isDefault\": false,\n",
      "    \"managedByTenants\": [],\n",
      "    \"name\": \"Azure_Maps_MDP_Engineering\",\n",
      "    \"state\": \"Enabled\",\n",
      "    \"tenantId\": \"72f988bf-86f1-41af-91ab-2d7cd011db47\",\n",
      "    \"user\": {\n",
      "      \"name\": \"ghiordan@microsoft.com\",\n",
      "      \"type\": \"user\"\n",
      "    }\n",
      "  },\n",
      "  {\n",
      "    \"cloudName\": \"AzureCloud\",\n",
      "    \"homeTenantId\": \"72f988bf-86f1-41af-91ab-2d7cd011db47\",\n",
      "    \"id\": \"00c06639-6ee4-454e-8058-8d8b1703bd87\",\n",
      "    \"isDefault\": false,\n",
      "    \"managedByTenants\": [\n",
      "      {\n",
      "        \"tenantId\": \"2f4a9838-26b7-47ee-be60-ccc1fdec5953\"\n",
      "      }\n",
      "    ],\n",
      "    \"name\": \"AI Infra Build\",\n",
      "    \"state\": \"Enabled\",\n",
      "    \"tenantId\": \"72f988bf-86f1-41af-91ab-2d7cd011db47\",\n",
      "    \"user\": {\n",
      "      \"name\": \"ghiordan@microsoft.com\",\n",
      "      \"type\": \"user\"\n",
      "    }\n",
      "  },\n",
      "  {\n",
      "    \"cloudName\": \"AzureCloud\",\n",
      "    \"homeTenantId\": \"72f988bf-86f1-41af-91ab-2d7cd011db47\",\n",
      "    \"id\": \"789908e0-5fc2-4c4d-b5f5-9764b0d602b3\",\n",
      "    \"isDefault\": false,\n",
      "    \"managedByTenants\": [\n",
      "      {\n",
      "        \"tenantId\": \"2f4a9838-26b7-47ee-be60-ccc1fdec5953\"\n",
      "      }\n",
      "    ],\n",
      "    \"name\": \"AG-CE-AI-MN-SEISMIC\",\n",
      "    \"state\": \"Enabled\",\n",
      "    \"tenantId\": \"72f988bf-86f1-41af-91ab-2d7cd011db47\",\n",
      "    \"user\": {\n",
      "      \"name\": \"ghiordan@microsoft.com\",\n",
      "      \"type\": \"user\"\n",
      "    }\n",
      "  },\n",
      "  {\n",
      "    \"cloudName\": \"AzureCloud\",\n",
      "    \"homeTenantId\": \"72f988bf-86f1-41af-91ab-2d7cd011db47\",\n",
      "    \"id\": \"989b90f7-da4f-41f9-84c9-44848802052d\",\n",
      "    \"isDefault\": false,\n",
      "    \"managedByTenants\": [\n",
      "      {\n",
      "        \"tenantId\": \"2f4a9838-26b7-47ee-be60-ccc1fdec5953\"\n",
      "      }\n",
      "    ],\n",
      "    \"name\": \"AG-CE-AI-MN-E2E\",\n",
      "    \"state\": \"Enabled\",\n",
      "    \"tenantId\": \"72f988bf-86f1-41af-91ab-2d7cd011db47\",\n",
      "    \"user\": {\n",
      "      \"name\": \"ghiordan@microsoft.com\",\n",
      "      \"type\": \"user\"\n",
      "    }\n",
      "  },\n",
      "  {\n",
      "    \"cloudName\": \"AzureCloud\",\n",
      "    \"homeTenantId\": \"72f988bf-86f1-41af-91ab-2d7cd011db47\",\n",
      "    \"id\": \"0ca618d2-22a8-413a-96d0-0f1b531129c3\",\n",
      "    \"isDefault\": false,\n",
      "    \"managedByTenants\": [\n",
      "      {\n",
      "        \"tenantId\": \"2f4a9838-26b7-47ee-be60-ccc1fdec5953\"\n",
      "      }\n",
      "    ],\n",
      "    \"name\": \"AG-CE-AI-DEVOPS\",\n",
      "    \"state\": \"Enabled\",\n",
      "    \"tenantId\": \"72f988bf-86f1-41af-91ab-2d7cd011db47\",\n",
      "    \"user\": {\n",
      "      \"name\": \"ghiordan@microsoft.com\",\n",
      "      \"type\": \"user\"\n",
      "    }\n",
      "  },\n",
      "  {\n",
      "    \"cloudName\": \"AzureCloud\",\n",
      "    \"homeTenantId\": \"72f988bf-86f1-41af-91ab-2d7cd011db47\",\n",
      "    \"id\": \"1a9c6de0-3f24-4808-b4a3-5f95369c65d5\",\n",
      "    \"isDefault\": false,\n",
      "    \"managedByTenants\": [],\n",
      "    \"name\": \"AG-CE-AI-STORAGE\",\n",
      "    \"state\": \"Enabled\",\n",
      "    \"tenantId\": \"72f988bf-86f1-41af-91ab-2d7cd011db47\",\n",
      "    \"user\": {\n",
      "      \"name\": \"ghiordan@microsoft.com\",\n",
      "      \"type\": \"user\"\n",
      "    }\n",
      "  },\n",
      "  {\n",
      "    \"cloudName\": \"AzureCloud\",\n",
      "    \"homeTenantId\": \"372ee9e0-9ce0-4033-a64a-c07073a91ecd\",\n",
      "    \"id\": \"e91ff1c7-a49a-4b93-95ce-f84b23d64549\",\n",
      "    \"isDefault\": false,\n",
      "    \"managedByTenants\": [\n",
      "      {\n",
      "        \"tenantId\": \"2f4a9838-26b7-47ee-be60-ccc1fdec5953\"\n",
      "      }\n",
      "    ],\n",
      "    \"name\": \"APM-ProdMgt-Enterprise\",\n",
      "    \"state\": \"Enabled\",\n",
      "    \"tenantId\": \"372ee9e0-9ce0-4033-a64a-c07073a91ecd\",\n",
      "    \"user\": {\n",
      "      \"name\": \"ghiordan@microsoft.com\",\n",
      "      \"type\": \"user\"\n",
      "    }\n",
      "  }\n",
      "]\n"
     ]
    },
    {
     "name": "stdout",
     "output_type": "stream",
     "text": [
      "\u001b[0m\u001b[0mName                                            CloudName    SubscriptionId                        State    IsDefault\n",
      "----------------------------------------------  -----------  ------------------------------------  -------  -----------\n",
      "AG-CE-AI-CANARY_ENABLED                         AzureCloud   edf507a2-6235-46c5-b560-fd463ba2e771  Enabled  False\n",
      "Visual Studio Ultimate with MSDN                AzureCloud   fe4e0535-d933-4159-8440-c2908bfc4b05  Enabled  False\n",
      "Epic-Edge-ES-ReproVMLab                         AzureCloud   333e402a-65a0-45a9-8e23-867ca146c290  Enabled  False\n",
      "Core-ES-BranchManagement                        AzureCloud   5b4328b8-7b74-4d86-86fd-f2c35f2790fb  Enabled  False\n",
      "Cosmos_WDG_Core_BnB_100292                      AzureCloud   e01de573-132a-42ac-9ee2-f9dea9dd2717  Enabled  False\n",
      "Azure Stack Diagnostics CI and Production VaaS  AzureCloud   a8183b2d-7a4c-45e9-8736-dac11b84ff14  Enabled  False\n",
      "Microsoft Azure Internal Consumption            AzureCloud   0ee09efa-4037-4147-b986-296082064383  Enabled  False\n",
      "TScience                                        AzureCloud   9ec1d932-0f3f-486c-acc6-e7d78b358f9b  Enabled  False\n",
      "MSR AI - MLO                                    AzureCloud   d20432c3-8203-4c39-865a-7c6c2fb1ffd2  Enabled  False\n",
      "Customer 360 DevTest 001                        AzureCloud   7c469e39-c3bc-4752-a3f1-7447c5aecfa8  Enabled  False\n",
      "Skype-NetEM-PROD                                AzureCloud   8cff5d56-95fb-4a74-ab9d-079edb45313e  Enabled  False\n",
      "Code generate Test and Infra                    AzureCloud   7fd08dcc-a653-4b0f-8f8c-4dac889fdda4  Enabled  False\n",
      "EvanBaCore                                      AzureCloud   27b2ee0a-4093-4253-95b5-c595487ad66f  Enabled  False\n",
      "ServicesPortfolio MCS                           AzureCloud   eec2de82-6ab2-4a84-ae5f-57e9a10bf661  Enabled  False\n",
      "Edge DevTools Client                            AzureCloud   d21a0e9f-5e29-4b39-8ba5-0e189bc5fe2d  Enabled  False\n",
      "Prague                                          AzureCloud   f512d215-3984-4778-8938-8d73f65119f6  Enabled  False\n",
      "Azure Stack CSS Labs                            AzureCloud   6be86769-af37-4303-8645-9aa42552f5d7  Enabled  False\n",
      "VSEng Shared                                    AzureCloud   d03b04c7-d1d4-467b-aaaa-87b6fcb38b38  Enabled  False\n",
      "ddverify                                        AzureCloud   26b9b438-7fe8-482f-b732-ea99c70f2abb  Enabled  False\n",
      "VSEng MadDog-RPS Telemetry                      AzureCloud   8bc2f89b-c4f6-4559-ad6a-4f2cfa6ccc49  Enabled  False\n",
      "CAT_Eng                                         AzureCloud   eb87f285-893a-4f0f-8c55-7b4f67b1d097  Enabled  False\n",
      "RPS-cloud-common-2                              AzureCloud   58706c15-d8a1-4397-af3c-e1ebf1cbebe5  Enabled  False\n",
      "Core-ES-WorkManagement                          AzureCloud   52a442a2-31e9-42f9-8e3e-4b27dbf82673  Enabled  False\n",
      "Azure_Maps_MDP_Engineering                      AzureCloud   e8b53c88-f8df-42c0-8399-b478bf8df378  Enabled  False\n",
      "AI Infra Build                                  AzureCloud   00c06639-6ee4-454e-8058-8d8b1703bd87  Enabled  False\n",
      "AG-CE-AI-MN-SEISMIC                             AzureCloud   789908e0-5fc2-4c4d-b5f5-9764b0d602b3  Enabled  True\n",
      "AG-CE-AI-MN-E2E                                 AzureCloud   989b90f7-da4f-41f9-84c9-44848802052d  Enabled  False\n",
      "AG-CE-AI-DEVOPS                                 AzureCloud   0ca618d2-22a8-413a-96d0-0f1b531129c3  Enabled  False\n",
      "AG-CE-AI-STORAGE                                AzureCloud   1a9c6de0-3f24-4808-b4a3-5f95369c65d5  Enabled  False\n",
      "APM-ProdMgt-Enterprise                          AzureCloud   e91ff1c7-a49a-4b93-95ce-f84b23d64549  Enabled  False\n",
      "\u001b[0m"
     ]
    }
   ],
   "source": [
    "cli_base_command='docker run '+ \\\n",
    "'-it '+ \\\n",
    "'--name ' + az_cli_container+ ' ' + \\\n",
    "'mcr.microsoft.com/azure-cli '+ \\\n",
    "'/bin/bash  -c ' \n",
    "internal_command = '\"'+ \\\n",
    "'apk update && apk add --update --no-cache  openrc docker-cli docker; '+ \\\n",
    "'rc-update add docker boot; '+ \\\n",
    "' az login; '+ \\\n",
    "' az account set --subscription '+os.getenv('SUBSCRIPTION_ID')+ '; '+ \\\n",
    "' az account list -o table; '+\\\n",
    "'\"'\n",
    "\n",
    "cli_command = cli_base_command+internal_command\n",
    "\n",
    "cli_command\n",
    "!$cli_command"
   ]
  },
  {
   "cell_type": "code",
   "execution_count": 14,
   "metadata": {},
   "outputs": [
    {
     "name": "stdout",
     "output_type": "stream",
     "text": [
      "CONTAINER ID        IMAGE                         COMMAND                  CREATED              STATUS                    PORTS                     NAMES\r\n",
      "82ef7d8131ca        mcr.microsoft.com/azure-cli   \"/bin/bash -c 'apk u…\"   About a minute ago   Exited (0) 1 second ago                             azure_cli_container01\r\n",
      "df8459c0e262        da73990948a5                  \"/bin/sh -c 'pip3 in…\"   3 hours ago          Exited (1) 3 hours ago                              gifted_galileo\r\n",
      "5ca5a546e253        continuumio/miniconda3        \"/bin/bash -c 'expor…\"   3 hours ago          Up 3 hours                0.0.0.0:10001->8888/tcp   miniconda3_container01\r\n"
     ]
    }
   ],
   "source": [
    "# mcr.microsoft.com/azure-cli container was sarted without rm option so it should show up as stopped\n",
    "!docker container ls -a"
   ]
  },
  {
   "cell_type": "code",
   "execution_count": 15,
   "metadata": {},
   "outputs": [
    {
     "name": "stdout",
     "output_type": "stream",
     "text": [
      "sha256:3ce3edd660c02adbeeb9d1626db95ec22e66de708b3c1f8b90bb78e7d8f102fb\n",
      "azure_cli_container01\n"
     ]
    }
   ],
   "source": [
    "!docker commit $az_cli_container $signed_in_az_cli_image\n",
    "!docker rm -f $az_cli_container"
   ]
  },
  {
   "cell_type": "code",
   "execution_count": 16,
   "metadata": {},
   "outputs": [
    {
     "name": "stdout",
     "output_type": "stream",
     "text": [
      "Login Succeeded\n",
      "\u001b[33mWARNING! Your password will be stored unencrypted in /root/.docker/config.json.\n",
      "Configure a credential helper to remove this warning. See\n",
      "https://docs.docker.com/engine/reference/commandline/login/#credentials-store\u001b[0m\n",
      "\u001b[0mUsing default tag: latest\n",
      "latest: Pulling from azure_batch_shipyard_devito\n",
      "Digest: sha256:dd9388ca40a80501bec3be1263e9bf6d81f760cbbe927cd41dabf3a2d74b0aff\n",
      "Status: Image is up to date for fwi01acr.azurecr.io/azure_batch_shipyard_devito:latest\n",
      "fwi01acr.azurecr.io/azure_batch_shipyard_devito:latest\n"
     ]
    }
   ],
   "source": [
    "cli_base_command=' docker run ' +\\\n",
    "'-it '+\\\n",
    "'--name ' + az_cli_container+ ' ' + \\\n",
    "'-v '+ os.getenv('DOCKER_CONTAINER_MOUNT_POINT') +'/../:/workspace:rw '+ \\\n",
    "'-v /var/run/docker.sock:/var/run/docker.sock '+ \\\n",
    "signed_in_az_cli_image+ ' '+\\\n",
    "'/bin/bash  -c ' \n",
    "\n",
    "internal_command = '\"'+ \\\n",
    "' : az account list -o table; '+\\\n",
    "'az acr login --name '+os.getenv('ACR_NAME')+ \\\n",
    "' --username '+os.getenv('ACR_USERNAME')+ \\\n",
    "' --password ' + os.getenv('ACR_PASSWORD')+'; '+\\\n",
    "'docker pull '+docker_image_name+'; '+\\\n",
    "'\"'\n",
    "\n",
    "cli_command = cli_base_command+internal_command\n",
    "\n",
    "# cli_command\n",
    "!$cli_command"
   ]
  },
  {
   "cell_type": "markdown",
   "metadata": {},
   "source": [
    "Dockerfile references:  \n",
    "https://github.com/Azure/batch-shipyard/blob/master/images/docker/linux/cli/Dockerfile  \n",
    "https://github.com/matsuu/docker-azure-cli/blob/master/Dockerfile  \n",
    "https://github.com/Azure/azure-cli/blob/dev/Dockerfile  \n",
    "https://github.com/Azure/azure-functions-core-tools#other-linux-distributions  "
   ]
  },
  {
   "cell_type": "code",
   "execution_count": 17,
   "metadata": {},
   "outputs": [
    {
     "name": "stdout",
     "output_type": "stream",
     "text": [
      "Overwriting /workspace/notebooks/docker_files/Dockerfile_azure_batch_shipyard_devito\n"
     ]
    }
   ],
   "source": [
    "%%writefile $docker_file_path \n",
    "\n",
    "# https://hub.docker.com/r/microsoft/azure-cli/dockerfile   \n",
    "FROM debian:latest \n",
    "MAINTAINER George Iordanescu <ghiordan@microsoft.com>\n",
    "\n",
    "# https://github.com/Azure/batch-shipyard/blob/master/images/docker/linux/cli/Dockerfile\n",
    "# https://github.com/Azure/batch-shipyard/blob/master/cargo/Dockerfile\n",
    "RUN apt-get update --fix-missing && apt-get install -y --no-install-recommends \\\n",
    "    python3 python3-pip python3-setuptools \\\n",
    "    ca-certificates curl apt-transport-https lsb-release gnupg openssh-client openssh-server \\\n",
    "    zip unzip \\\n",
    "    wget rsync git && \\\n",
    "    apt-get clean && \\\n",
    "    rm -rf /var/lib/apt/lists/*   && \\\n",
    "    git clone https://github.com/Azure/batch-shipyard.git /opt/batch-shipyard && \\\n",
    "    cd /opt/batch-shipyard && \\\n",
    "    rm -rf .git .github .vsts && \\\n",
    "    rm -f .git* .travis.yml *.yml install*  && \\\n",
    "    python3 -m pip install --no-cache-dir --upgrade pip  && \\\n",
    "    pip3 install --no-cache-dir -r requirements.txt  && \\\n",
    "    pip3 install --no-cache-dir --no-deps -r req_nodeps.txt && \\\n",
    "    python3 -m compileall -f /opt/batch-shipyard/shipyard.py /opt/batch-shipyard/convoy \n",
    "# ENTRYPOINT [\"/opt/batch-shipyard/shipyard.py\"]\n",
    "\n",
    "# https://docs.microsoft.com/en-us/cli/azure/install-azure-cli-apt?view=azure-cli-latest#no-package-for-your-distribution\n",
    "# ENV AZ_CLI_REPO=stretch   \n",
    "RUN echo \"deb [arch=amd64] https://packages.microsoft.com/repos/azure-cli/ $(lsb_release -sc) main\" | \\\n",
    "    tee /etc/apt/sources.list.d/azure-cli.list && \\\n",
    "    curl -L https://packages.microsoft.com/keys/microsoft.asc | apt-key add - && \\\n",
    "    apt-get update && \\\n",
    "    apt-get install -y --no-install-recommends \\\n",
    "    azure-cli \n",
    "\n",
    "# https://github.com/Azure/azure-functions-core-tools\n",
    "ENV AzFunctionsCoreTools_DIR /azure-functions-cli\n",
    "RUN mkdir /tmp/AzFunctionsCoreTools3 && \\\n",
    "    mkdir -p $AzFunctionsCoreTools_DIR && \\\n",
    "    cd /tmp/AzFunctionsCoreTools3 && \\\n",
    "    wget --quiet --no-check-certificate \\\n",
    "    https://github.com/Azure/azure-functions-core-tools/releases/download/2.7.2100/Azure.Functions.Cli.linux-x64.2.7.2100.zip  && \\\n",
    "    unzip  -qq -d $AzFunctionsCoreTools_DIR Azure.Functions.Cli.linux-x64.*.zip && \\\n",
    "    rm -f Azure.Functions.Cli.linux-x64.*.zip && \\\n",
    "    cd $AzFunctionsCoreTools_DIR && \\\n",
    "    chmod +x func\n",
    "ENV PATH=$AzFunctionsCoreTools_DIR:$PATH    "
   ]
  },
  {
   "cell_type": "code",
   "execution_count": 18,
   "metadata": {},
   "outputs": [
    {
     "data": {
      "text/plain": [
       "'docker build -t fwi01acr.azurecr.io/azure_batch_shipyard_devito -f /workspace/notebooks/docker_files/Dockerfile_azure_batch_shipyard_devito /workspace/notebooks/docker_build  '"
      ]
     },
     "execution_count": 18,
     "metadata": {},
     "output_type": "execute_result"
    }
   ],
   "source": [
    "cli_command='docker build -t '+ docker_image_name + \\\n",
    "' -f ' + docker_file_path + \\\n",
    "' ' + docker_build_dir + ' ' +\\\n",
    "docker_build_no_cache  + ' ' \n",
    "#  ' --target AzureBatchShipyardAzCliAzFunctionsCoreTools'\n",
    "\n",
    "cli_command\n",
    "# docker_build_response = ! $cli_command\n",
    "\n",
    "# docker_build_response[0:5] \n",
    "# docker_build_response[-5:]"
   ]
  },
  {
   "cell_type": "code",
   "execution_count": 19,
   "metadata": {},
   "outputs": [
    {
     "name": "stdout",
     "output_type": "stream",
     "text": [
      "Sending build context to Docker daemon  3.631kB\n",
      "Step 1/7 : FROM debian:latest\n",
      " ---> 5971ee6076a0\n",
      "Step 2/7 : MAINTAINER George Iordanescu <ghiordan@microsoft.com>\n",
      " ---> Using cache\n",
      " ---> aba5797969a3\n",
      "Step 3/7 : RUN apt-get update --fix-missing && apt-get install -y --no-install-recommends     python3 python3-pip python3-setuptools     ca-certificates curl apt-transport-https lsb-release gnupg openssh-client openssh-server     zip unzip     wget rsync git &&     apt-get clean &&     rm -rf /var/lib/apt/lists/*   &&     git clone https://github.com/Azure/batch-shipyard.git /opt/batch-shipyard &&     cd /opt/batch-shipyard &&     rm -rf .git .github .vsts &&     rm -f .git* .travis.yml *.yml install*  &&     python3 -m pip install --no-cache-dir --upgrade pip  &&     pip3 install --no-cache-dir -r requirements.txt  &&     pip3 install --no-cache-dir --no-deps -r req_nodeps.txt &&     python3 -m compileall -f /opt/batch-shipyard/shipyard.py /opt/batch-shipyard/convoy\n",
      " ---> Using cache\n",
      " ---> 123d6b797c67\n",
      "Step 4/7 : RUN echo \"deb [arch=amd64] https://packages.microsoft.com/repos/azure-cli/ $(lsb_release -sc) main\" |     tee /etc/apt/sources.list.d/azure-cli.list &&     curl -L https://packages.microsoft.com/keys/microsoft.asc | apt-key add - &&     apt-get update &&     apt-get install -y --no-install-recommends     azure-cli\n",
      " ---> Using cache\n",
      " ---> 36865756be53\n",
      "Step 5/7 : ENV AzFunctionsCoreTools_DIR /azure-functions-cli\n",
      " ---> Using cache\n",
      " ---> 1c0b5c845bb2\n",
      "Step 6/7 : RUN mkdir /tmp/AzFunctionsCoreTools3 &&     mkdir -p $AzFunctionsCoreTools_DIR &&     cd /tmp/AzFunctionsCoreTools3 &&     wget --quiet --no-check-certificate     https://github.com/Azure/azure-functions-core-tools/releases/download/2.7.2100/Azure.Functions.Cli.linux-x64.2.7.2100.zip  &&     unzip  -qq -d $AzFunctionsCoreTools_DIR Azure.Functions.Cli.linux-x64.*.zip &&     rm -f Azure.Functions.Cli.linux-x64.*.zip &&     cd $AzFunctionsCoreTools_DIR &&     chmod +x func\n",
      " ---> Using cache\n",
      " ---> 375c17832bdc\n",
      "Step 7/7 : ENV PATH=$AzFunctionsCoreTools_DIR:$PATH\n",
      " ---> Using cache\n",
      " ---> d09c46b6a333\n",
      "Successfully built d09c46b6a333\n",
      "Successfully tagged fwi01acr.azurecr.io/azure_batch_shipyard_devito:latest\n"
     ]
    }
   ],
   "source": [
    "! $cli_command"
   ]
  },
  {
   "cell_type": "markdown",
   "metadata": {},
   "source": [
    "##### Build base docker image\n",
    " - use control plane docker image just built above\n",
    " - build azure_batch_shipyard_devito_base_image_name defined by src/AzureBatch/docker/base_image/Dockerfile\n",
    " - creates public and private ssh keys in /root/.ssh/ in azure_batch_shipyard_devito_base_image_name docker image\n",
    " - cp /root/.ssh/id_rsa.pub /root/.ssh/authorized_keys"
   ]
  },
  {
   "cell_type": "code",
   "execution_count": 20,
   "metadata": {},
   "outputs": [
    {
     "data": {
      "text/plain": [
       "'/workspace/notebooks/./not_shared/azuredevitogatechssh'"
      ]
     },
     "execution_count": 20,
     "metadata": {},
     "output_type": "execute_result"
    },
    {
     "data": {
      "text/plain": [
       "'/datadrive01/prj/Azure2019/notebooks/./not_shared/azuredevitogatechssh'"
      ]
     },
     "execution_count": 20,
     "metadata": {},
     "output_type": "execute_result"
    }
   ],
   "source": [
    "# these two paths point to the same location, one inside this control plane container and one on host VM\n",
    "os.path.join(*([os.getcwd()]+ SSH_KEYS_FILE_PATH))\n",
    "os.path.join(*([os.getenv('DOCKER_CONTAINER_MOUNT_POINT')]+ SSH_KEYS_FILE_PATH))"
   ]
  },
  {
   "cell_type": "code",
   "execution_count": 21,
   "metadata": {},
   "outputs": [
    {
     "data": {
      "text/plain": [
       "'docker run -it --rm --name azure-cli_container01 -v /datadrive01/prj/Azure2019/notebooks/../:/workspace:rw -v /datadrive01/prj/Azure2019/notebooks/./not_shared/azuredevitogatechssh:/root/.ssh:ro -v /usr/bin/docker:/usr/bin/docker -v /var/run/docker.sock:/var/run/docker.sock fwi01acr.azurecr.io/azure_batch_shipyard_devito /bin/bash -c \"cd /workspace/src/AzureBatch/docker/base_image/ &&  docker build -t devito_azure_base:v1.0 .\"'"
      ]
     },
     "execution_count": 21,
     "metadata": {},
     "output_type": "execute_result"
    },
    {
     "name": "stdout",
     "output_type": "stream",
     "text": [
      "Sending build context to Docker daemon  4.096kB\n",
      "Step 1/9 : FROM ubuntu:18.04\n",
      " ---> c3c304cb4f22\n",
      "Step 2/9 : COPY ssh_config /root/.ssh/config\n",
      " ---> Using cache\n",
      " ---> 75467d41bb0c\n",
      "Step 3/9 : RUN apt-get update     && apt-get install -y --no-install-recommends         build-essential ca-certificates wget openssh-client openssh-server         mpich libmpich-dev     && mkdir -p /var/run/sshd     && ssh-keygen -A     && sed -i 's/UsePAM yes/UsePAM no/g' /etc/ssh/sshd_config     && sed -i 's/#PermitRootLogin yes/PermitRootLogin yes/g' /etc/ssh/sshd_config     && sed -i 's/#RSAAuthentication yes/RSAAuthentication yes/g' /etc/ssh/sshd_config     && sed -i 's/#PubkeyAuthentication yes/PubkeyAuthentication yes/g' /etc/ssh/sshd_config     && ssh-keygen -f /root/.ssh/id_rsa -t rsa -N ''     && chmod 600 /root/.ssh/config     && chmod 700 /root/.ssh     && cp /root/.ssh/id_rsa.pub /root/.ssh/authorized_keys\n",
      " ---> Using cache\n",
      " ---> fce182246f17\n",
      "Step 4/9 : RUN apt-get install -y htop vim git-core\n",
      " ---> Using cache\n",
      " ---> d21f27d8bb5f\n",
      "Step 5/9 : RUN apt-get install -y python3 python3-pip\n",
      " ---> Using cache\n",
      " ---> d4b36f889124\n",
      "Step 6/9 : RUN pip3 install --upgrade pip\n",
      " ---> Using cache\n",
      " ---> 08e506afb8a8\n",
      "Step 7/9 : RUN pip3 install --upgrade git+https://github.com/opesci/devito.git\n",
      " ---> Using cache\n",
      " ---> 8eb3d477338c\n",
      "Step 8/9 : RUN pip3 install mpi4py matplotlib\n",
      " ---> Using cache\n",
      " ---> bfe37813a8de\n",
      "Step 9/9 : RUN rm -rf /var/lib/apt/lists/* \t&& apt-get clean\n",
      " ---> Using cache\n",
      " ---> 0828c2efe8d1\n",
      "Successfully built 0828c2efe8d1\n",
      "Successfully tagged devito_azure_base:v1.0\n"
     ]
    }
   ],
   "source": [
    "cli_base_command='docker run '+ \\\n",
    "'-it '+ \\\n",
    "'--rm '+ \\\n",
    "'--name azure-cli_container01 '+ \\\n",
    "'-v '+ os.getenv('DOCKER_CONTAINER_MOUNT_POINT') +'/../:/workspace:rw '+ \\\n",
    "'-v '+os.path.join(*([os.getenv('DOCKER_CONTAINER_MOUNT_POINT')]+ SSH_KEYS_FILE_PATH))+':/root/.ssh:ro '+ \\\n",
    "'-v /usr/bin/docker:/usr/bin/docker '+ \\\n",
    "'-v /var/run/docker.sock:/var/run/docker.sock '+ \\\n",
    "docker_image_name + ' '+ \\\n",
    "'/bin/bash -c ' \n",
    "\n",
    "image_name = azure_batch_shipyard_devito_base_image_name\n",
    "sibling_docker_build_command = '\"cd /workspace/src/AzureBatch/docker/base_image/ &&  docker build -t '+\\\n",
    "image_name + ' .\"'\n",
    "# sibling_docker_build_command = '\"ls -la /root/.ssh/; cat /root/.ssh/id_rsa.pub\"'\n",
    "cli_command = cli_base_command+sibling_docker_build_command\n",
    "cli_command\n",
    "\n",
    "!$cli_command"
   ]
  },
  {
   "cell_type": "markdown",
   "metadata": {},
   "source": [
    "##### Build tti docker image\n",
    " - use azure_batch_shipyard_devito_base_image_name docker image just built above\n",
    " - build azure_batch_shipyard_devito_tti_image_name defined by src/AzureBatch/docker/tti_image/Dockerfile\n",
    " - uses /root/.ssh/authorized_keys created above in azure_batch_shipyard_devito_base_image_name docker image"
   ]
  },
  {
   "cell_type": "code",
   "execution_count": 22,
   "metadata": {},
   "outputs": [
    {
     "data": {
      "text/plain": [
       "'docker run -it --rm --name azure-cli_container01 -v /datadrive01/prj/Azure2019/notebooks/../:/workspace:rw -v /datadrive01/prj/Azure2019/notebooks/./not_shared/azuredevitogatechssh:/root/.ssh:ro -v /usr/bin/docker:/usr/bin/docker -v /var/run/docker.sock:/var/run/docker.sock devito_azure_base:v1.0 /bin/bash -c \"cd /workspace/src/AzureBatch/docker/tti_image/ &&  docker build -t devito_azure_tti:v1.0 .\"'"
      ]
     },
     "execution_count": 22,
     "metadata": {},
     "output_type": "execute_result"
    },
    {
     "name": "stdout",
     "output_type": "stream",
     "text": [
      "Sending build context to Docker daemon  103.9kB\n",
      "Step 1/6 : FROM devito_azure_base:v1.0\n",
      " ---> 0828c2efe8d1\n",
      "Step 2/6 : RUN pip3 install azure-storage-blob h5py segyio boto3\n",
      " ---> Using cache\n",
      " ---> da73990948a5\n",
      "Step 3/6 : RUN pip3 install azure-storage-queue\n",
      " ---> Using cache\n",
      " ---> 361861fda896\n",
      "Step 4/6 : ADD ./tti /app/tti\n",
      " ---> 38a673faff00\n",
      "Step 5/6 : EXPOSE 23\n",
      " ---> Running in ab3ec6ff3b7d\n",
      "Removing intermediate container ab3ec6ff3b7d\n",
      " ---> 2a40ca340662\n",
      "Step 6/6 : CMD [\"/usr/sbin/sshd\", \"-D\", \"-p\", \"23\"]\n",
      " ---> Running in e09502015464\n",
      "Removing intermediate container e09502015464\n",
      " ---> abd952896243\n",
      "Successfully built abd952896243\n",
      "Successfully tagged devito_azure_tti:v1.0\n"
     ]
    }
   ],
   "source": [
    "cli_base_command='docker run '+ \\\n",
    "'-it '+ \\\n",
    "'--rm '+ \\\n",
    "'--name azure-cli_container01 '+ \\\n",
    "'-v '+ os.getenv('DOCKER_CONTAINER_MOUNT_POINT') +'/../:/workspace:rw '+ \\\n",
    "'-v '+os.path.join(*([os.getenv('DOCKER_CONTAINER_MOUNT_POINT')]+ SSH_KEYS_FILE_PATH))+':/root/.ssh:ro '+ \\\n",
    "'-v /usr/bin/docker:/usr/bin/docker '+ \\\n",
    "'-v /var/run/docker.sock:/var/run/docker.sock '+ \\\n",
    "azure_batch_shipyard_devito_base_image_name + ' '+ \\\n",
    "'/bin/bash -c ' \n",
    "\n",
    "image_name = azure_batch_shipyard_devito_tti_image_name\n",
    "sibling_docker_build_command = '\"cd /workspace/src/AzureBatch/docker/tti_image/ &&  docker build -t '+\\\n",
    "image_name + ' .\"'\n",
    "cli_command = cli_base_command+sibling_docker_build_command\n",
    "cli_command\n",
    "!$cli_command"
   ]
  },
  {
   "cell_type": "markdown",
   "metadata": {},
   "source": [
    "##### Use control plane docker image to self push into ACR"
   ]
  },
  {
   "cell_type": "code",
   "execution_count": 23,
   "metadata": {},
   "outputs": [
    {
     "name": "stdout",
     "output_type": "stream",
     "text": [
      "Login Succeeded\n",
      "\u001b[33mWARNING! Your password will be stored unencrypted in /root/.docker/config.json.\n",
      "Configure a credential helper to remove this warning. See\n",
      "https://docs.docker.com/engine/reference/commandline/login/#credentials-store\u001b[0m\n",
      "\u001b[0mThe push refers to repository [fwi01acr.azurecr.io/azure_batch_shipyard_devito]\n",
      "\n",
      "\u001b[1Bbbab32fb: Preparing \n",
      "\u001b[1B270c7ff0: Preparing \n",
      "\u001b[1Bb4e9064e: Preparing \n",
      "\u001b[2Bb4e9064e: Layer already exists \u001b[3A\u001b[2K\u001b[2A\u001b[2Klatest: digest: sha256:dd9388ca40a80501bec3be1263e9bf6d81f760cbbe927cd41dabf3a2d74b0aff size: 1167\n",
      "The push refers to repository [fwi01acr.azurecr.io/devito_azure_base]\n",
      "\n",
      "\u001b[1Bdf26e69b: Preparing \n",
      "\u001b[1Ba9acae29: Preparing \n",
      "\u001b[1B44ec2c9b: Preparing \n",
      "\u001b[1B40a4f1b8: Preparing \n",
      "\u001b[1B3da284a1: Preparing \n",
      "\u001b[1B634933f0: Preparing \n",
      "\u001b[1Bd316eba1: Preparing \n",
      "\u001b[1B5d360461: Preparing \n",
      "\u001b[1B7458d04b: Preparing \n",
      "\u001b[1B37a24627: Preparing \n",
      "\u001b[1Bef4a95c3: Preparing \n",
      "\u001b[1Bd2967507: Layer already exists \u001b[9A\u001b[2K\u001b[10A\u001b[2K\u001b[11A\u001b[2K\u001b[6A\u001b[2K\u001b[5A\u001b[2K\u001b[3A\u001b[2Kv1.0: digest: sha256:ea26cf8289c3986a6bf17e4be77ed02f3cccdaee332f19ccfc4597a2a922c2f4 size: 2839\n",
      "The push refers to repository [fwi01acr.azurecr.io/devito_azure_tti]\n",
      "\n",
      "\u001b[1B60b618fd: Preparing \n",
      "\u001b[1Bd6bf4151: Preparing \n",
      "\u001b[1B2fd502bb: Preparing \n",
      "\u001b[1Bdf26e69b: Preparing \n",
      "\u001b[1Ba9acae29: Preparing \n",
      "\u001b[1B44ec2c9b: Preparing \n",
      "\u001b[1B40a4f1b8: Preparing \n",
      "\u001b[1B3da284a1: Preparing \n",
      "\u001b[1B634933f0: Preparing \n",
      "\u001b[1Bd316eba1: Preparing \n",
      "\u001b[1B5d360461: Preparing \n",
      "\u001b[1B7458d04b: Preparing \n",
      "\u001b[1B37a24627: Preparing \n",
      "\u001b[1Bef4a95c3: Preparing \n",
      "\u001b[15B0b618fd: Pushed lready exists kB\u001b[15A\u001b[2K\u001b[12A\u001b[2K\u001b[14A\u001b[2K\u001b[10A\u001b[2K\u001b[7A\u001b[2K\u001b[5A\u001b[2K\u001b[1A\u001b[2K\u001b[3A\u001b[2K\u001b[4A\u001b[2K\u001b[2A\u001b[2K\u001b[15A\u001b[2Kv1.0: digest: sha256:c678e3b75366307c6e8ec2e4c49b6c6e8fea9719f48af2b35924be7314d3b8d3 size: 3470\n"
     ]
    }
   ],
   "source": [
    "full_azure_batch_shipyard_devito_base_image_name=docker_repo_name+ '/' + azure_batch_shipyard_devito_base_image_name\n",
    "full_azure_batch_shipyard_devito_tti_image_name=docker_repo_name+ '/' + azure_batch_shipyard_devito_tti_image_name\n",
    "\n",
    "cli_base_command='docker run '+ \\\n",
    "'-it '+ \\\n",
    "'--rm '+ \\\n",
    "'--name azure-cli_container01 '+ \\\n",
    "'-v '+ os.getenv('DOCKER_CONTAINER_MOUNT_POINT') +'/../:/workspace:rw '+ \\\n",
    "'-v /var/run/docker.sock:/var/run/docker.sock '+ \\\n",
    "signed_in_az_cli_image + ' '+ \\\n",
    "'/bin/bash -c ' \n",
    "\n",
    "\n",
    "internal_command = '\"'+ \\\n",
    "'az acr login --name '+os.getenv('ACR_NAME')+ \\\n",
    "' --username '+os.getenv('ACR_USERNAME')+ \\\n",
    "' --password ' + os.getenv('ACR_PASSWORD')+'; '+\\\n",
    "'docker push '+docker_image_name+'; '+\\\n",
    "'docker tag '+ azure_batch_shipyard_devito_base_image_name+' '+ full_azure_batch_shipyard_devito_base_image_name+'; '+\\\n",
    "'docker tag '+ azure_batch_shipyard_devito_tti_image_name+' '+ full_azure_batch_shipyard_devito_tti_image_name+'; '+\\\n",
    "'docker push '+full_azure_batch_shipyard_devito_base_image_name+'; '+\\\n",
    "'docker push '+full_azure_batch_shipyard_devito_tti_image_name+'; '+\\\n",
    "'\"'\n",
    "cli_command = cli_base_command+internal_command\n",
    "# cli_command\n",
    "!$cli_command"
   ]
  },
  {
   "cell_type": "code",
   "execution_count": 24,
   "metadata": {},
   "outputs": [
    {
     "data": {
      "text/plain": [
       "'docker tag fwi01acr.azurecr.io/azure_batch_shipyard_devito georgedockeraccount/azure_batch_shipyard_devito'"
      ]
     },
     "execution_count": 24,
     "metadata": {},
     "output_type": "execute_result"
    },
    {
     "name": "stdout",
     "output_type": "stream",
     "text": [
      "WARNING! Using --password via the CLI is insecure. Use --password-stdin.\n",
      "WARNING! Your password will be stored unencrypted in /root/.docker/config.json.\n",
      "Configure a credential helper to remove this warning. See\n",
      "https://docs.docker.com/engine/reference/commandline/login/#credentials-store\n",
      "\n",
      "Login Succeeded\n",
      "The push refers to repository [docker.io/georgedockeraccount/azure_batch_shipyard_devito]\n",
      "An image does not exist locally with the tag: georgedockeraccount/azure_batch_shipyard_devito\n"
     ]
    }
   ],
   "source": [
    "if use_ACR_and_dockerhub:\n",
    "    control_plane_docker_image_dockerhub_name = os.getenv('DOCKERHUB_LOGIN')+ '/' + docker_image_name_only\n",
    "    cli_command='docker tag '+ docker_image_name+' '+ control_plane_docker_image_dockerhub_name\n",
    "    cli_command\n",
    "\n",
    "    docker_pwd = os.getenv('DOCKERHUB_PWD')\n",
    "    docker_login = os.getenv('DOCKERHUB_LOGIN')\n",
    "    !docker login -u=$docker_login -p=$docker_pwd\n",
    "    !docker push {control_plane_docker_image_dockerhub_name}\n",
    " "
   ]
  },
  {
   "cell_type": "code",
   "execution_count": 25,
   "metadata": {},
   "outputs": [],
   "source": [
    "# !docker image ls\n",
    "# !docker tag fwi01acr.azurecr.io/azure_batch_shipyard_devito georgedockeraccount/azure_batch_shipyard_devito\n",
    "# !docker image ls\n",
    "# !docker push georgedockeraccount/azure_batch_shipyard_devito"
   ]
  },
  {
   "cell_type": "code",
   "execution_count": null,
   "metadata": {},
   "outputs": [],
   "source": []
  }
 ],
 "metadata": {
  "kernelspec": {
   "display_name": "Python 3",
   "language": "python",
   "name": "python3"
  },
  "language_info": {
   "codemirror_mode": {
    "name": "ipython",
    "version": 3
   },
   "file_extension": ".py",
   "mimetype": "text/x-python",
   "name": "python",
   "nbconvert_exporter": "python",
   "pygments_lexer": "ipython3",
   "version": "3.7.7"
  }
 },
 "nbformat": 4,
 "nbformat_minor": 2
}
